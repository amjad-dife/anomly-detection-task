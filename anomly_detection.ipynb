{
  "nbformat": 4,
  "nbformat_minor": 0,
  "metadata": {
    "colab": {
      "name": "Copy of Smart Cities Assignment3.ipynb",
      "provenance": [],
      "collapsed_sections": []
    },
    "kernelspec": {
      "name": "python3",
      "display_name": "Python 3"
    },
    "language_info": {
      "name": "python"
    },
    "widgets": {
      "application/vnd.jupyter.widget-state+json": {
        "70441cd28eb74729bbf399c8c85380ac": {
          "model_module": "@jupyter-widgets/controls",
          "model_name": "VBoxModel",
          "model_module_version": "1.5.0",
          "state": {
            "_dom_classes": [
              "widget-interact"
            ],
            "_model_module": "@jupyter-widgets/controls",
            "_model_module_version": "1.5.0",
            "_model_name": "VBoxModel",
            "_view_count": null,
            "_view_module": "@jupyter-widgets/controls",
            "_view_module_version": "1.5.0",
            "_view_name": "VBoxView",
            "box_style": "",
            "children": [
              "IPY_MODEL_0f6eb0d0fff34db7981dd3583526e42b",
              "IPY_MODEL_beef4c0d986946f1b301c326538c163c"
            ],
            "layout": "IPY_MODEL_12061e16d2a9412b9f29944c0a08e820"
          }
        },
        "0f6eb0d0fff34db7981dd3583526e42b": {
          "model_module": "@jupyter-widgets/controls",
          "model_name": "ToggleButtonsModel",
          "model_module_version": "1.5.0",
          "state": {
            "_dom_classes": [],
            "_model_module": "@jupyter-widgets/controls",
            "_model_module_version": "1.5.0",
            "_model_name": "ToggleButtonsModel",
            "_options_labels": [
              "Anomaly TSnE (3d)",
              "UMAP Dimensionality"
            ],
            "_view_count": null,
            "_view_module": "@jupyter-widgets/controls",
            "_view_module_version": "1.5.0",
            "_view_name": "ToggleButtonsView",
            "button_style": "",
            "description": "Plot Type:",
            "description_tooltip": null,
            "disabled": false,
            "icons": [
              ""
            ],
            "index": 0,
            "layout": "IPY_MODEL_aa32564d3ab240e795b39ed796c11acb",
            "style": "IPY_MODEL_d9890b06a0834476bf548bfc70acc9a9",
            "tooltips": []
          }
        },
        "beef4c0d986946f1b301c326538c163c": {
          "model_module": "@jupyter-widgets/output",
          "model_name": "OutputModel",
          "model_module_version": "1.0.0",
          "state": {
            "_dom_classes": [],
            "_model_module": "@jupyter-widgets/output",
            "_model_module_version": "1.0.0",
            "_model_name": "OutputModel",
            "_view_count": null,
            "_view_module": "@jupyter-widgets/output",
            "_view_module_version": "1.0.0",
            "_view_name": "OutputView",
            "layout": "IPY_MODEL_f7d14198c4424e7b83def274913337b4",
            "msg_id": "",
            "outputs": [
              {
                "output_type": "display_data",
                "data": {
                  "text/html": "<html>\n<head><meta charset=\"utf-8\" /></head>\n<body>\n    <div>            <script src=\"https://cdnjs.cloudflare.com/ajax/libs/mathjax/2.7.5/MathJax.js?config=TeX-AMS-MML_SVG\"></script><script type=\"text/javascript\">if (window.MathJax) {MathJax.Hub.Config({SVG: {font: \"STIX-Web\"}});}</script>                <script type=\"text/javascript\">window.PlotlyConfig = {MathJaxConfig: 'local'};</script>\n        <script src=\"https://cdn.plot.ly/plotly-2.8.3.min.js\"></script>                <div id=\"08d55ef6-ba3d-4bd8-9b42-f7bbf7282989\" class=\"plotly-graph-div\" style=\"height:800px; width:900px;\"></div>            <script type=\"text/javascript\">                                    window.PLOTLYENV=window.PLOTLYENV || {};                                    if (document.getElementById(\"08d55ef6-ba3d-4bd8-9b42-f7bbf7282989\")) {                    Plotly.newPlot(                        \"08d55ef6-ba3d-4bd8-9b42-f7bbf7282989\",                        [{\"customdata\":[[-1.042569637298584],[-1.0569860935211182],[-1.0718579292297363],[-1.0845177173614502],[-0.9748108386993408],[-0.8082889914512634],[-0.7321016192436218],[-0.4991328120231628],[-0.3721775114536285],[-0.3452838361263275],[-0.4126873314380646],[-0.5583282113075256],[-0.7400768399238586],[-0.9520395398139954],[-1.166375756263733],[-1.3580330610275269],[-1.4299689531326294],[-1.448888063430786],[-1.4551920890808103],[-1.4719200134277344],[-1.4838628768920898],[-1.492546319961548],[-1.505098819732666],[-1.5338690280914309],[-1.5548322200775146],[-1.551674246788025],[-1.3465332984924316],[-0.9393476247787476],[-0.6119886636734009],[-0.2900940775871277],[0.0467687733471393],[0.360846608877182],[0.432355672121048],[0.4128997325897217],[0.4634924530982971],[0.4626893699169159],[0.4433625936508178],[0.4072152376174927],[0.1603015959262848],[-0.0629786252975463],[-0.3000729382038116],[-0.5238960385322571],[-0.7362663149833679],[-0.9378376603126526],[-1.13489830493927],[-1.3158025741577148],[-1.4059693813323977],[-1.450811743736267],[-1.4787224531173706],[-1.4894156455993652],[-1.4783046245574951],[-1.4705097675323486],[-1.455390214920044],[-1.473668932914734],[-1.465978980064392],[-1.3847979307174685],[-1.092218279838562],[-0.7926028370857239],[-0.5931138396263123],[-0.4452607333660126],[-0.3598239123821258],[-0.3868025541305542],[-0.5009125471115112],[-0.6529414057731628],[-0.8406859636306763],[-1.051345705986023],[-1.2731682062149048],[-1.4007362127304075],[-1.44389545917511],[-1.4653031826019287],[-1.469455599784851],[-1.4827409982681274],[-1.4936180114746094],[-1.5353230237960815],[-1.6015911102294922],[-1.5561386346817017],[-1.2002670764923096],[-0.768366277217865],[-0.5443164706230164],[-0.4654771089553833],[-0.5273060202598572],[-0.6730248928070068],[-0.8732708692550659],[-1.117473602294922],[-1.3448522090911863],[-1.4430913925170898],[-1.4576778411865234],[-1.443233609199524],[-1.4318811893463137],[-1.4582141637802124],[-1.4981333017349243],[-1.5354251861572266],[-1.5654234886169434],[-1.559131383895874],[-1.496434450149536],[-1.4676059484481812],[-1.4205511808395386],[-1.2465168237686155]],\"hovertemplate\":\"0=%{x}<br>1=%{y}<br>2=%{z}<br>Feature=%{customdata[0]}<br>Anomaly=%{marker.color}<extra></extra>\",\"legendgroup\":\"\",\"marker\":{\"color\":[0,0,0,0,0,0,0,0,0,0,0,0,0,0,0,0,0,0,0,0,0,0,0,0,0,0,0,0,0,0,0,0,0,0,0,0,0,1,0,0,0,0,0,0,0,0,0,0,0,0,0,0,0,0,0,0,0,0,0,0,0,0,0,0,0,0,0,0,0,0,0,0,0,0,0,0,0,0,0,0,0,0,0,0,0,0,0,0,1,1,0,1,0,0,0,0,0,0],\"coloraxis\":\"coloraxis\",\"opacity\":0.7,\"symbol\":\"circle\"},\"mode\":\"markers\",\"name\":\"\",\"scene\":\"scene\",\"showlegend\":false,\"x\":[144.70514,-111.42681,19.14813,40.011368,-17.586752,46.564857,-16.459808,-51.675007,-21.010195,-53.152687,-133.95094,4.322438,-176.72403,43.170597,-45.359997,-62.04978,-38.04766,-25.601624,-5.860788,6.8818307,62.293407,41.884777,98.68025,-16.248293,97.88884,100.95844,49.477642,14.3516865,38.816944,-114.44394,-203.734,-50.258087,-74.88738,-190.84448,-163.77556,-133.54393,-139.43396,-137.53975,-76.10026,-116.417274,-67.92163,9.404833,-143.97995,-13.806192,-27.245674,-107.862114,-56.1182,25.129967,31.728447,-9.135187,4.096329,143.26097,69.475395,67.02653,87.95024,5.405544,102.11476,-16.702723,-12.912723,-108.625824,-61.92091,-23.846313,-82.166245,-38.565468,-82.73169,145.971,119.811386,-72.462654,212.03319,46.821877,165.43863,107.80901,122.70313,61.038265,114.49108,15.534071,-45.575405,-2.153279,-70.57522,-87.31204,-92.76618,-125.43848,-145.12166,-28.793694,-2.343759,30.837397,186.20992,49.910393,101.18778,128.45177,162.98877,-57.385265,174.70142,152.72961,-135.10033,79.317055,90.67649,52.00845],\"y\":[-13.80098,51.86088,-39.909477,-71.36653,-54.156685,-127.96665,-149.92848,-109.06654,-77.83046,-50.49224,-57.49965,28.061571,-47.15511,-67.54491,97.9434,91.55123,141.91826,102.60603,155.39133,202.98003,-45.329952,27.066544,2.9145992,-85.69038,-56.625355,-67.81877,83.74076,-126.614105,-122.315216,-9.659225,34.833366,-45.113705,-143.92506,92.683205,35.728085,94.165665,68.45783,-125.81958,-93.15269,-10.019401,31.62247,-27.770561,2.3591018,-208.0274,110.871445,-58.758762,75.06688,100.38991,105.065895,166.66809,-19.777004,-20.850645,-21.538761,-17.867756,34.950954,6.209204,138.0668,-151.97224,-123.59218,-74.53437,-34.736443,-7.591906,14.058864,23.304373,14.990003,-11.065073,-137.01799,145.40842,-0.25751978,160.30547,52.54545,-72.4871,-68.734344,38.083496,6.7648044,30.471497,-11.697924,-80.04864,-125.616455,-78.4366,-37.248863,-33.622807,-98.95877,38.544704,85.41809,138.87993,-30.221766,-102.83708,83.85641,113.396935,84.50345,31.05314,105.85244,50.571564,86.833145,11.550206,57.575645,-15.158698],\"z\":[-61.020855,124.65318,102.86512,55.095016,45.62811,-8.730249,-99.74863,-127.91129,-86.83663,-45.951603,-50.783726,-104.50378,1.7830521,-161.05176,-117.159,5.018142,41.24332,-46.638325,-20.393475,13.435219,-33.191418,-22.652668,-11.093556,116.7108,43.380894,-86.40633,106.43364,47.611847,-77.20639,-158.57025,2.2894025,-190.29025,68.62518,29.016697,58.122345,51.177166,-7.7574835,-75.64693,9.434562,-84.59692,-89.80533,-125.5664,-20.696747,-52.60632,104.29809,106.21997,62.802048,-84.09228,-20.446753,-81.72267,176.16753,13.066071,141.80049,80.77766,114.74142,60.167084,-14.435103,3.0748436,-48.450577,-129.78477,-107.16171,-62.063488,-36.279995,-148.34859,32.036507,153.06602,40.83197,-21.994934,11.471948,-52.57011,68.26947,106.10157,-16.905405,54.78136,64.82078,117.09138,95.753395,-15.711943,-47.799747,-76.69079,-11.39258,38.711544,21.96075,-2.6436045,34.00804,37.008736,73.1285,157.35507,-76.244965,46.440937,-64.876686,169.51048,-2.8988564,-12.352625,-89.205505,-72.243675,5.274147,20.833334],\"type\":\"scatter3d\"}],                        {\"template\":{\"data\":{\"bar\":[{\"error_x\":{\"color\":\"#2a3f5f\"},\"error_y\":{\"color\":\"#2a3f5f\"},\"marker\":{\"line\":{\"color\":\"#E5ECF6\",\"width\":0.5},\"pattern\":{\"fillmode\":\"overlay\",\"size\":10,\"solidity\":0.2}},\"type\":\"bar\"}],\"barpolar\":[{\"marker\":{\"line\":{\"color\":\"#E5ECF6\",\"width\":0.5},\"pattern\":{\"fillmode\":\"overlay\",\"size\":10,\"solidity\":0.2}},\"type\":\"barpolar\"}],\"carpet\":[{\"aaxis\":{\"endlinecolor\":\"#2a3f5f\",\"gridcolor\":\"white\",\"linecolor\":\"white\",\"minorgridcolor\":\"white\",\"startlinecolor\":\"#2a3f5f\"},\"baxis\":{\"endlinecolor\":\"#2a3f5f\",\"gridcolor\":\"white\",\"linecolor\":\"white\",\"minorgridcolor\":\"white\",\"startlinecolor\":\"#2a3f5f\"},\"type\":\"carpet\"}],\"choropleth\":[{\"colorbar\":{\"outlinewidth\":0,\"ticks\":\"\"},\"type\":\"choropleth\"}],\"contour\":[{\"colorbar\":{\"outlinewidth\":0,\"ticks\":\"\"},\"colorscale\":[[0.0,\"#0d0887\"],[0.1111111111111111,\"#46039f\"],[0.2222222222222222,\"#7201a8\"],[0.3333333333333333,\"#9c179e\"],[0.4444444444444444,\"#bd3786\"],[0.5555555555555556,\"#d8576b\"],[0.6666666666666666,\"#ed7953\"],[0.7777777777777778,\"#fb9f3a\"],[0.8888888888888888,\"#fdca26\"],[1.0,\"#f0f921\"]],\"type\":\"contour\"}],\"contourcarpet\":[{\"colorbar\":{\"outlinewidth\":0,\"ticks\":\"\"},\"type\":\"contourcarpet\"}],\"heatmap\":[{\"colorbar\":{\"outlinewidth\":0,\"ticks\":\"\"},\"colorscale\":[[0.0,\"#0d0887\"],[0.1111111111111111,\"#46039f\"],[0.2222222222222222,\"#7201a8\"],[0.3333333333333333,\"#9c179e\"],[0.4444444444444444,\"#bd3786\"],[0.5555555555555556,\"#d8576b\"],[0.6666666666666666,\"#ed7953\"],[0.7777777777777778,\"#fb9f3a\"],[0.8888888888888888,\"#fdca26\"],[1.0,\"#f0f921\"]],\"type\":\"heatmap\"}],\"heatmapgl\":[{\"colorbar\":{\"outlinewidth\":0,\"ticks\":\"\"},\"colorscale\":[[0.0,\"#0d0887\"],[0.1111111111111111,\"#46039f\"],[0.2222222222222222,\"#7201a8\"],[0.3333333333333333,\"#9c179e\"],[0.4444444444444444,\"#bd3786\"],[0.5555555555555556,\"#d8576b\"],[0.6666666666666666,\"#ed7953\"],[0.7777777777777778,\"#fb9f3a\"],[0.8888888888888888,\"#fdca26\"],[1.0,\"#f0f921\"]],\"type\":\"heatmapgl\"}],\"histogram\":[{\"marker\":{\"pattern\":{\"fillmode\":\"overlay\",\"size\":10,\"solidity\":0.2}},\"type\":\"histogram\"}],\"histogram2d\":[{\"colorbar\":{\"outlinewidth\":0,\"ticks\":\"\"},\"colorscale\":[[0.0,\"#0d0887\"],[0.1111111111111111,\"#46039f\"],[0.2222222222222222,\"#7201a8\"],[0.3333333333333333,\"#9c179e\"],[0.4444444444444444,\"#bd3786\"],[0.5555555555555556,\"#d8576b\"],[0.6666666666666666,\"#ed7953\"],[0.7777777777777778,\"#fb9f3a\"],[0.8888888888888888,\"#fdca26\"],[1.0,\"#f0f921\"]],\"type\":\"histogram2d\"}],\"histogram2dcontour\":[{\"colorbar\":{\"outlinewidth\":0,\"ticks\":\"\"},\"colorscale\":[[0.0,\"#0d0887\"],[0.1111111111111111,\"#46039f\"],[0.2222222222222222,\"#7201a8\"],[0.3333333333333333,\"#9c179e\"],[0.4444444444444444,\"#bd3786\"],[0.5555555555555556,\"#d8576b\"],[0.6666666666666666,\"#ed7953\"],[0.7777777777777778,\"#fb9f3a\"],[0.8888888888888888,\"#fdca26\"],[1.0,\"#f0f921\"]],\"type\":\"histogram2dcontour\"}],\"mesh3d\":[{\"colorbar\":{\"outlinewidth\":0,\"ticks\":\"\"},\"type\":\"mesh3d\"}],\"parcoords\":[{\"line\":{\"colorbar\":{\"outlinewidth\":0,\"ticks\":\"\"}},\"type\":\"parcoords\"}],\"pie\":[{\"automargin\":true,\"type\":\"pie\"}],\"scatter\":[{\"marker\":{\"colorbar\":{\"outlinewidth\":0,\"ticks\":\"\"}},\"type\":\"scatter\"}],\"scatter3d\":[{\"line\":{\"colorbar\":{\"outlinewidth\":0,\"ticks\":\"\"}},\"marker\":{\"colorbar\":{\"outlinewidth\":0,\"ticks\":\"\"}},\"type\":\"scatter3d\"}],\"scattercarpet\":[{\"marker\":{\"colorbar\":{\"outlinewidth\":0,\"ticks\":\"\"}},\"type\":\"scattercarpet\"}],\"scattergeo\":[{\"marker\":{\"colorbar\":{\"outlinewidth\":0,\"ticks\":\"\"}},\"type\":\"scattergeo\"}],\"scattergl\":[{\"marker\":{\"colorbar\":{\"outlinewidth\":0,\"ticks\":\"\"}},\"type\":\"scattergl\"}],\"scattermapbox\":[{\"marker\":{\"colorbar\":{\"outlinewidth\":0,\"ticks\":\"\"}},\"type\":\"scattermapbox\"}],\"scatterpolar\":[{\"marker\":{\"colorbar\":{\"outlinewidth\":0,\"ticks\":\"\"}},\"type\":\"scatterpolar\"}],\"scatterpolargl\":[{\"marker\":{\"colorbar\":{\"outlinewidth\":0,\"ticks\":\"\"}},\"type\":\"scatterpolargl\"}],\"scatterternary\":[{\"marker\":{\"colorbar\":{\"outlinewidth\":0,\"ticks\":\"\"}},\"type\":\"scatterternary\"}],\"surface\":[{\"colorbar\":{\"outlinewidth\":0,\"ticks\":\"\"},\"colorscale\":[[0.0,\"#0d0887\"],[0.1111111111111111,\"#46039f\"],[0.2222222222222222,\"#7201a8\"],[0.3333333333333333,\"#9c179e\"],[0.4444444444444444,\"#bd3786\"],[0.5555555555555556,\"#d8576b\"],[0.6666666666666666,\"#ed7953\"],[0.7777777777777778,\"#fb9f3a\"],[0.8888888888888888,\"#fdca26\"],[1.0,\"#f0f921\"]],\"type\":\"surface\"}],\"table\":[{\"cells\":{\"fill\":{\"color\":\"#EBF0F8\"},\"line\":{\"color\":\"white\"}},\"header\":{\"fill\":{\"color\":\"#C8D4E3\"},\"line\":{\"color\":\"white\"}},\"type\":\"table\"}]},\"layout\":{\"annotationdefaults\":{\"arrowcolor\":\"#2a3f5f\",\"arrowhead\":0,\"arrowwidth\":1},\"autotypenumbers\":\"strict\",\"coloraxis\":{\"colorbar\":{\"outlinewidth\":0,\"ticks\":\"\"}},\"colorscale\":{\"diverging\":[[0,\"#8e0152\"],[0.1,\"#c51b7d\"],[0.2,\"#de77ae\"],[0.3,\"#f1b6da\"],[0.4,\"#fde0ef\"],[0.5,\"#f7f7f7\"],[0.6,\"#e6f5d0\"],[0.7,\"#b8e186\"],[0.8,\"#7fbc41\"],[0.9,\"#4d9221\"],[1,\"#276419\"]],\"sequential\":[[0.0,\"#0d0887\"],[0.1111111111111111,\"#46039f\"],[0.2222222222222222,\"#7201a8\"],[0.3333333333333333,\"#9c179e\"],[0.4444444444444444,\"#bd3786\"],[0.5555555555555556,\"#d8576b\"],[0.6666666666666666,\"#ed7953\"],[0.7777777777777778,\"#fb9f3a\"],[0.8888888888888888,\"#fdca26\"],[1.0,\"#f0f921\"]],\"sequentialminus\":[[0.0,\"#0d0887\"],[0.1111111111111111,\"#46039f\"],[0.2222222222222222,\"#7201a8\"],[0.3333333333333333,\"#9c179e\"],[0.4444444444444444,\"#bd3786\"],[0.5555555555555556,\"#d8576b\"],[0.6666666666666666,\"#ed7953\"],[0.7777777777777778,\"#fb9f3a\"],[0.8888888888888888,\"#fdca26\"],[1.0,\"#f0f921\"]]},\"colorway\":[\"#636efa\",\"#EF553B\",\"#00cc96\",\"#ab63fa\",\"#FFA15A\",\"#19d3f3\",\"#FF6692\",\"#B6E880\",\"#FF97FF\",\"#FECB52\"],\"font\":{\"color\":\"#2a3f5f\"},\"geo\":{\"bgcolor\":\"white\",\"lakecolor\":\"white\",\"landcolor\":\"#E5ECF6\",\"showlakes\":true,\"showland\":true,\"subunitcolor\":\"white\"},\"hoverlabel\":{\"align\":\"left\"},\"hovermode\":\"closest\",\"mapbox\":{\"style\":\"light\"},\"paper_bgcolor\":\"white\",\"plot_bgcolor\":\"#E5ECF6\",\"polar\":{\"angularaxis\":{\"gridcolor\":\"white\",\"linecolor\":\"white\",\"ticks\":\"\"},\"bgcolor\":\"#E5ECF6\",\"radialaxis\":{\"gridcolor\":\"white\",\"linecolor\":\"white\",\"ticks\":\"\"}},\"scene\":{\"xaxis\":{\"backgroundcolor\":\"#E5ECF6\",\"gridcolor\":\"white\",\"gridwidth\":2,\"linecolor\":\"white\",\"showbackground\":true,\"ticks\":\"\",\"zerolinecolor\":\"white\"},\"yaxis\":{\"backgroundcolor\":\"#E5ECF6\",\"gridcolor\":\"white\",\"gridwidth\":2,\"linecolor\":\"white\",\"showbackground\":true,\"ticks\":\"\",\"zerolinecolor\":\"white\"},\"zaxis\":{\"backgroundcolor\":\"#E5ECF6\",\"gridcolor\":\"white\",\"gridwidth\":2,\"linecolor\":\"white\",\"showbackground\":true,\"ticks\":\"\",\"zerolinecolor\":\"white\"}},\"shapedefaults\":{\"line\":{\"color\":\"#2a3f5f\"}},\"ternary\":{\"aaxis\":{\"gridcolor\":\"white\",\"linecolor\":\"white\",\"ticks\":\"\"},\"baxis\":{\"gridcolor\":\"white\",\"linecolor\":\"white\",\"ticks\":\"\"},\"bgcolor\":\"#E5ECF6\",\"caxis\":{\"gridcolor\":\"white\",\"linecolor\":\"white\",\"ticks\":\"\"}},\"title\":{\"x\":0.05},\"xaxis\":{\"automargin\":true,\"gridcolor\":\"white\",\"linecolor\":\"white\",\"ticks\":\"\",\"title\":{\"standoff\":15},\"zerolinecolor\":\"white\",\"zerolinewidth\":2},\"yaxis\":{\"automargin\":true,\"gridcolor\":\"white\",\"linecolor\":\"white\",\"ticks\":\"\",\"title\":{\"standoff\":15},\"zerolinecolor\":\"white\",\"zerolinewidth\":2}}},\"scene\":{\"domain\":{\"x\":[0.0,1.0],\"y\":[0.0,1.0]},\"xaxis\":{\"title\":{\"text\":\"0\"}},\"yaxis\":{\"title\":{\"text\":\"1\"}},\"zaxis\":{\"title\":{\"text\":\"2\"}}},\"coloraxis\":{\"colorbar\":{\"title\":{\"text\":\"Anomaly\"}},\"colorscale\":[[0.0,\"#0d0887\"],[0.1111111111111111,\"#46039f\"],[0.2222222222222222,\"#7201a8\"],[0.3333333333333333,\"#9c179e\"],[0.4444444444444444,\"#bd3786\"],[0.5555555555555556,\"#d8576b\"],[0.6666666666666666,\"#ed7953\"],[0.7777777777777778,\"#fb9f3a\"],[0.8888888888888888,\"#fdca26\"],[1.0,\"#f0f921\"]]},\"legend\":{\"tracegroupgap\":0},\"title\":{\"text\":\"3d TSNE Plot for Outliers\"},\"height\":800,\"width\":900},                        {\"responsive\": true}                    ).then(function(){\n                            \nvar gd = document.getElementById('08d55ef6-ba3d-4bd8-9b42-f7bbf7282989');\nvar x = new MutationObserver(function (mutations, observer) {{\n        var display = window.getComputedStyle(gd).display;\n        if (!display || display === 'none') {{\n            console.log([gd, 'removed!']);\n            Plotly.purge(gd);\n            observer.disconnect();\n        }}\n}});\n\n// Listen for the removal of the full notebook cells\nvar notebookContainer = gd.closest('#notebook-container');\nif (notebookContainer) {{\n    x.observe(notebookContainer, {childList: true});\n}}\n\n// Listen for the clearing of the current output cell\nvar outputEl = gd.closest('.output');\nif (outputEl) {{\n    x.observe(outputEl, {childList: true});\n}}\n\n                        })                };                            </script>        </div>\n</body>\n</html>"
                },
                "metadata": {}
              }
            ]
          }
        },
        "12061e16d2a9412b9f29944c0a08e820": {
          "model_module": "@jupyter-widgets/base",
          "model_name": "LayoutModel",
          "model_module_version": "1.2.0",
          "state": {
            "_model_module": "@jupyter-widgets/base",
            "_model_module_version": "1.2.0",
            "_model_name": "LayoutModel",
            "_view_count": null,
            "_view_module": "@jupyter-widgets/base",
            "_view_module_version": "1.2.0",
            "_view_name": "LayoutView",
            "align_content": null,
            "align_items": null,
            "align_self": null,
            "border": null,
            "bottom": null,
            "display": null,
            "flex": null,
            "flex_flow": null,
            "grid_area": null,
            "grid_auto_columns": null,
            "grid_auto_flow": null,
            "grid_auto_rows": null,
            "grid_column": null,
            "grid_gap": null,
            "grid_row": null,
            "grid_template_areas": null,
            "grid_template_columns": null,
            "grid_template_rows": null,
            "height": null,
            "justify_content": null,
            "justify_items": null,
            "left": null,
            "margin": null,
            "max_height": null,
            "max_width": null,
            "min_height": null,
            "min_width": null,
            "object_fit": null,
            "object_position": null,
            "order": null,
            "overflow": null,
            "overflow_x": null,
            "overflow_y": null,
            "padding": null,
            "right": null,
            "top": null,
            "visibility": null,
            "width": null
          }
        },
        "aa32564d3ab240e795b39ed796c11acb": {
          "model_module": "@jupyter-widgets/base",
          "model_name": "LayoutModel",
          "model_module_version": "1.2.0",
          "state": {
            "_model_module": "@jupyter-widgets/base",
            "_model_module_version": "1.2.0",
            "_model_name": "LayoutModel",
            "_view_count": null,
            "_view_module": "@jupyter-widgets/base",
            "_view_module_version": "1.2.0",
            "_view_name": "LayoutView",
            "align_content": null,
            "align_items": null,
            "align_self": null,
            "border": null,
            "bottom": null,
            "display": null,
            "flex": null,
            "flex_flow": null,
            "grid_area": null,
            "grid_auto_columns": null,
            "grid_auto_flow": null,
            "grid_auto_rows": null,
            "grid_column": null,
            "grid_gap": null,
            "grid_row": null,
            "grid_template_areas": null,
            "grid_template_columns": null,
            "grid_template_rows": null,
            "height": null,
            "justify_content": null,
            "justify_items": null,
            "left": null,
            "margin": null,
            "max_height": null,
            "max_width": null,
            "min_height": null,
            "min_width": null,
            "object_fit": null,
            "object_position": null,
            "order": null,
            "overflow": null,
            "overflow_x": null,
            "overflow_y": null,
            "padding": null,
            "right": null,
            "top": null,
            "visibility": null,
            "width": null
          }
        },
        "d9890b06a0834476bf548bfc70acc9a9": {
          "model_module": "@jupyter-widgets/controls",
          "model_name": "ToggleButtonsStyleModel",
          "model_module_version": "1.5.0",
          "state": {
            "_model_module": "@jupyter-widgets/controls",
            "_model_module_version": "1.5.0",
            "_model_name": "ToggleButtonsStyleModel",
            "_view_count": null,
            "_view_module": "@jupyter-widgets/base",
            "_view_module_version": "1.2.0",
            "_view_name": "StyleView",
            "button_width": "",
            "description_width": "",
            "font_weight": ""
          }
        },
        "e49b0cdda236438f962bb4167573a31b": {
          "model_module": "@jupyter-widgets/controls",
          "model_name": "IntProgressModel",
          "model_module_version": "1.5.0",
          "state": {
            "_dom_classes": [],
            "_model_module": "@jupyter-widgets/controls",
            "_model_module_version": "1.5.0",
            "_model_name": "IntProgressModel",
            "_view_count": null,
            "_view_module": "@jupyter-widgets/controls",
            "_view_module_version": "1.5.0",
            "_view_name": "ProgressView",
            "bar_style": "",
            "description": "Processing: ",
            "description_tooltip": null,
            "layout": "IPY_MODEL_c0c9671468d948ea9001eb7c44c94adf",
            "max": 5,
            "min": 0,
            "orientation": "horizontal",
            "style": "IPY_MODEL_4304d9a05cda4091adbd55afa48c9eca",
            "value": 3
          }
        },
        "f7d14198c4424e7b83def274913337b4": {
          "model_module": "@jupyter-widgets/base",
          "model_name": "LayoutModel",
          "model_module_version": "1.2.0",
          "state": {
            "_model_module": "@jupyter-widgets/base",
            "_model_module_version": "1.2.0",
            "_model_name": "LayoutModel",
            "_view_count": null,
            "_view_module": "@jupyter-widgets/base",
            "_view_module_version": "1.2.0",
            "_view_name": "LayoutView",
            "align_content": null,
            "align_items": null,
            "align_self": null,
            "border": null,
            "bottom": null,
            "display": null,
            "flex": null,
            "flex_flow": null,
            "grid_area": null,
            "grid_auto_columns": null,
            "grid_auto_flow": null,
            "grid_auto_rows": null,
            "grid_column": null,
            "grid_gap": null,
            "grid_row": null,
            "grid_template_areas": null,
            "grid_template_columns": null,
            "grid_template_rows": null,
            "height": null,
            "justify_content": null,
            "justify_items": null,
            "left": null,
            "margin": null,
            "max_height": null,
            "max_width": null,
            "min_height": null,
            "min_width": null,
            "object_fit": null,
            "object_position": null,
            "order": null,
            "overflow": null,
            "overflow_x": null,
            "overflow_y": null,
            "padding": null,
            "right": null,
            "top": null,
            "visibility": null,
            "width": null
          }
        },
        "c0c9671468d948ea9001eb7c44c94adf": {
          "model_module": "@jupyter-widgets/base",
          "model_name": "LayoutModel",
          "model_module_version": "1.2.0",
          "state": {
            "_model_module": "@jupyter-widgets/base",
            "_model_module_version": "1.2.0",
            "_model_name": "LayoutModel",
            "_view_count": null,
            "_view_module": "@jupyter-widgets/base",
            "_view_module_version": "1.2.0",
            "_view_name": "LayoutView",
            "align_content": null,
            "align_items": null,
            "align_self": null,
            "border": null,
            "bottom": null,
            "display": null,
            "flex": null,
            "flex_flow": null,
            "grid_area": null,
            "grid_auto_columns": null,
            "grid_auto_flow": null,
            "grid_auto_rows": null,
            "grid_column": null,
            "grid_gap": null,
            "grid_row": null,
            "grid_template_areas": null,
            "grid_template_columns": null,
            "grid_template_rows": null,
            "height": null,
            "justify_content": null,
            "justify_items": null,
            "left": null,
            "margin": null,
            "max_height": null,
            "max_width": null,
            "min_height": null,
            "min_width": null,
            "object_fit": null,
            "object_position": null,
            "order": null,
            "overflow": null,
            "overflow_x": null,
            "overflow_y": null,
            "padding": null,
            "right": null,
            "top": null,
            "visibility": null,
            "width": null
          }
        },
        "4304d9a05cda4091adbd55afa48c9eca": {
          "model_module": "@jupyter-widgets/controls",
          "model_name": "ProgressStyleModel",
          "model_module_version": "1.5.0",
          "state": {
            "_model_module": "@jupyter-widgets/controls",
            "_model_module_version": "1.5.0",
            "_model_name": "ProgressStyleModel",
            "_view_count": null,
            "_view_module": "@jupyter-widgets/base",
            "_view_module_version": "1.2.0",
            "_view_name": "StyleView",
            "bar_color": null,
            "description_width": ""
          }
        },
        "14a2c08d90ce49378d5185f983f31b98": {
          "model_module": "@jupyter-widgets/controls",
          "model_name": "VBoxModel",
          "model_module_version": "1.5.0",
          "state": {
            "_dom_classes": [
              "widget-interact"
            ],
            "_model_module": "@jupyter-widgets/controls",
            "_model_module_version": "1.5.0",
            "_model_name": "VBoxModel",
            "_view_count": null,
            "_view_module": "@jupyter-widgets/controls",
            "_view_module_version": "1.5.0",
            "_view_name": "VBoxView",
            "box_style": "",
            "children": [
              "IPY_MODEL_15db140559b84b54aa4b0578922e72e3",
              "IPY_MODEL_315e806c70274d7db3091099f87a6550"
            ],
            "layout": "IPY_MODEL_2577dd46b5aa4bb298d7b75c088cd15c"
          }
        },
        "15db140559b84b54aa4b0578922e72e3": {
          "model_module": "@jupyter-widgets/controls",
          "model_name": "ToggleButtonsModel",
          "model_module_version": "1.5.0",
          "state": {
            "_dom_classes": [],
            "_model_module": "@jupyter-widgets/controls",
            "_model_module_version": "1.5.0",
            "_model_name": "ToggleButtonsModel",
            "_options_labels": [
              "Anomaly TSnE (3d)",
              "UMAP Dimensionality"
            ],
            "_view_count": null,
            "_view_module": "@jupyter-widgets/controls",
            "_view_module_version": "1.5.0",
            "_view_name": "ToggleButtonsView",
            "button_style": "",
            "description": "Plot Type:",
            "description_tooltip": null,
            "disabled": false,
            "icons": [
              ""
            ],
            "index": 0,
            "layout": "IPY_MODEL_932592069711493bb3418ccf67adc5a9",
            "style": "IPY_MODEL_5d9a5a72e79445a0bb5a94526fa92f0a",
            "tooltips": []
          }
        },
        "315e806c70274d7db3091099f87a6550": {
          "model_module": "@jupyter-widgets/output",
          "model_name": "OutputModel",
          "model_module_version": "1.0.0",
          "state": {
            "_dom_classes": [],
            "_model_module": "@jupyter-widgets/output",
            "_model_module_version": "1.0.0",
            "_model_name": "OutputModel",
            "_view_count": null,
            "_view_module": "@jupyter-widgets/output",
            "_view_module_version": "1.0.0",
            "_view_name": "OutputView",
            "layout": "IPY_MODEL_e7a03747eecf45b3b5a4e67d15489840",
            "msg_id": "",
            "outputs": [
              {
                "output_type": "display_data",
                "data": {
                  "text/html": "<html>\n<head><meta charset=\"utf-8\" /></head>\n<body>\n    <div>            <script src=\"https://cdnjs.cloudflare.com/ajax/libs/mathjax/2.7.5/MathJax.js?config=TeX-AMS-MML_SVG\"></script><script type=\"text/javascript\">if (window.MathJax) {MathJax.Hub.Config({SVG: {font: \"STIX-Web\"}});}</script>                <script type=\"text/javascript\">window.PlotlyConfig = {MathJaxConfig: 'local'};</script>\n        <script src=\"https://cdn.plot.ly/plotly-2.8.3.min.js\"></script>                <div id=\"ce6e79ab-2d1c-492f-8e66-bd10e3dc8712\" class=\"plotly-graph-div\" style=\"height:800px; width:900px;\"></div>            <script type=\"text/javascript\">                                    window.PLOTLYENV=window.PLOTLYENV || {};                                    if (document.getElementById(\"ce6e79ab-2d1c-492f-8e66-bd10e3dc8712\")) {                    Plotly.newPlot(                        \"ce6e79ab-2d1c-492f-8e66-bd10e3dc8712\",                        [{\"customdata\":[[-1.042569637298584],[-1.0569860935211182],[-1.0718579292297363],[-1.0845177173614502],[-0.9748108386993408],[-0.8082889914512634],[-0.7321016192436218],[-0.4991328120231628],[-0.3721775114536285],[-0.3452838361263275],[-0.4126873314380646],[-0.5583282113075256],[-0.7400768399238586],[-0.9520395398139954],[-1.166375756263733],[-1.3580330610275269],[-1.4299689531326294],[-1.448888063430786],[-1.4551920890808103],[-1.4719200134277344],[-1.4838628768920898],[-1.492546319961548],[-1.505098819732666],[-1.5338690280914309],[-1.5548322200775146],[-1.551674246788025],[-1.3465332984924316],[-0.9393476247787476],[-0.6119886636734009],[-0.2900940775871277],[0.0467687733471393],[0.360846608877182],[0.432355672121048],[0.4128997325897217],[0.4634924530982971],[0.4626893699169159],[0.4433625936508178],[0.4072152376174927],[0.1603015959262848],[-0.0629786252975463],[-0.3000729382038116],[-0.5238960385322571],[-0.7362663149833679],[-0.9378376603126526],[-1.13489830493927],[-1.3158025741577148],[-1.4059693813323977],[-1.450811743736267],[-1.4787224531173706],[-1.4894156455993652],[-1.4783046245574951],[-1.4705097675323486],[-1.455390214920044],[-1.473668932914734],[-1.465978980064392],[-1.3847979307174685],[-1.092218279838562],[-0.7926028370857239],[-0.5931138396263123],[-0.4452607333660126],[-0.3598239123821258],[-0.3868025541305542],[-0.5009125471115112],[-0.6529414057731628],[-0.8406859636306763],[-1.051345705986023],[-1.2731682062149048],[-1.4007362127304075],[-1.44389545917511],[-1.4653031826019287],[-1.469455599784851],[-1.4827409982681274],[-1.4936180114746094],[-1.5353230237960815],[-1.6015911102294922],[-1.5561386346817017],[-1.2002670764923096],[-0.768366277217865],[-0.5443164706230164],[-0.4654771089553833],[-0.5273060202598572],[-0.6730248928070068],[-0.8732708692550659],[-1.117473602294922],[-1.3448522090911863],[-1.4430913925170898],[-1.4576778411865234],[-1.443233609199524],[-1.4318811893463137],[-1.4582141637802124],[-1.4981333017349243],[-1.5354251861572266],[-1.5654234886169434],[-1.559131383895874],[-1.496434450149536],[-1.4676059484481812],[-1.4205511808395386],[-1.2465168237686155]],\"hovertemplate\":\"0=%{x}<br>1=%{y}<br>2=%{z}<br>Feature=%{customdata[0]}<br>Anomaly=%{marker.color}<extra></extra>\",\"legendgroup\":\"\",\"marker\":{\"color\":[0,0,0,0,0,0,0,0,0,0,0,0,0,0,0,0,0,0,0,0,0,0,0,0,0,0,0,0,0,0,0,1,1,1,1,1,0,0,0,0,0,0,0,0,0,0,0,0,0,0,0,0,0,0,0,0,0,0,0,0,0,0,0,0,0,0,0,0,0,0,0,0,0,0,0,0,0,0,0,0,0,0,0,0,0,0,0,0,0,0,0,0,0,0,0,0,0,0],\"coloraxis\":\"coloraxis\",\"opacity\":0.7,\"symbol\":\"circle\"},\"mode\":\"markers\",\"name\":\"\",\"scene\":\"scene\",\"showlegend\":false,\"x\":[-26.758917,26.279902,-49.438126,-39.345367,-4.5708866,-34.974968,92.57892,28.026928,-85.08181,-77.073845,-77.70454,-58.695923,-93.33896,-0.79355305,-140.10718,-9.143334,-5.375157,54.63864,82.25923,-37.681484,-51.942245,-65.748764,35.35722,-0.07917257,27.556105,-24.888584,87.02682,47.07583,76.66753,-72.25224,24.549149,-144.90085,-7.244387,68.64901,32.207138,-30.293556,8.128795,-30.97258,-28.9132,-65.29181,-12.673151,46.152378,33.731976,-29.696003,12.672075,-55.356655,68.26164,40.39934,20.94436,122.20749,-52.450542,-30.83325,-102.254135,-149.09563,24.458595,30.414022,81.16075,11.702721,-31.701391,82.45012,50.344612,-120.387505,-15.081197,28.072905,-104.65187,-54.462986,26.123213,-7.68582,99.21543,23.421808,3.5257497,-8.940306,-1.5055858,108.670975,58.813026,87.88052,60.91784,-12.720239,21.181293,-113.377556,-123.77948,-145.57956,-111.27253,-9.081234,-31.48659,-64.23058,-27.575169,82.241035,119.13998,146.26823,65.23227,124.063934,-105.892334,90.98853,58.560646,87.74557,31.432589,-77.23062],\"y\":[-69.612724,-166.85219,-130.15143,-164.81801,-121.11191,-69.20513,-131.56175,2.9948857,55.829063,-61.13994,78.51183,137.31929,19.128147,155.36374,-46.009895,-242.32693,58.306732,61.338886,107.537796,14.033951,-26.480408,-77.89669,-103.60597,-118.13855,-158.81541,-172.51631,-170.00446,-99.52628,-77.65669,-3.6790352,58.50318,35.711357,38.693672,99.745804,82.33532,97.680244,119.53749,70.72182,45.749557,123.141335,164.20415,144.02513,168.67056,82.915924,109.174515,50.716568,80.5739,33.815136,-18.77551,67.7376,-69.86845,-110.02293,169.92113,121.32829,-168.12204,-92.31198,-63.757263,-44.82955,-2.0020926,22.201965,59.752705,11.198324,105.6624,91.59827,61.26633,119.634315,106.4851,62.651115,35.283657,11.352725,0.40136725,-51.37169,-104.59894,-109.44398,-116.53518,-127.24786,-41.81167,-19.696121,-113.99293,11.154947,62.615997,-51.304382,-8.488912,157.92058,112.40194,62.485077,4.3735414,13.674114,25.985485,-17.60078,-48.67807,-48.514637,-152.34338,-50.09474,-1.4041072,-36.32395,-55.72487,-98.548744],\"z\":[-16.752752,-0.5087569,-66.47066,60.926247,-111.8823,-88.15524,76.6104,-78.56632,-61.63398,124.382454,-4.6848826,-2.2002509,163.64606,33.486362,-69.92949,-32.061195,170.08856,91.95511,68.59552,66.58852,26.2133,54.71107,29.96051,-22.089146,-65.27851,-31.587389,-35.750114,-134.10616,155.05869,-60.64963,-104.72606,-77.20451,-149.76265,-113.34684,-159.90451,-141.94023,-103.3644,-88.13092,-32.996536,-65.89799,-40.320137,-17.543531,137.95782,39.22276,69.6844,-203.86981,163.70781,142.42026,141.92107,58.68068,-157.67921,26.370216,46.008186,-17.016342,55.04736,-69.26701,-91.61835,-113.253456,-104.53521,-92.44293,-44.826214,63.547447,-28.176807,7.887624,-135.04263,79.41231,129.32184,107.52968,124.0284,84.836464,30.48255,57.866913,73.77849,-1.4403032,-26.953405,-82.967735,-145.41913,-52.380028,137.72682,-3.6819072,25.956488,14.80456,-132.82259,94.158516,143.60838,119.05348,124.72863,64.304565,14.853981,41.53175,84.90536,87.09101,17.978836,32.48226,6.151936,-24.544489,0.22742334,-17.39329],\"type\":\"scatter3d\"}],                        {\"template\":{\"data\":{\"bar\":[{\"error_x\":{\"color\":\"#2a3f5f\"},\"error_y\":{\"color\":\"#2a3f5f\"},\"marker\":{\"line\":{\"color\":\"#E5ECF6\",\"width\":0.5},\"pattern\":{\"fillmode\":\"overlay\",\"size\":10,\"solidity\":0.2}},\"type\":\"bar\"}],\"barpolar\":[{\"marker\":{\"line\":{\"color\":\"#E5ECF6\",\"width\":0.5},\"pattern\":{\"fillmode\":\"overlay\",\"size\":10,\"solidity\":0.2}},\"type\":\"barpolar\"}],\"carpet\":[{\"aaxis\":{\"endlinecolor\":\"#2a3f5f\",\"gridcolor\":\"white\",\"linecolor\":\"white\",\"minorgridcolor\":\"white\",\"startlinecolor\":\"#2a3f5f\"},\"baxis\":{\"endlinecolor\":\"#2a3f5f\",\"gridcolor\":\"white\",\"linecolor\":\"white\",\"minorgridcolor\":\"white\",\"startlinecolor\":\"#2a3f5f\"},\"type\":\"carpet\"}],\"choropleth\":[{\"colorbar\":{\"outlinewidth\":0,\"ticks\":\"\"},\"type\":\"choropleth\"}],\"contour\":[{\"colorbar\":{\"outlinewidth\":0,\"ticks\":\"\"},\"colorscale\":[[0.0,\"#0d0887\"],[0.1111111111111111,\"#46039f\"],[0.2222222222222222,\"#7201a8\"],[0.3333333333333333,\"#9c179e\"],[0.4444444444444444,\"#bd3786\"],[0.5555555555555556,\"#d8576b\"],[0.6666666666666666,\"#ed7953\"],[0.7777777777777778,\"#fb9f3a\"],[0.8888888888888888,\"#fdca26\"],[1.0,\"#f0f921\"]],\"type\":\"contour\"}],\"contourcarpet\":[{\"colorbar\":{\"outlinewidth\":0,\"ticks\":\"\"},\"type\":\"contourcarpet\"}],\"heatmap\":[{\"colorbar\":{\"outlinewidth\":0,\"ticks\":\"\"},\"colorscale\":[[0.0,\"#0d0887\"],[0.1111111111111111,\"#46039f\"],[0.2222222222222222,\"#7201a8\"],[0.3333333333333333,\"#9c179e\"],[0.4444444444444444,\"#bd3786\"],[0.5555555555555556,\"#d8576b\"],[0.6666666666666666,\"#ed7953\"],[0.7777777777777778,\"#fb9f3a\"],[0.8888888888888888,\"#fdca26\"],[1.0,\"#f0f921\"]],\"type\":\"heatmap\"}],\"heatmapgl\":[{\"colorbar\":{\"outlinewidth\":0,\"ticks\":\"\"},\"colorscale\":[[0.0,\"#0d0887\"],[0.1111111111111111,\"#46039f\"],[0.2222222222222222,\"#7201a8\"],[0.3333333333333333,\"#9c179e\"],[0.4444444444444444,\"#bd3786\"],[0.5555555555555556,\"#d8576b\"],[0.6666666666666666,\"#ed7953\"],[0.7777777777777778,\"#fb9f3a\"],[0.8888888888888888,\"#fdca26\"],[1.0,\"#f0f921\"]],\"type\":\"heatmapgl\"}],\"histogram\":[{\"marker\":{\"pattern\":{\"fillmode\":\"overlay\",\"size\":10,\"solidity\":0.2}},\"type\":\"histogram\"}],\"histogram2d\":[{\"colorbar\":{\"outlinewidth\":0,\"ticks\":\"\"},\"colorscale\":[[0.0,\"#0d0887\"],[0.1111111111111111,\"#46039f\"],[0.2222222222222222,\"#7201a8\"],[0.3333333333333333,\"#9c179e\"],[0.4444444444444444,\"#bd3786\"],[0.5555555555555556,\"#d8576b\"],[0.6666666666666666,\"#ed7953\"],[0.7777777777777778,\"#fb9f3a\"],[0.8888888888888888,\"#fdca26\"],[1.0,\"#f0f921\"]],\"type\":\"histogram2d\"}],\"histogram2dcontour\":[{\"colorbar\":{\"outlinewidth\":0,\"ticks\":\"\"},\"colorscale\":[[0.0,\"#0d0887\"],[0.1111111111111111,\"#46039f\"],[0.2222222222222222,\"#7201a8\"],[0.3333333333333333,\"#9c179e\"],[0.4444444444444444,\"#bd3786\"],[0.5555555555555556,\"#d8576b\"],[0.6666666666666666,\"#ed7953\"],[0.7777777777777778,\"#fb9f3a\"],[0.8888888888888888,\"#fdca26\"],[1.0,\"#f0f921\"]],\"type\":\"histogram2dcontour\"}],\"mesh3d\":[{\"colorbar\":{\"outlinewidth\":0,\"ticks\":\"\"},\"type\":\"mesh3d\"}],\"parcoords\":[{\"line\":{\"colorbar\":{\"outlinewidth\":0,\"ticks\":\"\"}},\"type\":\"parcoords\"}],\"pie\":[{\"automargin\":true,\"type\":\"pie\"}],\"scatter\":[{\"marker\":{\"colorbar\":{\"outlinewidth\":0,\"ticks\":\"\"}},\"type\":\"scatter\"}],\"scatter3d\":[{\"line\":{\"colorbar\":{\"outlinewidth\":0,\"ticks\":\"\"}},\"marker\":{\"colorbar\":{\"outlinewidth\":0,\"ticks\":\"\"}},\"type\":\"scatter3d\"}],\"scattercarpet\":[{\"marker\":{\"colorbar\":{\"outlinewidth\":0,\"ticks\":\"\"}},\"type\":\"scattercarpet\"}],\"scattergeo\":[{\"marker\":{\"colorbar\":{\"outlinewidth\":0,\"ticks\":\"\"}},\"type\":\"scattergeo\"}],\"scattergl\":[{\"marker\":{\"colorbar\":{\"outlinewidth\":0,\"ticks\":\"\"}},\"type\":\"scattergl\"}],\"scattermapbox\":[{\"marker\":{\"colorbar\":{\"outlinewidth\":0,\"ticks\":\"\"}},\"type\":\"scattermapbox\"}],\"scatterpolar\":[{\"marker\":{\"colorbar\":{\"outlinewidth\":0,\"ticks\":\"\"}},\"type\":\"scatterpolar\"}],\"scatterpolargl\":[{\"marker\":{\"colorbar\":{\"outlinewidth\":0,\"ticks\":\"\"}},\"type\":\"scatterpolargl\"}],\"scatterternary\":[{\"marker\":{\"colorbar\":{\"outlinewidth\":0,\"ticks\":\"\"}},\"type\":\"scatterternary\"}],\"surface\":[{\"colorbar\":{\"outlinewidth\":0,\"ticks\":\"\"},\"colorscale\":[[0.0,\"#0d0887\"],[0.1111111111111111,\"#46039f\"],[0.2222222222222222,\"#7201a8\"],[0.3333333333333333,\"#9c179e\"],[0.4444444444444444,\"#bd3786\"],[0.5555555555555556,\"#d8576b\"],[0.6666666666666666,\"#ed7953\"],[0.7777777777777778,\"#fb9f3a\"],[0.8888888888888888,\"#fdca26\"],[1.0,\"#f0f921\"]],\"type\":\"surface\"}],\"table\":[{\"cells\":{\"fill\":{\"color\":\"#EBF0F8\"},\"line\":{\"color\":\"white\"}},\"header\":{\"fill\":{\"color\":\"#C8D4E3\"},\"line\":{\"color\":\"white\"}},\"type\":\"table\"}]},\"layout\":{\"annotationdefaults\":{\"arrowcolor\":\"#2a3f5f\",\"arrowhead\":0,\"arrowwidth\":1},\"autotypenumbers\":\"strict\",\"coloraxis\":{\"colorbar\":{\"outlinewidth\":0,\"ticks\":\"\"}},\"colorscale\":{\"diverging\":[[0,\"#8e0152\"],[0.1,\"#c51b7d\"],[0.2,\"#de77ae\"],[0.3,\"#f1b6da\"],[0.4,\"#fde0ef\"],[0.5,\"#f7f7f7\"],[0.6,\"#e6f5d0\"],[0.7,\"#b8e186\"],[0.8,\"#7fbc41\"],[0.9,\"#4d9221\"],[1,\"#276419\"]],\"sequential\":[[0.0,\"#0d0887\"],[0.1111111111111111,\"#46039f\"],[0.2222222222222222,\"#7201a8\"],[0.3333333333333333,\"#9c179e\"],[0.4444444444444444,\"#bd3786\"],[0.5555555555555556,\"#d8576b\"],[0.6666666666666666,\"#ed7953\"],[0.7777777777777778,\"#fb9f3a\"],[0.8888888888888888,\"#fdca26\"],[1.0,\"#f0f921\"]],\"sequentialminus\":[[0.0,\"#0d0887\"],[0.1111111111111111,\"#46039f\"],[0.2222222222222222,\"#7201a8\"],[0.3333333333333333,\"#9c179e\"],[0.4444444444444444,\"#bd3786\"],[0.5555555555555556,\"#d8576b\"],[0.6666666666666666,\"#ed7953\"],[0.7777777777777778,\"#fb9f3a\"],[0.8888888888888888,\"#fdca26\"],[1.0,\"#f0f921\"]]},\"colorway\":[\"#636efa\",\"#EF553B\",\"#00cc96\",\"#ab63fa\",\"#FFA15A\",\"#19d3f3\",\"#FF6692\",\"#B6E880\",\"#FF97FF\",\"#FECB52\"],\"font\":{\"color\":\"#2a3f5f\"},\"geo\":{\"bgcolor\":\"white\",\"lakecolor\":\"white\",\"landcolor\":\"#E5ECF6\",\"showlakes\":true,\"showland\":true,\"subunitcolor\":\"white\"},\"hoverlabel\":{\"align\":\"left\"},\"hovermode\":\"closest\",\"mapbox\":{\"style\":\"light\"},\"paper_bgcolor\":\"white\",\"plot_bgcolor\":\"#E5ECF6\",\"polar\":{\"angularaxis\":{\"gridcolor\":\"white\",\"linecolor\":\"white\",\"ticks\":\"\"},\"bgcolor\":\"#E5ECF6\",\"radialaxis\":{\"gridcolor\":\"white\",\"linecolor\":\"white\",\"ticks\":\"\"}},\"scene\":{\"xaxis\":{\"backgroundcolor\":\"#E5ECF6\",\"gridcolor\":\"white\",\"gridwidth\":2,\"linecolor\":\"white\",\"showbackground\":true,\"ticks\":\"\",\"zerolinecolor\":\"white\"},\"yaxis\":{\"backgroundcolor\":\"#E5ECF6\",\"gridcolor\":\"white\",\"gridwidth\":2,\"linecolor\":\"white\",\"showbackground\":true,\"ticks\":\"\",\"zerolinecolor\":\"white\"},\"zaxis\":{\"backgroundcolor\":\"#E5ECF6\",\"gridcolor\":\"white\",\"gridwidth\":2,\"linecolor\":\"white\",\"showbackground\":true,\"ticks\":\"\",\"zerolinecolor\":\"white\"}},\"shapedefaults\":{\"line\":{\"color\":\"#2a3f5f\"}},\"ternary\":{\"aaxis\":{\"gridcolor\":\"white\",\"linecolor\":\"white\",\"ticks\":\"\"},\"baxis\":{\"gridcolor\":\"white\",\"linecolor\":\"white\",\"ticks\":\"\"},\"bgcolor\":\"#E5ECF6\",\"caxis\":{\"gridcolor\":\"white\",\"linecolor\":\"white\",\"ticks\":\"\"}},\"title\":{\"x\":0.05},\"xaxis\":{\"automargin\":true,\"gridcolor\":\"white\",\"linecolor\":\"white\",\"ticks\":\"\",\"title\":{\"standoff\":15},\"zerolinecolor\":\"white\",\"zerolinewidth\":2},\"yaxis\":{\"automargin\":true,\"gridcolor\":\"white\",\"linecolor\":\"white\",\"ticks\":\"\",\"title\":{\"standoff\":15},\"zerolinecolor\":\"white\",\"zerolinewidth\":2}}},\"scene\":{\"domain\":{\"x\":[0.0,1.0],\"y\":[0.0,1.0]},\"xaxis\":{\"title\":{\"text\":\"0\"}},\"yaxis\":{\"title\":{\"text\":\"1\"}},\"zaxis\":{\"title\":{\"text\":\"2\"}}},\"coloraxis\":{\"colorbar\":{\"title\":{\"text\":\"Anomaly\"}},\"colorscale\":[[0.0,\"#0d0887\"],[0.1111111111111111,\"#46039f\"],[0.2222222222222222,\"#7201a8\"],[0.3333333333333333,\"#9c179e\"],[0.4444444444444444,\"#bd3786\"],[0.5555555555555556,\"#d8576b\"],[0.6666666666666666,\"#ed7953\"],[0.7777777777777778,\"#fb9f3a\"],[0.8888888888888888,\"#fdca26\"],[1.0,\"#f0f921\"]]},\"legend\":{\"tracegroupgap\":0},\"title\":{\"text\":\"3d TSNE Plot for Outliers\"},\"height\":800,\"width\":900},                        {\"responsive\": true}                    ).then(function(){\n                            \nvar gd = document.getElementById('ce6e79ab-2d1c-492f-8e66-bd10e3dc8712');\nvar x = new MutationObserver(function (mutations, observer) {{\n        var display = window.getComputedStyle(gd).display;\n        if (!display || display === 'none') {{\n            console.log([gd, 'removed!']);\n            Plotly.purge(gd);\n            observer.disconnect();\n        }}\n}});\n\n// Listen for the removal of the full notebook cells\nvar notebookContainer = gd.closest('#notebook-container');\nif (notebookContainer) {{\n    x.observe(notebookContainer, {childList: true});\n}}\n\n// Listen for the clearing of the current output cell\nvar outputEl = gd.closest('.output');\nif (outputEl) {{\n    x.observe(outputEl, {childList: true});\n}}\n\n                        })                };                            </script>        </div>\n</body>\n</html>"
                },
                "metadata": {}
              }
            ]
          }
        },
        "2577dd46b5aa4bb298d7b75c088cd15c": {
          "model_module": "@jupyter-widgets/base",
          "model_name": "LayoutModel",
          "model_module_version": "1.2.0",
          "state": {
            "_model_module": "@jupyter-widgets/base",
            "_model_module_version": "1.2.0",
            "_model_name": "LayoutModel",
            "_view_count": null,
            "_view_module": "@jupyter-widgets/base",
            "_view_module_version": "1.2.0",
            "_view_name": "LayoutView",
            "align_content": null,
            "align_items": null,
            "align_self": null,
            "border": null,
            "bottom": null,
            "display": null,
            "flex": null,
            "flex_flow": null,
            "grid_area": null,
            "grid_auto_columns": null,
            "grid_auto_flow": null,
            "grid_auto_rows": null,
            "grid_column": null,
            "grid_gap": null,
            "grid_row": null,
            "grid_template_areas": null,
            "grid_template_columns": null,
            "grid_template_rows": null,
            "height": null,
            "justify_content": null,
            "justify_items": null,
            "left": null,
            "margin": null,
            "max_height": null,
            "max_width": null,
            "min_height": null,
            "min_width": null,
            "object_fit": null,
            "object_position": null,
            "order": null,
            "overflow": null,
            "overflow_x": null,
            "overflow_y": null,
            "padding": null,
            "right": null,
            "top": null,
            "visibility": null,
            "width": null
          }
        },
        "932592069711493bb3418ccf67adc5a9": {
          "model_module": "@jupyter-widgets/base",
          "model_name": "LayoutModel",
          "model_module_version": "1.2.0",
          "state": {
            "_model_module": "@jupyter-widgets/base",
            "_model_module_version": "1.2.0",
            "_model_name": "LayoutModel",
            "_view_count": null,
            "_view_module": "@jupyter-widgets/base",
            "_view_module_version": "1.2.0",
            "_view_name": "LayoutView",
            "align_content": null,
            "align_items": null,
            "align_self": null,
            "border": null,
            "bottom": null,
            "display": null,
            "flex": null,
            "flex_flow": null,
            "grid_area": null,
            "grid_auto_columns": null,
            "grid_auto_flow": null,
            "grid_auto_rows": null,
            "grid_column": null,
            "grid_gap": null,
            "grid_row": null,
            "grid_template_areas": null,
            "grid_template_columns": null,
            "grid_template_rows": null,
            "height": null,
            "justify_content": null,
            "justify_items": null,
            "left": null,
            "margin": null,
            "max_height": null,
            "max_width": null,
            "min_height": null,
            "min_width": null,
            "object_fit": null,
            "object_position": null,
            "order": null,
            "overflow": null,
            "overflow_x": null,
            "overflow_y": null,
            "padding": null,
            "right": null,
            "top": null,
            "visibility": null,
            "width": null
          }
        },
        "5d9a5a72e79445a0bb5a94526fa92f0a": {
          "model_module": "@jupyter-widgets/controls",
          "model_name": "ToggleButtonsStyleModel",
          "model_module_version": "1.5.0",
          "state": {
            "_model_module": "@jupyter-widgets/controls",
            "_model_module_version": "1.5.0",
            "_model_name": "ToggleButtonsStyleModel",
            "_view_count": null,
            "_view_module": "@jupyter-widgets/base",
            "_view_module_version": "1.2.0",
            "_view_name": "StyleView",
            "button_width": "",
            "description_width": "",
            "font_weight": ""
          }
        },
        "d4e8507e9e0e4ac88fdd5032411a99e9": {
          "model_module": "@jupyter-widgets/controls",
          "model_name": "IntProgressModel",
          "model_module_version": "1.5.0",
          "state": {
            "_dom_classes": [],
            "_model_module": "@jupyter-widgets/controls",
            "_model_module_version": "1.5.0",
            "_model_name": "IntProgressModel",
            "_view_count": null,
            "_view_module": "@jupyter-widgets/controls",
            "_view_module_version": "1.5.0",
            "_view_name": "ProgressView",
            "bar_style": "",
            "description": "Processing: ",
            "description_tooltip": null,
            "layout": "IPY_MODEL_a6de758042ca4c3cba60196e2fe02f76",
            "max": 5,
            "min": 0,
            "orientation": "horizontal",
            "style": "IPY_MODEL_18a472b02f6e4093b71bc289b02c3e3c",
            "value": 3
          }
        },
        "e7a03747eecf45b3b5a4e67d15489840": {
          "model_module": "@jupyter-widgets/base",
          "model_name": "LayoutModel",
          "model_module_version": "1.2.0",
          "state": {
            "_model_module": "@jupyter-widgets/base",
            "_model_module_version": "1.2.0",
            "_model_name": "LayoutModel",
            "_view_count": null,
            "_view_module": "@jupyter-widgets/base",
            "_view_module_version": "1.2.0",
            "_view_name": "LayoutView",
            "align_content": null,
            "align_items": null,
            "align_self": null,
            "border": null,
            "bottom": null,
            "display": null,
            "flex": null,
            "flex_flow": null,
            "grid_area": null,
            "grid_auto_columns": null,
            "grid_auto_flow": null,
            "grid_auto_rows": null,
            "grid_column": null,
            "grid_gap": null,
            "grid_row": null,
            "grid_template_areas": null,
            "grid_template_columns": null,
            "grid_template_rows": null,
            "height": null,
            "justify_content": null,
            "justify_items": null,
            "left": null,
            "margin": null,
            "max_height": null,
            "max_width": null,
            "min_height": null,
            "min_width": null,
            "object_fit": null,
            "object_position": null,
            "order": null,
            "overflow": null,
            "overflow_x": null,
            "overflow_y": null,
            "padding": null,
            "right": null,
            "top": null,
            "visibility": null,
            "width": null
          }
        },
        "a6de758042ca4c3cba60196e2fe02f76": {
          "model_module": "@jupyter-widgets/base",
          "model_name": "LayoutModel",
          "model_module_version": "1.2.0",
          "state": {
            "_model_module": "@jupyter-widgets/base",
            "_model_module_version": "1.2.0",
            "_model_name": "LayoutModel",
            "_view_count": null,
            "_view_module": "@jupyter-widgets/base",
            "_view_module_version": "1.2.0",
            "_view_name": "LayoutView",
            "align_content": null,
            "align_items": null,
            "align_self": null,
            "border": null,
            "bottom": null,
            "display": null,
            "flex": null,
            "flex_flow": null,
            "grid_area": null,
            "grid_auto_columns": null,
            "grid_auto_flow": null,
            "grid_auto_rows": null,
            "grid_column": null,
            "grid_gap": null,
            "grid_row": null,
            "grid_template_areas": null,
            "grid_template_columns": null,
            "grid_template_rows": null,
            "height": null,
            "justify_content": null,
            "justify_items": null,
            "left": null,
            "margin": null,
            "max_height": null,
            "max_width": null,
            "min_height": null,
            "min_width": null,
            "object_fit": null,
            "object_position": null,
            "order": null,
            "overflow": null,
            "overflow_x": null,
            "overflow_y": null,
            "padding": null,
            "right": null,
            "top": null,
            "visibility": null,
            "width": null
          }
        },
        "18a472b02f6e4093b71bc289b02c3e3c": {
          "model_module": "@jupyter-widgets/controls",
          "model_name": "ProgressStyleModel",
          "model_module_version": "1.5.0",
          "state": {
            "_model_module": "@jupyter-widgets/controls",
            "_model_module_version": "1.5.0",
            "_model_name": "ProgressStyleModel",
            "_view_count": null,
            "_view_module": "@jupyter-widgets/base",
            "_view_module_version": "1.2.0",
            "_view_name": "StyleView",
            "bar_color": null,
            "description_width": ""
          }
        },
        "2416e45f2e27436e98c4a1d52f1bc9b9": {
          "model_module": "@jupyter-widgets/controls",
          "model_name": "VBoxModel",
          "model_module_version": "1.5.0",
          "state": {
            "_dom_classes": [
              "widget-interact"
            ],
            "_model_module": "@jupyter-widgets/controls",
            "_model_module_version": "1.5.0",
            "_model_name": "VBoxModel",
            "_view_count": null,
            "_view_module": "@jupyter-widgets/controls",
            "_view_module_version": "1.5.0",
            "_view_name": "VBoxView",
            "box_style": "",
            "children": [
              "IPY_MODEL_76c2e6be777545d3a582e02493475752",
              "IPY_MODEL_1e0292013a9c46a3affbf2be50394bd5"
            ],
            "layout": "IPY_MODEL_5e0e59c832ba4690bd825bcbd161374f"
          }
        },
        "76c2e6be777545d3a582e02493475752": {
          "model_module": "@jupyter-widgets/controls",
          "model_name": "ToggleButtonsModel",
          "model_module_version": "1.5.0",
          "state": {
            "_dom_classes": [],
            "_model_module": "@jupyter-widgets/controls",
            "_model_module_version": "1.5.0",
            "_model_name": "ToggleButtonsModel",
            "_options_labels": [
              "Anomaly TSnE (3d)",
              "UMAP Dimensionality"
            ],
            "_view_count": null,
            "_view_module": "@jupyter-widgets/controls",
            "_view_module_version": "1.5.0",
            "_view_name": "ToggleButtonsView",
            "button_style": "",
            "description": "Plot Type:",
            "description_tooltip": null,
            "disabled": false,
            "icons": [
              ""
            ],
            "index": 0,
            "layout": "IPY_MODEL_241f2d062e8540e8ad6e46942f47730a",
            "style": "IPY_MODEL_de709e9c84714481b8d4f3373f2ace67",
            "tooltips": []
          }
        },
        "1e0292013a9c46a3affbf2be50394bd5": {
          "model_module": "@jupyter-widgets/output",
          "model_name": "OutputModel",
          "model_module_version": "1.0.0",
          "state": {
            "_dom_classes": [],
            "_model_module": "@jupyter-widgets/output",
            "_model_module_version": "1.0.0",
            "_model_name": "OutputModel",
            "_view_count": null,
            "_view_module": "@jupyter-widgets/output",
            "_view_module_version": "1.0.0",
            "_view_name": "OutputView",
            "layout": "IPY_MODEL_8a7f6feccfd0458898efd23aa55c3a43",
            "msg_id": "",
            "outputs": [
              {
                "output_type": "display_data",
                "data": {
                  "text/html": "<html>\n<head><meta charset=\"utf-8\" /></head>\n<body>\n    <div>            <script src=\"https://cdnjs.cloudflare.com/ajax/libs/mathjax/2.7.5/MathJax.js?config=TeX-AMS-MML_SVG\"></script><script type=\"text/javascript\">if (window.MathJax) {MathJax.Hub.Config({SVG: {font: \"STIX-Web\"}});}</script>                <script type=\"text/javascript\">window.PlotlyConfig = {MathJaxConfig: 'local'};</script>\n        <script src=\"https://cdn.plot.ly/plotly-2.8.3.min.js\"></script>                <div id=\"07a853d5-f0d8-4bd7-a629-15b0394e84bd\" class=\"plotly-graph-div\" style=\"height:800px; width:900px;\"></div>            <script type=\"text/javascript\">                                    window.PLOTLYENV=window.PLOTLYENV || {};                                    if (document.getElementById(\"07a853d5-f0d8-4bd7-a629-15b0394e84bd\")) {                    Plotly.newPlot(                        \"07a853d5-f0d8-4bd7-a629-15b0394e84bd\",                        [{\"customdata\":[[-1.042569637298584],[-1.0569860935211182],[-1.0718579292297363],[-1.0845177173614502],[-0.9748108386993408],[-0.8082889914512634],[-0.7321016192436218],[-0.4991328120231628],[-0.3721775114536285],[-0.3452838361263275],[-0.4126873314380646],[-0.5583282113075256],[-0.7400768399238586],[-0.9520395398139954],[-1.166375756263733],[-1.3580330610275269],[-1.4299689531326294],[-1.448888063430786],[-1.4551920890808103],[-1.4719200134277344],[-1.4838628768920898],[-1.492546319961548],[-1.505098819732666],[-1.5338690280914309],[-1.5548322200775146],[-1.551674246788025],[-1.3465332984924316],[-0.9393476247787476],[-0.6119886636734009],[-0.2900940775871277],[0.0467687733471393],[0.360846608877182],[0.432355672121048],[0.4128997325897217],[0.4634924530982971],[0.4626893699169159],[0.4433625936508178],[0.4072152376174927],[0.1603015959262848],[-0.0629786252975463],[-0.3000729382038116],[-0.5238960385322571],[-0.7362663149833679],[-0.9378376603126526],[-1.13489830493927],[-1.3158025741577148],[-1.4059693813323977],[-1.450811743736267],[-1.4787224531173706],[-1.4894156455993652],[-1.4783046245574951],[-1.4705097675323486],[-1.455390214920044],[-1.473668932914734],[-1.465978980064392],[-1.3847979307174685],[-1.092218279838562],[-0.7926028370857239],[-0.5931138396263123],[-0.4452607333660126],[-0.3598239123821258],[-0.3868025541305542],[-0.5009125471115112],[-0.6529414057731628],[-0.8406859636306763],[-1.051345705986023],[-1.2731682062149048],[-1.4007362127304075],[-1.44389545917511],[-1.4653031826019287],[-1.469455599784851],[-1.4827409982681274],[-1.4936180114746094],[-1.5353230237960815],[-1.6015911102294922],[-1.5561386346817017],[-1.2002670764923096],[-0.768366277217865],[-0.5443164706230164],[-0.4654771089553833],[-0.5273060202598572],[-0.6730248928070068],[-0.8732708692550659],[-1.117473602294922],[-1.3448522090911863],[-1.4430913925170898],[-1.4576778411865234],[-1.443233609199524],[-1.4318811893463137],[-1.4582141637802124],[-1.4981333017349243],[-1.5354251861572266],[-1.5654234886169434],[-1.559131383895874],[-1.496434450149536],[-1.4676059484481812],[-1.4205511808395386],[-1.2465168237686155]],\"hovertemplate\":\"0=%{x}<br>1=%{y}<br>2=%{z}<br>Feature=%{customdata[0]}<br>Anomaly=%{marker.color}<extra></extra>\",\"legendgroup\":\"\",\"marker\":{\"color\":[0,0,0,0,0,0,0,0,0,0,0,0,0,0,0,0,0,0,0,0,0,0,0,0,0,0,0,0,0,0,0,1,1,1,1,0,0,0,0,0,0,0,0,0,0,0,0,0,0,0,0,0,0,0,0,0,0,0,0,0,0,0,0,0,0,0,0,0,0,0,0,0,0,0,0,0,0,0,0,0,0,0,0,0,0,0,0,0,0,0,0,1,0,0,0,0,0,0],\"coloraxis\":\"coloraxis\",\"opacity\":0.7,\"symbol\":\"circle\"},\"mode\":\"markers\",\"name\":\"\",\"scene\":\"scene\",\"showlegend\":false,\"x\":[78.51514,112.66877,37.121952,171.1127,88.08193,145.30669,60.860523,-106.520386,15.623837,-89.86489,-3.881475,-132.96992,-118.60367,-132.76022,-66.16673,-64.09714,-36.464367,4.668941,-47.57058,-3.5008578,14.450272,39.20438,75.94632,35.41367,3.8494105,-32.187656,137.84746,92.52116,68.06298,-38.94891,-72.408035,-51.818844,-26.047722,-81.21389,-108.01685,19.372688,-48.00723,-86.9434,-22.917528,-71.56016,-139.60603,64.41993,85.87395,82.19131,-149.98509,-35.980053,-119.46476,12.576624,59.10441,-21.22291,6.34375,32.10867,112.90717,152.02298,170.4842,171.2544,117.73012,-168.5468,-161.85216,-10.180152,-50.982567,-23.095364,-83.65546,-159.56306,-17.124733,100.96323,-72.14565,-100.12986,52.051674,11.069869,-14.608402,11.77891,77.6535,71.416855,157.48401,122.93395,61.98187,28.432444,-8.456572,-95.24285,-48.649967,-102.89651,-92.09663,-104.944176,68.751755,0.77676123,-53.912056,-50.28596,62.617306,46.29094,54.850067,120.272514,79.78814,114.226166,74.72432,-36.28194,52.189873,118.220436],\"y\":[51.91682,6.9524198,80.079865,37.843285,107.0942,94.16132,15.247184,-106.73817,4.5951304,55.1228,69.319466,-5.460749,-67.60911,-73.25451,-85.41108,-147.05737,-136.63359,-145.56102,-18.601189,-43.82567,12.870575,-46.958477,-14.530492,-64.726555,-104.36344,-64.68055,79.60921,74.53962,53.89221,60.89816,97.39468,112.705635,133.58838,157.67133,128.72815,1.7175684,168.99417,110.89843,36.26447,12.1604395,40.60497,-65.66328,138.85417,-21.136974,-17.492985,-107.79791,-13.177849,-171.12955,-150.05849,-78.12696,-28.916956,75.857605,13.380793,-30.352682,4.773494,12.358064,21.325857,-130.63078,-79.97822,15.205787,36.288567,-28.680887,-45.919052,-21.20243,166.36803,-87.862404,-89.03942,-43.557137,-123.42374,-98.52414,24.431566,-4.0062304,-20.342049,37.472736,43.973705,66.42467,73.95003,64.166374,95.69404,39.62223,-21.526316,-6.704959,-31.035366,-130.13779,178.02466,-85.28081,-31.665152,35.160934,-59.778625,-10.458411,-136.01021,-75.36618,105.00913,-117.84863,-80.07415,83.13324,140.26381,-52.75742],\"z\":[-144.93428,-42.119587,-108.401924,-58.3873,-69.40982,13.797858,35.24452,-92.8338,81.568985,103.21565,84.750404,121.146614,78.10215,16.611637,38.70738,51.216053,-5.082387,54.083504,-35.283634,-13.2153015,-99.73381,-107.66371,-145.5201,-161.33368,-117.78055,-159.52902,-89.502205,23.574286,76.80569,12.155073,45.38783,101.62852,47.156208,35.65961,80.82526,167.46292,91.09585,-13.8537245,125.88849,139.8553,62.350697,89.04128,72.60335,129.91466,-12.435337,91.687325,-97.98365,1.2953427,-108.20196,-61.8436,-68.77609,168.79616,-111.531586,-62.702267,-112.74375,-3.8498642,21.992098,44.716,-66.38266,33.668537,69.074844,124.23259,123.19475,61.65763,-35.89418,-176.92987,-20.668688,-48.129387,26.893316,-19.354727,-54.511906,-150.43906,-81.24062,-79.403275,66.26317,-34.26216,-24.432102,25.918825,-14.101365,14.687995,74.69427,72.542206,21.614664,4.022475,-51.038773,42.183765,-93.75469,-106.36253,-4.252958,-22.874413,-46.945522,-0.44720873,133.35843,-42.546597,-65.0352,185.00656,10.58472,-111.92245],\"type\":\"scatter3d\"}],                        {\"template\":{\"data\":{\"bar\":[{\"error_x\":{\"color\":\"#2a3f5f\"},\"error_y\":{\"color\":\"#2a3f5f\"},\"marker\":{\"line\":{\"color\":\"#E5ECF6\",\"width\":0.5},\"pattern\":{\"fillmode\":\"overlay\",\"size\":10,\"solidity\":0.2}},\"type\":\"bar\"}],\"barpolar\":[{\"marker\":{\"line\":{\"color\":\"#E5ECF6\",\"width\":0.5},\"pattern\":{\"fillmode\":\"overlay\",\"size\":10,\"solidity\":0.2}},\"type\":\"barpolar\"}],\"carpet\":[{\"aaxis\":{\"endlinecolor\":\"#2a3f5f\",\"gridcolor\":\"white\",\"linecolor\":\"white\",\"minorgridcolor\":\"white\",\"startlinecolor\":\"#2a3f5f\"},\"baxis\":{\"endlinecolor\":\"#2a3f5f\",\"gridcolor\":\"white\",\"linecolor\":\"white\",\"minorgridcolor\":\"white\",\"startlinecolor\":\"#2a3f5f\"},\"type\":\"carpet\"}],\"choropleth\":[{\"colorbar\":{\"outlinewidth\":0,\"ticks\":\"\"},\"type\":\"choropleth\"}],\"contour\":[{\"colorbar\":{\"outlinewidth\":0,\"ticks\":\"\"},\"colorscale\":[[0.0,\"#0d0887\"],[0.1111111111111111,\"#46039f\"],[0.2222222222222222,\"#7201a8\"],[0.3333333333333333,\"#9c179e\"],[0.4444444444444444,\"#bd3786\"],[0.5555555555555556,\"#d8576b\"],[0.6666666666666666,\"#ed7953\"],[0.7777777777777778,\"#fb9f3a\"],[0.8888888888888888,\"#fdca26\"],[1.0,\"#f0f921\"]],\"type\":\"contour\"}],\"contourcarpet\":[{\"colorbar\":{\"outlinewidth\":0,\"ticks\":\"\"},\"type\":\"contourcarpet\"}],\"heatmap\":[{\"colorbar\":{\"outlinewidth\":0,\"ticks\":\"\"},\"colorscale\":[[0.0,\"#0d0887\"],[0.1111111111111111,\"#46039f\"],[0.2222222222222222,\"#7201a8\"],[0.3333333333333333,\"#9c179e\"],[0.4444444444444444,\"#bd3786\"],[0.5555555555555556,\"#d8576b\"],[0.6666666666666666,\"#ed7953\"],[0.7777777777777778,\"#fb9f3a\"],[0.8888888888888888,\"#fdca26\"],[1.0,\"#f0f921\"]],\"type\":\"heatmap\"}],\"heatmapgl\":[{\"colorbar\":{\"outlinewidth\":0,\"ticks\":\"\"},\"colorscale\":[[0.0,\"#0d0887\"],[0.1111111111111111,\"#46039f\"],[0.2222222222222222,\"#7201a8\"],[0.3333333333333333,\"#9c179e\"],[0.4444444444444444,\"#bd3786\"],[0.5555555555555556,\"#d8576b\"],[0.6666666666666666,\"#ed7953\"],[0.7777777777777778,\"#fb9f3a\"],[0.8888888888888888,\"#fdca26\"],[1.0,\"#f0f921\"]],\"type\":\"heatmapgl\"}],\"histogram\":[{\"marker\":{\"pattern\":{\"fillmode\":\"overlay\",\"size\":10,\"solidity\":0.2}},\"type\":\"histogram\"}],\"histogram2d\":[{\"colorbar\":{\"outlinewidth\":0,\"ticks\":\"\"},\"colorscale\":[[0.0,\"#0d0887\"],[0.1111111111111111,\"#46039f\"],[0.2222222222222222,\"#7201a8\"],[0.3333333333333333,\"#9c179e\"],[0.4444444444444444,\"#bd3786\"],[0.5555555555555556,\"#d8576b\"],[0.6666666666666666,\"#ed7953\"],[0.7777777777777778,\"#fb9f3a\"],[0.8888888888888888,\"#fdca26\"],[1.0,\"#f0f921\"]],\"type\":\"histogram2d\"}],\"histogram2dcontour\":[{\"colorbar\":{\"outlinewidth\":0,\"ticks\":\"\"},\"colorscale\":[[0.0,\"#0d0887\"],[0.1111111111111111,\"#46039f\"],[0.2222222222222222,\"#7201a8\"],[0.3333333333333333,\"#9c179e\"],[0.4444444444444444,\"#bd3786\"],[0.5555555555555556,\"#d8576b\"],[0.6666666666666666,\"#ed7953\"],[0.7777777777777778,\"#fb9f3a\"],[0.8888888888888888,\"#fdca26\"],[1.0,\"#f0f921\"]],\"type\":\"histogram2dcontour\"}],\"mesh3d\":[{\"colorbar\":{\"outlinewidth\":0,\"ticks\":\"\"},\"type\":\"mesh3d\"}],\"parcoords\":[{\"line\":{\"colorbar\":{\"outlinewidth\":0,\"ticks\":\"\"}},\"type\":\"parcoords\"}],\"pie\":[{\"automargin\":true,\"type\":\"pie\"}],\"scatter\":[{\"marker\":{\"colorbar\":{\"outlinewidth\":0,\"ticks\":\"\"}},\"type\":\"scatter\"}],\"scatter3d\":[{\"line\":{\"colorbar\":{\"outlinewidth\":0,\"ticks\":\"\"}},\"marker\":{\"colorbar\":{\"outlinewidth\":0,\"ticks\":\"\"}},\"type\":\"scatter3d\"}],\"scattercarpet\":[{\"marker\":{\"colorbar\":{\"outlinewidth\":0,\"ticks\":\"\"}},\"type\":\"scattercarpet\"}],\"scattergeo\":[{\"marker\":{\"colorbar\":{\"outlinewidth\":0,\"ticks\":\"\"}},\"type\":\"scattergeo\"}],\"scattergl\":[{\"marker\":{\"colorbar\":{\"outlinewidth\":0,\"ticks\":\"\"}},\"type\":\"scattergl\"}],\"scattermapbox\":[{\"marker\":{\"colorbar\":{\"outlinewidth\":0,\"ticks\":\"\"}},\"type\":\"scattermapbox\"}],\"scatterpolar\":[{\"marker\":{\"colorbar\":{\"outlinewidth\":0,\"ticks\":\"\"}},\"type\":\"scatterpolar\"}],\"scatterpolargl\":[{\"marker\":{\"colorbar\":{\"outlinewidth\":0,\"ticks\":\"\"}},\"type\":\"scatterpolargl\"}],\"scatterternary\":[{\"marker\":{\"colorbar\":{\"outlinewidth\":0,\"ticks\":\"\"}},\"type\":\"scatterternary\"}],\"surface\":[{\"colorbar\":{\"outlinewidth\":0,\"ticks\":\"\"},\"colorscale\":[[0.0,\"#0d0887\"],[0.1111111111111111,\"#46039f\"],[0.2222222222222222,\"#7201a8\"],[0.3333333333333333,\"#9c179e\"],[0.4444444444444444,\"#bd3786\"],[0.5555555555555556,\"#d8576b\"],[0.6666666666666666,\"#ed7953\"],[0.7777777777777778,\"#fb9f3a\"],[0.8888888888888888,\"#fdca26\"],[1.0,\"#f0f921\"]],\"type\":\"surface\"}],\"table\":[{\"cells\":{\"fill\":{\"color\":\"#EBF0F8\"},\"line\":{\"color\":\"white\"}},\"header\":{\"fill\":{\"color\":\"#C8D4E3\"},\"line\":{\"color\":\"white\"}},\"type\":\"table\"}]},\"layout\":{\"annotationdefaults\":{\"arrowcolor\":\"#2a3f5f\",\"arrowhead\":0,\"arrowwidth\":1},\"autotypenumbers\":\"strict\",\"coloraxis\":{\"colorbar\":{\"outlinewidth\":0,\"ticks\":\"\"}},\"colorscale\":{\"diverging\":[[0,\"#8e0152\"],[0.1,\"#c51b7d\"],[0.2,\"#de77ae\"],[0.3,\"#f1b6da\"],[0.4,\"#fde0ef\"],[0.5,\"#f7f7f7\"],[0.6,\"#e6f5d0\"],[0.7,\"#b8e186\"],[0.8,\"#7fbc41\"],[0.9,\"#4d9221\"],[1,\"#276419\"]],\"sequential\":[[0.0,\"#0d0887\"],[0.1111111111111111,\"#46039f\"],[0.2222222222222222,\"#7201a8\"],[0.3333333333333333,\"#9c179e\"],[0.4444444444444444,\"#bd3786\"],[0.5555555555555556,\"#d8576b\"],[0.6666666666666666,\"#ed7953\"],[0.7777777777777778,\"#fb9f3a\"],[0.8888888888888888,\"#fdca26\"],[1.0,\"#f0f921\"]],\"sequentialminus\":[[0.0,\"#0d0887\"],[0.1111111111111111,\"#46039f\"],[0.2222222222222222,\"#7201a8\"],[0.3333333333333333,\"#9c179e\"],[0.4444444444444444,\"#bd3786\"],[0.5555555555555556,\"#d8576b\"],[0.6666666666666666,\"#ed7953\"],[0.7777777777777778,\"#fb9f3a\"],[0.8888888888888888,\"#fdca26\"],[1.0,\"#f0f921\"]]},\"colorway\":[\"#636efa\",\"#EF553B\",\"#00cc96\",\"#ab63fa\",\"#FFA15A\",\"#19d3f3\",\"#FF6692\",\"#B6E880\",\"#FF97FF\",\"#FECB52\"],\"font\":{\"color\":\"#2a3f5f\"},\"geo\":{\"bgcolor\":\"white\",\"lakecolor\":\"white\",\"landcolor\":\"#E5ECF6\",\"showlakes\":true,\"showland\":true,\"subunitcolor\":\"white\"},\"hoverlabel\":{\"align\":\"left\"},\"hovermode\":\"closest\",\"mapbox\":{\"style\":\"light\"},\"paper_bgcolor\":\"white\",\"plot_bgcolor\":\"#E5ECF6\",\"polar\":{\"angularaxis\":{\"gridcolor\":\"white\",\"linecolor\":\"white\",\"ticks\":\"\"},\"bgcolor\":\"#E5ECF6\",\"radialaxis\":{\"gridcolor\":\"white\",\"linecolor\":\"white\",\"ticks\":\"\"}},\"scene\":{\"xaxis\":{\"backgroundcolor\":\"#E5ECF6\",\"gridcolor\":\"white\",\"gridwidth\":2,\"linecolor\":\"white\",\"showbackground\":true,\"ticks\":\"\",\"zerolinecolor\":\"white\"},\"yaxis\":{\"backgroundcolor\":\"#E5ECF6\",\"gridcolor\":\"white\",\"gridwidth\":2,\"linecolor\":\"white\",\"showbackground\":true,\"ticks\":\"\",\"zerolinecolor\":\"white\"},\"zaxis\":{\"backgroundcolor\":\"#E5ECF6\",\"gridcolor\":\"white\",\"gridwidth\":2,\"linecolor\":\"white\",\"showbackground\":true,\"ticks\":\"\",\"zerolinecolor\":\"white\"}},\"shapedefaults\":{\"line\":{\"color\":\"#2a3f5f\"}},\"ternary\":{\"aaxis\":{\"gridcolor\":\"white\",\"linecolor\":\"white\",\"ticks\":\"\"},\"baxis\":{\"gridcolor\":\"white\",\"linecolor\":\"white\",\"ticks\":\"\"},\"bgcolor\":\"#E5ECF6\",\"caxis\":{\"gridcolor\":\"white\",\"linecolor\":\"white\",\"ticks\":\"\"}},\"title\":{\"x\":0.05},\"xaxis\":{\"automargin\":true,\"gridcolor\":\"white\",\"linecolor\":\"white\",\"ticks\":\"\",\"title\":{\"standoff\":15},\"zerolinecolor\":\"white\",\"zerolinewidth\":2},\"yaxis\":{\"automargin\":true,\"gridcolor\":\"white\",\"linecolor\":\"white\",\"ticks\":\"\",\"title\":{\"standoff\":15},\"zerolinecolor\":\"white\",\"zerolinewidth\":2}}},\"scene\":{\"domain\":{\"x\":[0.0,1.0],\"y\":[0.0,1.0]},\"xaxis\":{\"title\":{\"text\":\"0\"}},\"yaxis\":{\"title\":{\"text\":\"1\"}},\"zaxis\":{\"title\":{\"text\":\"2\"}}},\"coloraxis\":{\"colorbar\":{\"title\":{\"text\":\"Anomaly\"}},\"colorscale\":[[0.0,\"#0d0887\"],[0.1111111111111111,\"#46039f\"],[0.2222222222222222,\"#7201a8\"],[0.3333333333333333,\"#9c179e\"],[0.4444444444444444,\"#bd3786\"],[0.5555555555555556,\"#d8576b\"],[0.6666666666666666,\"#ed7953\"],[0.7777777777777778,\"#fb9f3a\"],[0.8888888888888888,\"#fdca26\"],[1.0,\"#f0f921\"]]},\"legend\":{\"tracegroupgap\":0},\"title\":{\"text\":\"3d TSNE Plot for Outliers\"},\"height\":800,\"width\":900},                        {\"responsive\": true}                    ).then(function(){\n                            \nvar gd = document.getElementById('07a853d5-f0d8-4bd7-a629-15b0394e84bd');\nvar x = new MutationObserver(function (mutations, observer) {{\n        var display = window.getComputedStyle(gd).display;\n        if (!display || display === 'none') {{\n            console.log([gd, 'removed!']);\n            Plotly.purge(gd);\n            observer.disconnect();\n        }}\n}});\n\n// Listen for the removal of the full notebook cells\nvar notebookContainer = gd.closest('#notebook-container');\nif (notebookContainer) {{\n    x.observe(notebookContainer, {childList: true});\n}}\n\n// Listen for the clearing of the current output cell\nvar outputEl = gd.closest('.output');\nif (outputEl) {{\n    x.observe(outputEl, {childList: true});\n}}\n\n                        })                };                            </script>        </div>\n</body>\n</html>"
                },
                "metadata": {}
              }
            ]
          }
        },
        "5e0e59c832ba4690bd825bcbd161374f": {
          "model_module": "@jupyter-widgets/base",
          "model_name": "LayoutModel",
          "model_module_version": "1.2.0",
          "state": {
            "_model_module": "@jupyter-widgets/base",
            "_model_module_version": "1.2.0",
            "_model_name": "LayoutModel",
            "_view_count": null,
            "_view_module": "@jupyter-widgets/base",
            "_view_module_version": "1.2.0",
            "_view_name": "LayoutView",
            "align_content": null,
            "align_items": null,
            "align_self": null,
            "border": null,
            "bottom": null,
            "display": null,
            "flex": null,
            "flex_flow": null,
            "grid_area": null,
            "grid_auto_columns": null,
            "grid_auto_flow": null,
            "grid_auto_rows": null,
            "grid_column": null,
            "grid_gap": null,
            "grid_row": null,
            "grid_template_areas": null,
            "grid_template_columns": null,
            "grid_template_rows": null,
            "height": null,
            "justify_content": null,
            "justify_items": null,
            "left": null,
            "margin": null,
            "max_height": null,
            "max_width": null,
            "min_height": null,
            "min_width": null,
            "object_fit": null,
            "object_position": null,
            "order": null,
            "overflow": null,
            "overflow_x": null,
            "overflow_y": null,
            "padding": null,
            "right": null,
            "top": null,
            "visibility": null,
            "width": null
          }
        },
        "241f2d062e8540e8ad6e46942f47730a": {
          "model_module": "@jupyter-widgets/base",
          "model_name": "LayoutModel",
          "model_module_version": "1.2.0",
          "state": {
            "_model_module": "@jupyter-widgets/base",
            "_model_module_version": "1.2.0",
            "_model_name": "LayoutModel",
            "_view_count": null,
            "_view_module": "@jupyter-widgets/base",
            "_view_module_version": "1.2.0",
            "_view_name": "LayoutView",
            "align_content": null,
            "align_items": null,
            "align_self": null,
            "border": null,
            "bottom": null,
            "display": null,
            "flex": null,
            "flex_flow": null,
            "grid_area": null,
            "grid_auto_columns": null,
            "grid_auto_flow": null,
            "grid_auto_rows": null,
            "grid_column": null,
            "grid_gap": null,
            "grid_row": null,
            "grid_template_areas": null,
            "grid_template_columns": null,
            "grid_template_rows": null,
            "height": null,
            "justify_content": null,
            "justify_items": null,
            "left": null,
            "margin": null,
            "max_height": null,
            "max_width": null,
            "min_height": null,
            "min_width": null,
            "object_fit": null,
            "object_position": null,
            "order": null,
            "overflow": null,
            "overflow_x": null,
            "overflow_y": null,
            "padding": null,
            "right": null,
            "top": null,
            "visibility": null,
            "width": null
          }
        },
        "de709e9c84714481b8d4f3373f2ace67": {
          "model_module": "@jupyter-widgets/controls",
          "model_name": "ToggleButtonsStyleModel",
          "model_module_version": "1.5.0",
          "state": {
            "_model_module": "@jupyter-widgets/controls",
            "_model_module_version": "1.5.0",
            "_model_name": "ToggleButtonsStyleModel",
            "_view_count": null,
            "_view_module": "@jupyter-widgets/base",
            "_view_module_version": "1.2.0",
            "_view_name": "StyleView",
            "button_width": "",
            "description_width": "",
            "font_weight": ""
          }
        },
        "79cb007be4914824b4fc909e57a348de": {
          "model_module": "@jupyter-widgets/controls",
          "model_name": "IntProgressModel",
          "model_module_version": "1.5.0",
          "state": {
            "_dom_classes": [],
            "_model_module": "@jupyter-widgets/controls",
            "_model_module_version": "1.5.0",
            "_model_name": "IntProgressModel",
            "_view_count": null,
            "_view_module": "@jupyter-widgets/controls",
            "_view_module_version": "1.5.0",
            "_view_name": "ProgressView",
            "bar_style": "",
            "description": "Processing: ",
            "description_tooltip": null,
            "layout": "IPY_MODEL_c86c4e3dfc15409c8724e7ef3e4962f3",
            "max": 5,
            "min": 0,
            "orientation": "horizontal",
            "style": "IPY_MODEL_b10c48d4bf544f7d8bc89509b9e63853",
            "value": 3
          }
        },
        "8a7f6feccfd0458898efd23aa55c3a43": {
          "model_module": "@jupyter-widgets/base",
          "model_name": "LayoutModel",
          "model_module_version": "1.2.0",
          "state": {
            "_model_module": "@jupyter-widgets/base",
            "_model_module_version": "1.2.0",
            "_model_name": "LayoutModel",
            "_view_count": null,
            "_view_module": "@jupyter-widgets/base",
            "_view_module_version": "1.2.0",
            "_view_name": "LayoutView",
            "align_content": null,
            "align_items": null,
            "align_self": null,
            "border": null,
            "bottom": null,
            "display": null,
            "flex": null,
            "flex_flow": null,
            "grid_area": null,
            "grid_auto_columns": null,
            "grid_auto_flow": null,
            "grid_auto_rows": null,
            "grid_column": null,
            "grid_gap": null,
            "grid_row": null,
            "grid_template_areas": null,
            "grid_template_columns": null,
            "grid_template_rows": null,
            "height": null,
            "justify_content": null,
            "justify_items": null,
            "left": null,
            "margin": null,
            "max_height": null,
            "max_width": null,
            "min_height": null,
            "min_width": null,
            "object_fit": null,
            "object_position": null,
            "order": null,
            "overflow": null,
            "overflow_x": null,
            "overflow_y": null,
            "padding": null,
            "right": null,
            "top": null,
            "visibility": null,
            "width": null
          }
        },
        "c86c4e3dfc15409c8724e7ef3e4962f3": {
          "model_module": "@jupyter-widgets/base",
          "model_name": "LayoutModel",
          "model_module_version": "1.2.0",
          "state": {
            "_model_module": "@jupyter-widgets/base",
            "_model_module_version": "1.2.0",
            "_model_name": "LayoutModel",
            "_view_count": null,
            "_view_module": "@jupyter-widgets/base",
            "_view_module_version": "1.2.0",
            "_view_name": "LayoutView",
            "align_content": null,
            "align_items": null,
            "align_self": null,
            "border": null,
            "bottom": null,
            "display": null,
            "flex": null,
            "flex_flow": null,
            "grid_area": null,
            "grid_auto_columns": null,
            "grid_auto_flow": null,
            "grid_auto_rows": null,
            "grid_column": null,
            "grid_gap": null,
            "grid_row": null,
            "grid_template_areas": null,
            "grid_template_columns": null,
            "grid_template_rows": null,
            "height": null,
            "justify_content": null,
            "justify_items": null,
            "left": null,
            "margin": null,
            "max_height": null,
            "max_width": null,
            "min_height": null,
            "min_width": null,
            "object_fit": null,
            "object_position": null,
            "order": null,
            "overflow": null,
            "overflow_x": null,
            "overflow_y": null,
            "padding": null,
            "right": null,
            "top": null,
            "visibility": null,
            "width": null
          }
        },
        "b10c48d4bf544f7d8bc89509b9e63853": {
          "model_module": "@jupyter-widgets/controls",
          "model_name": "ProgressStyleModel",
          "model_module_version": "1.5.0",
          "state": {
            "_model_module": "@jupyter-widgets/controls",
            "_model_module_version": "1.5.0",
            "_model_name": "ProgressStyleModel",
            "_view_count": null,
            "_view_module": "@jupyter-widgets/base",
            "_view_module_version": "1.2.0",
            "_view_name": "StyleView",
            "bar_color": null,
            "description_width": ""
          }
        }
      }
    }
  },
  "cells": [
    {
      "cell_type": "markdown",
      "source": [
        "## Libraries "
      ],
      "metadata": {
        "id": "5kbkmfSH6v3o"
      }
    },
    {
      "cell_type": "code",
      "execution_count": 1,
      "metadata": {
        "id": "YN5-u27d2GZk",
        "colab": {
          "base_uri": "https://localhost:8080/"
        },
        "outputId": "5c2909b6-edac-4ae5-8132-8647d0e7d812"
      },
      "outputs": [
        {
          "output_type": "stream",
          "name": "stdout",
          "text": [
            "Looking in indexes: https://pypi.org/simple, https://us-python.pkg.dev/colab-wheels/public/simple/\n",
            "Requirement already satisfied: pycaret[full] in /usr/local/lib/python3.7/dist-packages (2.3.10)\n",
            "Requirement already satisfied: scikit-learn==0.23.2 in /usr/local/lib/python3.7/dist-packages (from pycaret[full]) (0.23.2)\n",
            "Requirement already satisfied: ipywidgets in /usr/local/lib/python3.7/dist-packages (from pycaret[full]) (7.7.0)\n",
            "Requirement already satisfied: scikit-plot in /usr/local/lib/python3.7/dist-packages (from pycaret[full]) (0.3.7)\n",
            "Requirement already satisfied: imbalanced-learn==0.7.0 in /usr/local/lib/python3.7/dist-packages (from pycaret[full]) (0.7.0)\n",
            "Requirement already satisfied: mlflow in /usr/local/lib/python3.7/dist-packages (from pycaret[full]) (1.27.0)\n",
            "Requirement already satisfied: yellowbrick>=1.0.1 in /usr/local/lib/python3.7/dist-packages (from pycaret[full]) (1.3.post1)\n",
            "Requirement already satisfied: lightgbm>=2.3.1 in /usr/local/lib/python3.7/dist-packages (from pycaret[full]) (3.3.2)\n",
            "Requirement already satisfied: umap-learn in /usr/local/lib/python3.7/dist-packages (from pycaret[full]) (0.5.3)\n",
            "Requirement already satisfied: kmodes>=0.10.1 in /usr/local/lib/python3.7/dist-packages (from pycaret[full]) (0.12.1)\n",
            "Requirement already satisfied: pandas-profiling>=2.8.0 in /usr/local/lib/python3.7/dist-packages (from pycaret[full]) (3.2.0)\n",
            "Requirement already satisfied: pandas in /usr/local/lib/python3.7/dist-packages (from pycaret[full]) (1.3.5)\n",
            "Requirement already satisfied: mlxtend>=0.17.0 in /usr/local/lib/python3.7/dist-packages (from pycaret[full]) (0.19.0)\n",
            "Requirement already satisfied: numba<0.55 in /usr/local/lib/python3.7/dist-packages (from pycaret[full]) (0.51.2)\n",
            "Requirement already satisfied: gensim<4.0.0 in /usr/local/lib/python3.7/dist-packages (from pycaret[full]) (3.6.0)\n",
            "Requirement already satisfied: matplotlib in /usr/local/lib/python3.7/dist-packages (from pycaret[full]) (3.5.2)\n",
            "Requirement already satisfied: Boruta in /usr/local/lib/python3.7/dist-packages (from pycaret[full]) (0.3)\n",
            "Requirement already satisfied: seaborn in /usr/local/lib/python3.7/dist-packages (from pycaret[full]) (0.11.2)\n",
            "Requirement already satisfied: pyyaml<6.0.0 in /usr/local/lib/python3.7/dist-packages (from pycaret[full]) (5.4.1)\n",
            "Requirement already satisfied: cufflinks>=0.17.0 in /usr/local/lib/python3.7/dist-packages (from pycaret[full]) (0.17.3)\n",
            "Requirement already satisfied: joblib in /usr/local/lib/python3.7/dist-packages (from pycaret[full]) (1.1.0)\n",
            "Requirement already satisfied: scipy<=1.5.4 in /usr/local/lib/python3.7/dist-packages (from pycaret[full]) (1.5.4)\n",
            "Requirement already satisfied: wordcloud in /usr/local/lib/python3.7/dist-packages (from pycaret[full]) (1.5.0)\n",
            "Requirement already satisfied: pyod in /usr/local/lib/python3.7/dist-packages (from pycaret[full]) (1.0.2)\n",
            "Requirement already satisfied: textblob in /usr/local/lib/python3.7/dist-packages (from pycaret[full]) (0.15.3)\n",
            "Requirement already satisfied: spacy<2.4.0 in /usr/local/lib/python3.7/dist-packages (from pycaret[full]) (2.3.7)\n",
            "Requirement already satisfied: IPython in /usr/local/lib/python3.7/dist-packages (from pycaret[full]) (7.34.0)\n",
            "Requirement already satisfied: nltk in /usr/local/lib/python3.7/dist-packages (from pycaret[full]) (3.7)\n",
            "Requirement already satisfied: plotly>=4.4.1 in /usr/local/lib/python3.7/dist-packages (from pycaret[full]) (5.5.0)\n",
            "Requirement already satisfied: pyLDAvis in /usr/local/lib/python3.7/dist-packages (from pycaret[full]) (3.2.2)\n",
            "Requirement already satisfied: fairlearn in /usr/local/lib/python3.7/dist-packages (from pycaret[full]) (0.7.0)\n",
            "Requirement already satisfied: tune-sklearn>=0.2.1 in /usr/local/lib/python3.7/dist-packages (from pycaret[full]) (0.4.3)\n",
            "Requirement already satisfied: m2cgen in /usr/local/lib/python3.7/dist-packages (from pycaret[full]) (0.10.0)\n",
            "Requirement already satisfied: scikit-optimize>=0.8.1 in /usr/local/lib/python3.7/dist-packages (from pycaret[full]) (0.9.0)\n",
            "Requirement already satisfied: google-cloud-storage in /usr/local/lib/python3.7/dist-packages (from pycaret[full]) (1.18.1)\n",
            "Requirement already satisfied: gradio in /usr/local/lib/python3.7/dist-packages (from pycaret[full]) (3.0.24)\n",
            "Requirement already satisfied: fastapi in /usr/local/lib/python3.7/dist-packages (from pycaret[full]) (0.78.0)\n",
            "Requirement already satisfied: psutil in /usr/local/lib/python3.7/dist-packages (from pycaret[full]) (5.9.1)\n",
            "Requirement already satisfied: fugue>=0.6.5 in /usr/local/lib/python3.7/dist-packages (from pycaret[full]) (0.6.6)\n",
            "Requirement already satisfied: uvicorn in /usr/local/lib/python3.7/dist-packages (from pycaret[full]) (0.18.2)\n",
            "Requirement already satisfied: evidently in /usr/local/lib/python3.7/dist-packages (from pycaret[full]) (0.1.51.dev0)\n",
            "Requirement already satisfied: hyperopt in /usr/local/lib/python3.7/dist-packages (from pycaret[full]) (0.1.2)\n",
            "Requirement already satisfied: xgboost>=1.1.0 in /usr/local/lib/python3.7/dist-packages (from pycaret[full]) (1.6.1)\n",
            "Requirement already satisfied: boto3 in /usr/local/lib/python3.7/dist-packages (from pycaret[full]) (1.24.22)\n",
            "Requirement already satisfied: explainerdashboard in /usr/local/lib/python3.7/dist-packages (from pycaret[full]) (0.3.8.2)\n",
            "Requirement already satisfied: azure-storage-blob in /usr/local/lib/python3.7/dist-packages (from pycaret[full]) (12.12.0)\n",
            "Requirement already satisfied: optuna>=2.2.0 in /usr/local/lib/python3.7/dist-packages (from pycaret[full]) (2.10.1)\n",
            "Requirement already satisfied: catboost>=0.23.2 in /usr/local/lib/python3.7/dist-packages (from pycaret[full]) (1.0.6)\n",
            "Requirement already satisfied: interpret<=0.2.4 in /usr/local/lib/python3.7/dist-packages (from pycaret[full]) (0.2.4)\n",
            "Requirement already satisfied: shap in /usr/local/lib/python3.7/dist-packages (from pycaret[full]) (0.41.0)\n",
            "Requirement already satisfied: autoviz in /usr/local/lib/python3.7/dist-packages (from pycaret[full]) (0.1.41)\n",
            "Requirement already satisfied: ray[tune]>=1.0.0 in /usr/local/lib/python3.7/dist-packages (from pycaret[full]) (1.13.0)\n",
            "Requirement already satisfied: numpy>=1.13.3 in /usr/local/lib/python3.7/dist-packages (from imbalanced-learn==0.7.0->pycaret[full]) (1.19.5)\n",
            "Requirement already satisfied: threadpoolctl>=2.0.0 in /usr/local/lib/python3.7/dist-packages (from scikit-learn==0.23.2->pycaret[full]) (3.1.0)\n",
            "Requirement already satisfied: six in /usr/local/lib/python3.7/dist-packages (from catboost>=0.23.2->pycaret[full]) (1.15.0)\n",
            "Requirement already satisfied: graphviz in /usr/local/lib/python3.7/dist-packages (from catboost>=0.23.2->pycaret[full]) (0.20)\n",
            "Requirement already satisfied: setuptools>=34.4.1 in /usr/local/lib/python3.7/dist-packages (from cufflinks>=0.17.0->pycaret[full]) (57.4.0)\n",
            "Requirement already satisfied: colorlover>=0.2.1 in /usr/local/lib/python3.7/dist-packages (from cufflinks>=0.17.0->pycaret[full]) (0.3.0)\n",
            "Requirement already satisfied: sqlalchemy in /usr/local/lib/python3.7/dist-packages (from fugue>=0.6.5->pycaret[full]) (1.4.37)\n",
            "Requirement already satisfied: importlib-metadata in /usr/local/lib/python3.7/dist-packages (from fugue>=0.6.5->pycaret[full]) (4.11.4)\n",
            "Requirement already satisfied: antlr4-python3-runtime<4.10,>=4.9 in /usr/local/lib/python3.7/dist-packages (from fugue>=0.6.5->pycaret[full]) (4.9.3)\n",
            "Requirement already satisfied: qpd>=0.2.6 in /usr/local/lib/python3.7/dist-packages (from fugue>=0.6.5->pycaret[full]) (0.2.7)\n",
            "Requirement already satisfied: pyarrow>=0.15.1 in /usr/local/lib/python3.7/dist-packages (from fugue>=0.6.5->pycaret[full]) (6.0.1)\n",
            "Requirement already satisfied: triad>=0.6.0 in /usr/local/lib/python3.7/dist-packages (from fugue>=0.6.5->pycaret[full]) (0.6.4)\n",
            "Requirement already satisfied: adagio>=0.2.3 in /usr/local/lib/python3.7/dist-packages (from fugue>=0.6.5->pycaret[full]) (0.2.4)\n",
            "Requirement already satisfied: smart-open>=1.2.1 in /usr/local/lib/python3.7/dist-packages (from gensim<4.0.0->pycaret[full]) (5.2.1)\n",
            "Requirement already satisfied: interpret-core[dash,debug,decisiontree,ebm,lime,linear,notebook,plotly,required,sensitivity,shap,skoperules,treeinterpreter]>=0.2.4 in /usr/local/lib/python3.7/dist-packages (from interpret<=0.2.4->pycaret[full]) (0.2.7)\n",
            "Requirement already satisfied: dill>=0.2.5 in /usr/local/lib/python3.7/dist-packages (from interpret-core[dash,debug,decisiontree,ebm,lime,linear,notebook,plotly,required,sensitivity,shap,skoperules,treeinterpreter]>=0.2.4->interpret<=0.2.4->pycaret[full]) (0.3.5.1)\n",
            "Requirement already satisfied: treeinterpreter>=0.2.2 in /usr/local/lib/python3.7/dist-packages (from interpret-core[dash,debug,decisiontree,ebm,lime,linear,notebook,plotly,required,sensitivity,shap,skoperules,treeinterpreter]>=0.2.4->interpret<=0.2.4->pycaret[full]) (0.2.3)\n",
            "Requirement already satisfied: requests>=2.19.0 in /usr/local/lib/python3.7/dist-packages (from interpret-core[dash,debug,decisiontree,ebm,lime,linear,notebook,plotly,required,sensitivity,shap,skoperules,treeinterpreter]>=0.2.4->interpret<=0.2.4->pycaret[full]) (2.28.1)\n",
            "Requirement already satisfied: dash>=1.0.0 in /usr/local/lib/python3.7/dist-packages (from interpret-core[dash,debug,decisiontree,ebm,lime,linear,notebook,plotly,required,sensitivity,shap,skoperules,treeinterpreter]>=0.2.4->interpret<=0.2.4->pycaret[full]) (2.5.1)\n",
            "Requirement already satisfied: gevent>=1.3.6 in /usr/local/lib/python3.7/dist-packages (from interpret-core[dash,debug,decisiontree,ebm,lime,linear,notebook,plotly,required,sensitivity,shap,skoperules,treeinterpreter]>=0.2.4->interpret<=0.2.4->pycaret[full]) (21.12.0)\n",
            "Requirement already satisfied: dash-cytoscape>=0.1.1 in /usr/local/lib/python3.7/dist-packages (from interpret-core[dash,debug,decisiontree,ebm,lime,linear,notebook,plotly,required,sensitivity,shap,skoperules,treeinterpreter]>=0.2.4->interpret<=0.2.4->pycaret[full]) (0.3.0)\n",
            "Requirement already satisfied: dash-table>=4.1.0 in /usr/local/lib/python3.7/dist-packages (from interpret-core[dash,debug,decisiontree,ebm,lime,linear,notebook,plotly,required,sensitivity,shap,skoperules,treeinterpreter]>=0.2.4->interpret<=0.2.4->pycaret[full]) (5.0.0)\n",
            "Requirement already satisfied: skope-rules>=1.0.1 in /usr/local/lib/python3.7/dist-packages (from interpret-core[dash,debug,decisiontree,ebm,lime,linear,notebook,plotly,required,sensitivity,shap,skoperules,treeinterpreter]>=0.2.4->interpret<=0.2.4->pycaret[full]) (1.0.1)\n",
            "Requirement already satisfied: lime>=0.1.1.33 in /usr/local/lib/python3.7/dist-packages (from interpret-core[dash,debug,decisiontree,ebm,lime,linear,notebook,plotly,required,sensitivity,shap,skoperules,treeinterpreter]>=0.2.4->interpret<=0.2.4->pycaret[full]) (0.2.0.1)\n",
            "Requirement already satisfied: SALib>=1.3.3 in /usr/local/lib/python3.7/dist-packages (from interpret-core[dash,debug,decisiontree,ebm,lime,linear,notebook,plotly,required,sensitivity,shap,skoperules,treeinterpreter]>=0.2.4->interpret<=0.2.4->pycaret[full]) (1.4.5)\n",
            "Requirement already satisfied: ipykernel>=5.1.0 in /usr/local/lib/python3.7/dist-packages (from interpret-core[dash,debug,decisiontree,ebm,lime,linear,notebook,plotly,required,sensitivity,shap,skoperules,treeinterpreter]>=0.2.4->interpret<=0.2.4->pycaret[full]) (6.15.0)\n",
            "Requirement already satisfied: dash-core-components==2.0.0 in /usr/local/lib/python3.7/dist-packages (from dash>=1.0.0->interpret-core[dash,debug,decisiontree,ebm,lime,linear,notebook,plotly,required,sensitivity,shap,skoperules,treeinterpreter]>=0.2.4->interpret<=0.2.4->pycaret[full]) (2.0.0)\n",
            "Requirement already satisfied: dash-html-components==2.0.0 in /usr/local/lib/python3.7/dist-packages (from dash>=1.0.0->interpret-core[dash,debug,decisiontree,ebm,lime,linear,notebook,plotly,required,sensitivity,shap,skoperules,treeinterpreter]>=0.2.4->interpret<=0.2.4->pycaret[full]) (2.0.0)\n",
            "Requirement already satisfied: flask-compress in /usr/local/lib/python3.7/dist-packages (from dash>=1.0.0->interpret-core[dash,debug,decisiontree,ebm,lime,linear,notebook,plotly,required,sensitivity,shap,skoperules,treeinterpreter]>=0.2.4->interpret<=0.2.4->pycaret[full]) (1.12)\n",
            "Requirement already satisfied: Flask>=1.0.4 in /usr/local/lib/python3.7/dist-packages (from dash>=1.0.0->interpret-core[dash,debug,decisiontree,ebm,lime,linear,notebook,plotly,required,sensitivity,shap,skoperules,treeinterpreter]>=0.2.4->interpret<=0.2.4->pycaret[full]) (1.1.4)\n",
            "Requirement already satisfied: Werkzeug<2.0,>=0.15 in /usr/local/lib/python3.7/dist-packages (from Flask>=1.0.4->dash>=1.0.0->interpret-core[dash,debug,decisiontree,ebm,lime,linear,notebook,plotly,required,sensitivity,shap,skoperules,treeinterpreter]>=0.2.4->interpret<=0.2.4->pycaret[full]) (1.0.1)\n",
            "Requirement already satisfied: Jinja2<3.0,>=2.10.1 in /usr/local/lib/python3.7/dist-packages (from Flask>=1.0.4->dash>=1.0.0->interpret-core[dash,debug,decisiontree,ebm,lime,linear,notebook,plotly,required,sensitivity,shap,skoperules,treeinterpreter]>=0.2.4->interpret<=0.2.4->pycaret[full]) (2.11.3)\n",
            "Requirement already satisfied: click<8.0,>=5.1 in /usr/local/lib/python3.7/dist-packages (from Flask>=1.0.4->dash>=1.0.0->interpret-core[dash,debug,decisiontree,ebm,lime,linear,notebook,plotly,required,sensitivity,shap,skoperules,treeinterpreter]>=0.2.4->interpret<=0.2.4->pycaret[full]) (7.1.2)\n",
            "Requirement already satisfied: itsdangerous<2.0,>=0.24 in /usr/local/lib/python3.7/dist-packages (from Flask>=1.0.4->dash>=1.0.0->interpret-core[dash,debug,decisiontree,ebm,lime,linear,notebook,plotly,required,sensitivity,shap,skoperules,treeinterpreter]>=0.2.4->interpret<=0.2.4->pycaret[full]) (1.1.0)\n",
            "Requirement already satisfied: zope.interface in /usr/local/lib/python3.7/dist-packages (from gevent>=1.3.6->interpret-core[dash,debug,decisiontree,ebm,lime,linear,notebook,plotly,required,sensitivity,shap,skoperules,treeinterpreter]>=0.2.4->interpret<=0.2.4->pycaret[full]) (5.4.0)\n",
            "Requirement already satisfied: greenlet<2.0,>=1.1.0 in /usr/local/lib/python3.7/dist-packages (from gevent>=1.3.6->interpret-core[dash,debug,decisiontree,ebm,lime,linear,notebook,plotly,required,sensitivity,shap,skoperules,treeinterpreter]>=0.2.4->interpret<=0.2.4->pycaret[full]) (1.1.2)\n",
            "Requirement already satisfied: zope.event in /usr/local/lib/python3.7/dist-packages (from gevent>=1.3.6->interpret-core[dash,debug,decisiontree,ebm,lime,linear,notebook,plotly,required,sensitivity,shap,skoperules,treeinterpreter]>=0.2.4->interpret<=0.2.4->pycaret[full]) (4.5.0)\n",
            "Requirement already satisfied: matplotlib-inline>=0.1 in /usr/local/lib/python3.7/dist-packages (from ipykernel>=5.1.0->interpret-core[dash,debug,decisiontree,ebm,lime,linear,notebook,plotly,required,sensitivity,shap,skoperules,treeinterpreter]>=0.2.4->interpret<=0.2.4->pycaret[full]) (0.1.3)\n",
            "Requirement already satisfied: debugpy>=1.0 in /usr/local/lib/python3.7/dist-packages (from ipykernel>=5.1.0->interpret-core[dash,debug,decisiontree,ebm,lime,linear,notebook,plotly,required,sensitivity,shap,skoperules,treeinterpreter]>=0.2.4->interpret<=0.2.4->pycaret[full]) (1.0.0)\n",
            "Requirement already satisfied: jupyter-client>=6.1.12 in /usr/local/lib/python3.7/dist-packages (from ipykernel>=5.1.0->interpret-core[dash,debug,decisiontree,ebm,lime,linear,notebook,plotly,required,sensitivity,shap,skoperules,treeinterpreter]>=0.2.4->interpret<=0.2.4->pycaret[full]) (7.3.4)\n",
            "Requirement already satisfied: tornado>=6.1 in /usr/local/lib/python3.7/dist-packages (from ipykernel>=5.1.0->interpret-core[dash,debug,decisiontree,ebm,lime,linear,notebook,plotly,required,sensitivity,shap,skoperules,treeinterpreter]>=0.2.4->interpret<=0.2.4->pycaret[full]) (6.2)\n",
            "Requirement already satisfied: pyzmq>=17 in /usr/local/lib/python3.7/dist-packages (from ipykernel>=5.1.0->interpret-core[dash,debug,decisiontree,ebm,lime,linear,notebook,plotly,required,sensitivity,shap,skoperules,treeinterpreter]>=0.2.4->interpret<=0.2.4->pycaret[full]) (23.1.0)\n",
            "Requirement already satisfied: packaging in /usr/local/lib/python3.7/dist-packages (from ipykernel>=5.1.0->interpret-core[dash,debug,decisiontree,ebm,lime,linear,notebook,plotly,required,sensitivity,shap,skoperules,treeinterpreter]>=0.2.4->interpret<=0.2.4->pycaret[full]) (21.3)\n",
            "Requirement already satisfied: nest-asyncio in /usr/local/lib/python3.7/dist-packages (from ipykernel>=5.1.0->interpret-core[dash,debug,decisiontree,ebm,lime,linear,notebook,plotly,required,sensitivity,shap,skoperules,treeinterpreter]>=0.2.4->interpret<=0.2.4->pycaret[full]) (1.5.5)\n",
            "Requirement already satisfied: traitlets>=5.1.0 in /usr/local/lib/python3.7/dist-packages (from ipykernel>=5.1.0->interpret-core[dash,debug,decisiontree,ebm,lime,linear,notebook,plotly,required,sensitivity,shap,skoperules,treeinterpreter]>=0.2.4->interpret<=0.2.4->pycaret[full]) (5.1.1)\n",
            "Requirement already satisfied: pygments in /usr/local/lib/python3.7/dist-packages (from IPython->pycaret[full]) (2.6.1)\n",
            "Requirement already satisfied: pexpect>4.3 in /usr/local/lib/python3.7/dist-packages (from IPython->pycaret[full]) (4.8.0)\n",
            "Requirement already satisfied: prompt-toolkit!=3.0.0,!=3.0.1,<3.1.0,>=2.0.0 in /usr/local/lib/python3.7/dist-packages (from IPython->pycaret[full]) (3.0.30)\n",
            "Requirement already satisfied: jedi>=0.16 in /usr/local/lib/python3.7/dist-packages (from IPython->pycaret[full]) (0.18.1)\n",
            "Requirement already satisfied: decorator in /usr/local/lib/python3.7/dist-packages (from IPython->pycaret[full]) (4.4.2)\n",
            "Requirement already satisfied: backcall in /usr/local/lib/python3.7/dist-packages (from IPython->pycaret[full]) (0.2.0)\n",
            "Requirement already satisfied: pickleshare in /usr/local/lib/python3.7/dist-packages (from IPython->pycaret[full]) (0.7.5)\n",
            "Requirement already satisfied: ipython-genutils~=0.2.0 in /usr/local/lib/python3.7/dist-packages (from ipywidgets->pycaret[full]) (0.2.0)\n",
            "Requirement already satisfied: jupyterlab-widgets>=1.0.0 in /usr/local/lib/python3.7/dist-packages (from ipywidgets->pycaret[full]) (1.1.0)\n",
            "Requirement already satisfied: widgetsnbextension~=3.6.0 in /usr/local/lib/python3.7/dist-packages (from ipywidgets->pycaret[full]) (3.6.0)\n",
            "Requirement already satisfied: nbformat>=4.2.0 in /usr/local/lib/python3.7/dist-packages (from ipywidgets->pycaret[full]) (5.4.0)\n",
            "Requirement already satisfied: parso<0.9.0,>=0.8.0 in /usr/local/lib/python3.7/dist-packages (from jedi>=0.16->IPython->pycaret[full]) (0.8.3)\n",
            "Requirement already satisfied: MarkupSafe>=0.23 in /usr/local/lib/python3.7/dist-packages (from Jinja2<3.0,>=2.10.1->Flask>=1.0.4->dash>=1.0.0->interpret-core[dash,debug,decisiontree,ebm,lime,linear,notebook,plotly,required,sensitivity,shap,skoperules,treeinterpreter]>=0.2.4->interpret<=0.2.4->pycaret[full]) (2.0.1)\n",
            "Requirement already satisfied: jupyter-core>=4.9.2 in /usr/local/lib/python3.7/dist-packages (from jupyter-client>=6.1.12->ipykernel>=5.1.0->interpret-core[dash,debug,decisiontree,ebm,lime,linear,notebook,plotly,required,sensitivity,shap,skoperules,treeinterpreter]>=0.2.4->interpret<=0.2.4->pycaret[full]) (4.10.0)\n",
            "Requirement already satisfied: entrypoints in /usr/local/lib/python3.7/dist-packages (from jupyter-client>=6.1.12->ipykernel>=5.1.0->interpret-core[dash,debug,decisiontree,ebm,lime,linear,notebook,plotly,required,sensitivity,shap,skoperules,treeinterpreter]>=0.2.4->interpret<=0.2.4->pycaret[full]) (0.4)\n",
            "Requirement already satisfied: python-dateutil>=2.8.2 in /usr/local/lib/python3.7/dist-packages (from jupyter-client>=6.1.12->ipykernel>=5.1.0->interpret-core[dash,debug,decisiontree,ebm,lime,linear,notebook,plotly,required,sensitivity,shap,skoperules,treeinterpreter]>=0.2.4->interpret<=0.2.4->pycaret[full]) (2.8.2)\n",
            "Requirement already satisfied: wheel in /usr/local/lib/python3.7/dist-packages (from lightgbm>=2.3.1->pycaret[full]) (0.37.1)\n",
            "Requirement already satisfied: tqdm in /usr/local/lib/python3.7/dist-packages (from lime>=0.1.1.33->interpret-core[dash,debug,decisiontree,ebm,lime,linear,notebook,plotly,required,sensitivity,shap,skoperules,treeinterpreter]>=0.2.4->interpret<=0.2.4->pycaret[full]) (4.64.0)\n",
            "Requirement already satisfied: scikit-image>=0.12 in /usr/local/lib/python3.7/dist-packages (from lime>=0.1.1.33->interpret-core[dash,debug,decisiontree,ebm,lime,linear,notebook,plotly,required,sensitivity,shap,skoperules,treeinterpreter]>=0.2.4->interpret<=0.2.4->pycaret[full]) (0.18.3)\n",
            "Requirement already satisfied: pyparsing>=2.2.1 in /usr/local/lib/python3.7/dist-packages (from matplotlib->pycaret[full]) (3.0.9)\n",
            "Requirement already satisfied: fonttools>=4.22.0 in /usr/local/lib/python3.7/dist-packages (from matplotlib->pycaret[full]) (4.33.3)\n",
            "Requirement already satisfied: kiwisolver>=1.0.1 in /usr/local/lib/python3.7/dist-packages (from matplotlib->pycaret[full]) (1.4.3)\n",
            "Requirement already satisfied: cycler>=0.10 in /usr/local/lib/python3.7/dist-packages (from matplotlib->pycaret[full]) (0.11.0)\n",
            "Requirement already satisfied: pillow>=6.2.0 in /usr/local/lib/python3.7/dist-packages (from matplotlib->pycaret[full]) (7.1.2)\n",
            "Requirement already satisfied: typing-extensions in /usr/local/lib/python3.7/dist-packages (from kiwisolver>=1.0.1->matplotlib->pycaret[full]) (4.1.1)\n",
            "Requirement already satisfied: fastjsonschema in /usr/local/lib/python3.7/dist-packages (from nbformat>=4.2.0->ipywidgets->pycaret[full]) (2.15.3)\n",
            "Requirement already satisfied: jsonschema>=2.6 in /usr/local/lib/python3.7/dist-packages (from nbformat>=4.2.0->ipywidgets->pycaret[full]) (4.3.3)\n",
            "Requirement already satisfied: pyrsistent!=0.17.0,!=0.17.1,!=0.17.2,>=0.14.0 in /usr/local/lib/python3.7/dist-packages (from jsonschema>=2.6->nbformat>=4.2.0->ipywidgets->pycaret[full]) (0.18.1)\n",
            "Requirement already satisfied: attrs>=17.4.0 in /usr/local/lib/python3.7/dist-packages (from jsonschema>=2.6->nbformat>=4.2.0->ipywidgets->pycaret[full]) (21.4.0)\n",
            "Requirement already satisfied: importlib-resources>=1.4.0 in /usr/local/lib/python3.7/dist-packages (from jsonschema>=2.6->nbformat>=4.2.0->ipywidgets->pycaret[full]) (5.7.1)\n",
            "Requirement already satisfied: zipp>=3.1.0 in /usr/local/lib/python3.7/dist-packages (from importlib-resources>=1.4.0->jsonschema>=2.6->nbformat>=4.2.0->ipywidgets->pycaret[full]) (3.8.0)\n",
            "Requirement already satisfied: llvmlite<0.35,>=0.34.0.dev0 in /usr/local/lib/python3.7/dist-packages (from numba<0.55->pycaret[full]) (0.34.0)\n",
            "Requirement already satisfied: alembic in /usr/local/lib/python3.7/dist-packages (from optuna>=2.2.0->pycaret[full]) (1.8.0)\n",
            "Requirement already satisfied: colorlog in /usr/local/lib/python3.7/dist-packages (from optuna>=2.2.0->pycaret[full]) (6.6.0)\n",
            "Requirement already satisfied: cmaes>=0.8.2 in /usr/local/lib/python3.7/dist-packages (from optuna>=2.2.0->pycaret[full]) (0.8.2)\n",
            "Requirement already satisfied: cliff in /usr/local/lib/python3.7/dist-packages (from optuna>=2.2.0->pycaret[full]) (3.10.1)\n",
            "Requirement already satisfied: pytz>=2017.3 in /usr/local/lib/python3.7/dist-packages (from pandas->pycaret[full]) (2022.1)\n",
            "Requirement already satisfied: phik>=0.11.1 in /usr/local/lib/python3.7/dist-packages (from pandas-profiling>=2.8.0->pycaret[full]) (0.12.2)\n",
            "Requirement already satisfied: pydantic>=1.8.1 in /usr/local/lib/python3.7/dist-packages (from pandas-profiling>=2.8.0->pycaret[full]) (1.8.2)\n",
            "Requirement already satisfied: tangled-up-in-unicode==0.2.0 in /usr/local/lib/python3.7/dist-packages (from pandas-profiling>=2.8.0->pycaret[full]) (0.2.0)\n",
            "Requirement already satisfied: htmlmin>=0.1.12 in /usr/local/lib/python3.7/dist-packages (from pandas-profiling>=2.8.0->pycaret[full]) (0.1.12)\n",
            "Requirement already satisfied: multimethod>=1.4 in /usr/local/lib/python3.7/dist-packages (from pandas-profiling>=2.8.0->pycaret[full]) (1.8)\n",
            "Requirement already satisfied: visions[type_image_path]==0.7.4 in /usr/local/lib/python3.7/dist-packages (from pandas-profiling>=2.8.0->pycaret[full]) (0.7.4)\n",
            "Collecting MarkupSafe>=0.23\n",
            "  Using cached MarkupSafe-2.1.1-cp37-cp37m-manylinux_2_17_x86_64.manylinux2014_x86_64.whl (25 kB)\n",
            "Requirement already satisfied: missingno>=0.4.2 in /usr/local/lib/python3.7/dist-packages (from pandas-profiling>=2.8.0->pycaret[full]) (0.5.1)\n",
            "Requirement already satisfied: networkx>=2.4 in /usr/local/lib/python3.7/dist-packages (from visions[type_image_path]==0.7.4->pandas-profiling>=2.8.0->pycaret[full]) (2.6.3)\n",
            "Requirement already satisfied: imagehash in /usr/local/lib/python3.7/dist-packages (from visions[type_image_path]==0.7.4->pandas-profiling>=2.8.0->pycaret[full]) (4.2.1)\n",
            "Requirement already satisfied: ptyprocess>=0.5 in /usr/local/lib/python3.7/dist-packages (from pexpect>4.3->IPython->pycaret[full]) (0.7.0)\n",
            "Requirement already satisfied: tenacity>=6.2.0 in /usr/local/lib/python3.7/dist-packages (from plotly>=4.4.1->pycaret[full]) (8.0.1)\n",
            "Requirement already satisfied: wcwidth in /usr/local/lib/python3.7/dist-packages (from prompt-toolkit!=3.0.0,!=3.0.1,<3.1.0,>=2.0.0->IPython->pycaret[full]) (0.2.5)\n",
            "Requirement already satisfied: aiosignal in /usr/local/lib/python3.7/dist-packages (from ray[tune]>=1.0.0->pycaret[full]) (1.2.0)\n",
            "Requirement already satisfied: protobuf<4.0.0,>=3.15.3 in /usr/local/lib/python3.7/dist-packages (from ray[tune]>=1.0.0->pycaret[full]) (3.17.3)\n",
            "Requirement already satisfied: frozenlist in /usr/local/lib/python3.7/dist-packages (from ray[tune]>=1.0.0->pycaret[full]) (1.3.0)\n",
            "Requirement already satisfied: filelock in /usr/local/lib/python3.7/dist-packages (from ray[tune]>=1.0.0->pycaret[full]) (3.7.1)\n",
            "Requirement already satisfied: msgpack<2.0.0,>=1.0.0 in /usr/local/lib/python3.7/dist-packages (from ray[tune]>=1.0.0->pycaret[full]) (1.0.4)\n",
            "Requirement already satisfied: virtualenv in /usr/local/lib/python3.7/dist-packages (from ray[tune]>=1.0.0->pycaret[full]) (20.15.1)\n",
            "Requirement already satisfied: grpcio<=1.43.0,>=1.28.1 in /usr/local/lib/python3.7/dist-packages (from ray[tune]>=1.0.0->pycaret[full]) (1.43.0)\n",
            "Requirement already satisfied: tensorboardX>=1.9 in /usr/local/lib/python3.7/dist-packages (from ray[tune]>=1.0.0->pycaret[full]) (2.5.1)\n",
            "Requirement already satisfied: tabulate in /usr/local/lib/python3.7/dist-packages (from ray[tune]>=1.0.0->pycaret[full]) (0.8.9)\n",
            "Requirement already satisfied: charset-normalizer<3,>=2 in /usr/local/lib/python3.7/dist-packages (from requests>=2.19.0->interpret-core[dash,debug,decisiontree,ebm,lime,linear,notebook,plotly,required,sensitivity,shap,skoperules,treeinterpreter]>=0.2.4->interpret<=0.2.4->pycaret[full]) (2.0.12)\n",
            "Requirement already satisfied: idna<4,>=2.5 in /usr/local/lib/python3.7/dist-packages (from requests>=2.19.0->interpret-core[dash,debug,decisiontree,ebm,lime,linear,notebook,plotly,required,sensitivity,shap,skoperules,treeinterpreter]>=0.2.4->interpret<=0.2.4->pycaret[full]) (2.10)\n",
            "Requirement already satisfied: certifi>=2017.4.17 in /usr/local/lib/python3.7/dist-packages (from requests>=2.19.0->interpret-core[dash,debug,decisiontree,ebm,lime,linear,notebook,plotly,required,sensitivity,shap,skoperules,treeinterpreter]>=0.2.4->interpret<=0.2.4->pycaret[full]) (2022.6.15)\n",
            "Requirement already satisfied: urllib3<1.27,>=1.21.1 in /usr/local/lib/python3.7/dist-packages (from requests>=2.19.0->interpret-core[dash,debug,decisiontree,ebm,lime,linear,notebook,plotly,required,sensitivity,shap,skoperules,treeinterpreter]>=0.2.4->interpret<=0.2.4->pycaret[full]) (1.26.9)\n",
            "Requirement already satisfied: pathos in /usr/local/lib/python3.7/dist-packages (from SALib>=1.3.3->interpret-core[dash,debug,decisiontree,ebm,lime,linear,notebook,plotly,required,sensitivity,shap,skoperules,treeinterpreter]>=0.2.4->interpret<=0.2.4->pycaret[full]) (0.2.9)\n",
            "Requirement already satisfied: tifffile>=2019.7.26 in /usr/local/lib/python3.7/dist-packages (from scikit-image>=0.12->lime>=0.1.1.33->interpret-core[dash,debug,decisiontree,ebm,lime,linear,notebook,plotly,required,sensitivity,shap,skoperules,treeinterpreter]>=0.2.4->interpret<=0.2.4->pycaret[full]) (2021.11.2)\n",
            "Requirement already satisfied: imageio>=2.3.0 in /usr/local/lib/python3.7/dist-packages (from scikit-image>=0.12->lime>=0.1.1.33->interpret-core[dash,debug,decisiontree,ebm,lime,linear,notebook,plotly,required,sensitivity,shap,skoperules,treeinterpreter]>=0.2.4->interpret<=0.2.4->pycaret[full]) (2.4.1)\n",
            "Requirement already satisfied: PyWavelets>=1.1.1 in /usr/local/lib/python3.7/dist-packages (from scikit-image>=0.12->lime>=0.1.1.33->interpret-core[dash,debug,decisiontree,ebm,lime,linear,notebook,plotly,required,sensitivity,shap,skoperules,treeinterpreter]>=0.2.4->interpret<=0.2.4->pycaret[full]) (1.3.0)\n",
            "Requirement already satisfied: pyaml>=16.9 in /usr/local/lib/python3.7/dist-packages (from scikit-optimize>=0.8.1->pycaret[full]) (21.10.1)\n",
            "Requirement already satisfied: slicer==0.0.7 in /usr/local/lib/python3.7/dist-packages (from shap->pycaret[full]) (0.0.7)\n",
            "Requirement already satisfied: cloudpickle in /usr/local/lib/python3.7/dist-packages (from shap->pycaret[full]) (1.3.0)\n",
            "Requirement already satisfied: cymem<2.1.0,>=2.0.2 in /usr/local/lib/python3.7/dist-packages (from spacy<2.4.0->pycaret[full]) (2.0.6)\n",
            "Requirement already satisfied: murmurhash<1.1.0,>=0.28.0 in /usr/local/lib/python3.7/dist-packages (from spacy<2.4.0->pycaret[full]) (1.0.7)\n",
            "Requirement already satisfied: blis<0.8.0,>=0.4.0 in /usr/local/lib/python3.7/dist-packages (from spacy<2.4.0->pycaret[full]) (0.7.7)\n",
            "Requirement already satisfied: catalogue<1.1.0,>=0.0.7 in /usr/local/lib/python3.7/dist-packages (from spacy<2.4.0->pycaret[full]) (1.0.0)\n",
            "Requirement already satisfied: plac<1.2.0,>=0.9.6 in /usr/local/lib/python3.7/dist-packages (from spacy<2.4.0->pycaret[full]) (1.1.3)\n",
            "Requirement already satisfied: srsly<1.1.0,>=1.0.2 in /usr/local/lib/python3.7/dist-packages (from spacy<2.4.0->pycaret[full]) (1.0.5)\n",
            "Requirement already satisfied: wasabi<1.1.0,>=0.4.0 in /usr/local/lib/python3.7/dist-packages (from spacy<2.4.0->pycaret[full]) (0.9.1)\n",
            "Requirement already satisfied: preshed<3.1.0,>=3.0.2 in /usr/local/lib/python3.7/dist-packages (from spacy<2.4.0->pycaret[full]) (3.0.6)\n",
            "Requirement already satisfied: thinc<7.5.0,>=7.4.1 in /usr/local/lib/python3.7/dist-packages (from spacy<2.4.0->pycaret[full]) (7.4.5)\n",
            "Requirement already satisfied: fs in /usr/local/lib/python3.7/dist-packages (from triad>=0.6.0->fugue>=0.6.5->pycaret[full]) (2.4.16)\n",
            "Requirement already satisfied: notebook>=4.4.1 in /usr/local/lib/python3.7/dist-packages (from widgetsnbextension~=3.6.0->ipywidgets->pycaret[full]) (5.3.1)\n",
            "Requirement already satisfied: terminado>=0.8.1 in /usr/local/lib/python3.7/dist-packages (from notebook>=4.4.1->widgetsnbextension~=3.6.0->ipywidgets->pycaret[full]) (0.13.3)\n",
            "Requirement already satisfied: Send2Trash in /usr/local/lib/python3.7/dist-packages (from notebook>=4.4.1->widgetsnbextension~=3.6.0->ipywidgets->pycaret[full]) (1.8.0)\n",
            "Requirement already satisfied: nbconvert in /usr/local/lib/python3.7/dist-packages (from notebook>=4.4.1->widgetsnbextension~=3.6.0->ipywidgets->pycaret[full]) (5.6.1)\n",
            "Requirement already satisfied: Mako in /usr/local/lib/python3.7/dist-packages (from alembic->optuna>=2.2.0->pycaret[full]) (1.2.1)\n",
            "Requirement already satisfied: statsmodels in /usr/local/lib/python3.7/dist-packages (from autoviz->pycaret[full]) (0.13.2)\n",
            "Requirement already satisfied: jupyter in /usr/local/lib/python3.7/dist-packages (from autoviz->pycaret[full]) (1.0.0)\n",
            "Requirement already satisfied: fsspec>=0.8.3 in /usr/local/lib/python3.7/dist-packages (from autoviz->pycaret[full]) (2022.5.0)\n",
            "Requirement already satisfied: bokeh>=2.4.2 in /usr/local/lib/python3.7/dist-packages (from autoviz->pycaret[full]) (2.4.3)\n",
            "Requirement already satisfied: holoviews>=1.14.6 in /usr/local/lib/python3.7/dist-packages (from autoviz->pycaret[full]) (1.14.9)\n",
            "Requirement already satisfied: pyamg in /usr/local/lib/python3.7/dist-packages (from autoviz->pycaret[full]) (4.2.3)\n",
            "Requirement already satisfied: xlrd in /usr/local/lib/python3.7/dist-packages (from autoviz->pycaret[full]) (1.1.0)\n",
            "Requirement already satisfied: hvplot>=0.7.3 in /usr/local/lib/python3.7/dist-packages (from autoviz->pycaret[full]) (0.8.0)\n",
            "Requirement already satisfied: emoji in /usr/local/lib/python3.7/dist-packages (from autoviz->pycaret[full]) (1.7.0)\n",
            "Requirement already satisfied: panel~=0.12.6 in /usr/local/lib/python3.7/dist-packages (from autoviz->pycaret[full]) (0.12.7)\n",
            "Requirement already satisfied: pyviz-comms>=0.7.4 in /usr/local/lib/python3.7/dist-packages (from holoviews>=1.14.6->autoviz->pycaret[full]) (2.2.0)\n",
            "Requirement already satisfied: param<2.0,>=1.9.3 in /usr/local/lib/python3.7/dist-packages (from holoviews>=1.14.6->autoviz->pycaret[full]) (1.12.1)\n",
            "Requirement already satisfied: colorcet in /usr/local/lib/python3.7/dist-packages (from holoviews>=1.14.6->autoviz->pycaret[full]) (3.0.0)\n",
            "Requirement already satisfied: pyct>=0.4.4 in /usr/local/lib/python3.7/dist-packages (from colorcet->holoviews>=1.14.6->autoviz->pycaret[full]) (0.4.8)\n",
            "Requirement already satisfied: bleach in /usr/local/lib/python3.7/dist-packages (from panel~=0.12.6->autoviz->pycaret[full]) (5.0.0)\n",
            "Requirement already satisfied: markdown in /usr/local/lib/python3.7/dist-packages (from panel~=0.12.6->autoviz->pycaret[full]) (3.3.7)\n",
            "Requirement already satisfied: cryptography>=2.1.4 in /usr/local/lib/python3.7/dist-packages (from azure-storage-blob->pycaret[full]) (37.0.2)\n",
            "Requirement already satisfied: azure-core<2.0.0,>=1.23.1 in /usr/local/lib/python3.7/dist-packages (from azure-storage-blob->pycaret[full]) (1.24.2)\n",
            "Requirement already satisfied: msrest>=0.6.21 in /usr/local/lib/python3.7/dist-packages (from azure-storage-blob->pycaret[full]) (0.7.1)\n",
            "Requirement already satisfied: cffi>=1.12 in /usr/local/lib/python3.7/dist-packages (from cryptography>=2.1.4->azure-storage-blob->pycaret[full]) (1.15.0)\n",
            "Requirement already satisfied: pycparser in /usr/local/lib/python3.7/dist-packages (from cffi>=1.12->cryptography>=2.1.4->azure-storage-blob->pycaret[full]) (2.21)\n",
            "Requirement already satisfied: isodate>=0.6.0 in /usr/local/lib/python3.7/dist-packages (from msrest>=0.6.21->azure-storage-blob->pycaret[full]) (0.6.1)\n",
            "Requirement already satisfied: requests-oauthlib>=0.5.0 in /usr/local/lib/python3.7/dist-packages (from msrest>=0.6.21->azure-storage-blob->pycaret[full]) (1.3.1)\n",
            "Requirement already satisfied: oauthlib>=3.0.0 in /usr/local/lib/python3.7/dist-packages (from requests-oauthlib>=0.5.0->msrest>=0.6.21->azure-storage-blob->pycaret[full]) (3.2.0)\n",
            "Requirement already satisfied: webencodings in /usr/local/lib/python3.7/dist-packages (from bleach->panel~=0.12.6->autoviz->pycaret[full]) (0.5.1)\n",
            "Requirement already satisfied: botocore<1.28.0,>=1.27.22 in /usr/local/lib/python3.7/dist-packages (from boto3->pycaret[full]) (1.27.22)\n",
            "Requirement already satisfied: jmespath<2.0.0,>=0.7.1 in /usr/local/lib/python3.7/dist-packages (from boto3->pycaret[full]) (1.0.1)\n",
            "Requirement already satisfied: s3transfer<0.7.0,>=0.6.0 in /usr/local/lib/python3.7/dist-packages (from boto3->pycaret[full]) (0.6.0)\n",
            "Requirement already satisfied: cmd2>=1.0.0 in /usr/local/lib/python3.7/dist-packages (from cliff->optuna>=2.2.0->pycaret[full]) (2.4.1)\n",
            "Requirement already satisfied: PrettyTable>=0.7.2 in /usr/local/lib/python3.7/dist-packages (from cliff->optuna>=2.2.0->pycaret[full]) (3.3.0)\n",
            "Requirement already satisfied: pbr!=2.1.0,>=2.0.0 in /usr/local/lib/python3.7/dist-packages (from cliff->optuna>=2.2.0->pycaret[full]) (5.9.0)\n",
            "Requirement already satisfied: stevedore>=2.0.1 in /usr/local/lib/python3.7/dist-packages (from cliff->optuna>=2.2.0->pycaret[full]) (3.5.0)\n",
            "Requirement already satisfied: autopage>=0.4.0 in /usr/local/lib/python3.7/dist-packages (from cliff->optuna>=2.2.0->pycaret[full]) (0.5.1)\n",
            "Requirement already satisfied: pyperclip>=1.6 in /usr/local/lib/python3.7/dist-packages (from cmd2>=1.0.0->cliff->optuna>=2.2.0->pycaret[full]) (1.8.2)\n",
            "Requirement already satisfied: dataclasses>=0.6 in /usr/local/lib/python3.7/dist-packages (from evidently->pycaret[full]) (0.6)\n",
            "Requirement already satisfied: patsy>=0.5.2 in /usr/local/lib/python3.7/dist-packages (from statsmodels->autoviz->pycaret[full]) (0.5.2)\n",
            "Requirement already satisfied: waitress in /usr/local/lib/python3.7/dist-packages (from explainerdashboard->pycaret[full]) (2.1.2)\n",
            "Requirement already satisfied: flask-simplelogin in /usr/local/lib/python3.7/dist-packages (from explainerdashboard->pycaret[full]) (0.0.7)\n",
            "Requirement already satisfied: dtreeviz>=1.3 in /usr/local/lib/python3.7/dist-packages (from explainerdashboard->pycaret[full]) (1.3.6)\n",
            "Requirement already satisfied: jupyter-dash in /usr/local/lib/python3.7/dist-packages (from explainerdashboard->pycaret[full]) (0.4.2)\n",
            "Requirement already satisfied: dash-auth in /usr/local/lib/python3.7/dist-packages (from explainerdashboard->pycaret[full]) (1.4.1)\n",
            "Requirement already satisfied: oyaml in /usr/local/lib/python3.7/dist-packages (from explainerdashboard->pycaret[full]) (1.0)\n",
            "Requirement already satisfied: dash-bootstrap-components<1 in /usr/local/lib/python3.7/dist-packages (from explainerdashboard->pycaret[full]) (0.13.1)\n",
            "Requirement already satisfied: pytest in /usr/local/lib/python3.7/dist-packages (from dtreeviz>=1.3->explainerdashboard->pycaret[full]) (3.6.4)\n",
            "Requirement already satisfied: colour in /usr/local/lib/python3.7/dist-packages (from dtreeviz>=1.3->explainerdashboard->pycaret[full]) (0.1.5)\n",
            "Requirement already satisfied: flask-seasurf in /usr/local/lib/python3.7/dist-packages (from dash-auth->explainerdashboard->pycaret[full]) (1.1.1)\n",
            "Requirement already satisfied: ua-parser in /usr/local/lib/python3.7/dist-packages (from dash-auth->explainerdashboard->pycaret[full]) (0.15.0)\n",
            "Requirement already satisfied: retrying in /usr/local/lib/python3.7/dist-packages (from dash-auth->explainerdashboard->pycaret[full]) (1.3.3)\n",
            "Requirement already satisfied: chart-studio>=1.0.0 in /usr/local/lib/python3.7/dist-packages (from dash-auth->explainerdashboard->pycaret[full]) (1.1.0)\n",
            "Requirement already satisfied: starlette==0.19.1 in /usr/local/lib/python3.7/dist-packages (from fastapi->pycaret[full]) (0.19.1)\n",
            "Requirement already satisfied: anyio<5,>=3.4.0 in /usr/local/lib/python3.7/dist-packages (from starlette==0.19.1->fastapi->pycaret[full]) (3.6.1)\n",
            "Requirement already satisfied: sniffio>=1.1 in /usr/local/lib/python3.7/dist-packages (from anyio<5,>=3.4.0->starlette==0.19.1->fastapi->pycaret[full]) (1.2.0)\n",
            "Requirement already satisfied: brotli in /usr/local/lib/python3.7/dist-packages (from flask-compress->dash>=1.0.0->interpret-core[dash,debug,decisiontree,ebm,lime,linear,notebook,plotly,required,sensitivity,shap,skoperules,treeinterpreter]>=0.2.4->interpret<=0.2.4->pycaret[full]) (1.0.9)\n",
            "Requirement already satisfied: flask_wtf in /usr/local/lib/python3.7/dist-packages (from flask-simplelogin->explainerdashboard->pycaret[full]) (1.0.1)\n",
            "Requirement already satisfied: WTForms in /usr/local/lib/python3.7/dist-packages (from flask_wtf->flask-simplelogin->explainerdashboard->pycaret[full]) (3.0.1)\n",
            "Requirement already satisfied: appdirs~=1.4.3 in /usr/local/lib/python3.7/dist-packages (from fs->triad>=0.6.0->fugue>=0.6.5->pycaret[full]) (1.4.4)\n",
            "Requirement already satisfied: google-auth>=1.2.0 in /usr/local/lib/python3.7/dist-packages (from google-cloud-storage->pycaret[full]) (1.35.0)\n",
            "Requirement already satisfied: google-resumable-media<0.5.0dev,>=0.3.1 in /usr/local/lib/python3.7/dist-packages (from google-cloud-storage->pycaret[full]) (0.4.1)\n",
            "Requirement already satisfied: google-cloud-core<2.0dev,>=1.0.0 in /usr/local/lib/python3.7/dist-packages (from google-cloud-storage->pycaret[full]) (1.0.3)\n",
            "Requirement already satisfied: rsa<5,>=3.1.4 in /usr/local/lib/python3.7/dist-packages (from google-auth>=1.2.0->google-cloud-storage->pycaret[full]) (4.8)\n",
            "Requirement already satisfied: pyasn1-modules>=0.2.1 in /usr/local/lib/python3.7/dist-packages (from google-auth>=1.2.0->google-cloud-storage->pycaret[full]) (0.2.8)\n",
            "Requirement already satisfied: cachetools<5.0,>=2.0.0 in /usr/local/lib/python3.7/dist-packages (from google-auth>=1.2.0->google-cloud-storage->pycaret[full]) (4.2.4)\n",
            "Requirement already satisfied: google-api-core<2.0.0dev,>=1.14.0 in /usr/local/lib/python3.7/dist-packages (from google-cloud-core<2.0dev,>=1.0.0->google-cloud-storage->pycaret[full]) (1.31.6)\n",
            "Requirement already satisfied: googleapis-common-protos<2.0dev,>=1.6.0 in /usr/local/lib/python3.7/dist-packages (from google-api-core<2.0.0dev,>=1.14.0->google-cloud-core<2.0dev,>=1.0.0->google-cloud-storage->pycaret[full]) (1.56.2)\n",
            "Requirement already satisfied: pyasn1<0.5.0,>=0.4.6 in /usr/local/lib/python3.7/dist-packages (from pyasn1-modules>=0.2.1->google-auth>=1.2.0->google-cloud-storage->pycaret[full]) (0.4.8)\n",
            "Requirement already satisfied: markdown-it-py[linkify,plugins] in /usr/local/lib/python3.7/dist-packages (from gradio->pycaret[full]) (2.1.0)\n",
            "Requirement already satisfied: ffmpy in /usr/local/lib/python3.7/dist-packages (from gradio->pycaret[full]) (0.3.0)\n",
            "Requirement already satisfied: httpx in /usr/local/lib/python3.7/dist-packages (from gradio->pycaret[full]) (0.23.0)\n",
            "Requirement already satisfied: aiohttp in /usr/local/lib/python3.7/dist-packages (from gradio->pycaret[full]) (3.8.1)\n",
            "Requirement already satisfied: analytics-python in /usr/local/lib/python3.7/dist-packages (from gradio->pycaret[full]) (1.4.0)\n",
            "Requirement already satisfied: python-multipart in /usr/local/lib/python3.7/dist-packages (from gradio->pycaret[full]) (0.0.5)\n",
            "Requirement already satisfied: pydub in /usr/local/lib/python3.7/dist-packages (from gradio->pycaret[full]) (0.25.1)\n",
            "Requirement already satisfied: paramiko in /usr/local/lib/python3.7/dist-packages (from gradio->pycaret[full]) (2.11.0)\n",
            "Requirement already satisfied: pycryptodome in /usr/local/lib/python3.7/dist-packages (from gradio->pycaret[full]) (3.15.0)\n",
            "Requirement already satisfied: orjson in /usr/local/lib/python3.7/dist-packages (from gradio->pycaret[full]) (3.7.6)\n",
            "Requirement already satisfied: yarl<2.0,>=1.0 in /usr/local/lib/python3.7/dist-packages (from aiohttp->gradio->pycaret[full]) (1.7.2)\n",
            "Requirement already satisfied: multidict<7.0,>=4.5 in /usr/local/lib/python3.7/dist-packages (from aiohttp->gradio->pycaret[full]) (6.0.2)\n",
            "Requirement already satisfied: async-timeout<5.0,>=4.0.0a3 in /usr/local/lib/python3.7/dist-packages (from aiohttp->gradio->pycaret[full]) (4.0.2)\n",
            "Requirement already satisfied: asynctest==0.13.0 in /usr/local/lib/python3.7/dist-packages (from aiohttp->gradio->pycaret[full]) (0.13.0)\n",
            "Requirement already satisfied: monotonic>=1.5 in /usr/local/lib/python3.7/dist-packages (from analytics-python->gradio->pycaret[full]) (1.6)\n",
            "Requirement already satisfied: backoff==1.10.0 in /usr/local/lib/python3.7/dist-packages (from analytics-python->gradio->pycaret[full]) (1.10.0)\n",
            "Requirement already satisfied: httpcore<0.16.0,>=0.15.0 in /usr/local/lib/python3.7/dist-packages (from httpx->gradio->pycaret[full]) (0.15.0)\n",
            "Requirement already satisfied: rfc3986[idna2008]<2,>=1.3 in /usr/local/lib/python3.7/dist-packages (from httpx->gradio->pycaret[full]) (1.5.0)\n",
            "Requirement already satisfied: h11<0.13,>=0.11 in /usr/local/lib/python3.7/dist-packages (from httpcore<0.16.0,>=0.15.0->httpx->gradio->pycaret[full]) (0.12.0)\n",
            "Requirement already satisfied: future in /usr/local/lib/python3.7/dist-packages (from hyperopt->pycaret[full]) (0.16.0)\n",
            "Requirement already satisfied: pymongo in /usr/local/lib/python3.7/dist-packages (from hyperopt->pycaret[full]) (4.1.1)\n",
            "Requirement already satisfied: qtconsole in /usr/local/lib/python3.7/dist-packages (from jupyter->autoviz->pycaret[full]) (5.3.1)\n",
            "Requirement already satisfied: jupyter-console in /usr/local/lib/python3.7/dist-packages (from jupyter->autoviz->pycaret[full]) (6.4.4)\n",
            "Requirement already satisfied: ansi2html in /usr/local/lib/python3.7/dist-packages (from jupyter-dash->explainerdashboard->pycaret[full]) (1.7.0)\n",
            "Requirement already satisfied: mdurl~=0.1 in /usr/local/lib/python3.7/dist-packages (from markdown-it-py[linkify,plugins]->gradio->pycaret[full]) (0.1.1)\n",
            "Requirement already satisfied: mdit-py-plugins in /usr/local/lib/python3.7/dist-packages (from markdown-it-py[linkify,plugins]->gradio->pycaret[full]) (0.3.0)\n",
            "Requirement already satisfied: linkify-it-py~=1.0 in /usr/local/lib/python3.7/dist-packages (from markdown-it-py[linkify,plugins]->gradio->pycaret[full]) (1.0.3)\n",
            "Requirement already satisfied: uc-micro-py in /usr/local/lib/python3.7/dist-packages (from linkify-it-py~=1.0->markdown-it-py[linkify,plugins]->gradio->pycaret[full]) (1.0.1)\n",
            "Requirement already satisfied: prometheus-flask-exporter in /usr/local/lib/python3.7/dist-packages (from mlflow->pycaret[full]) (0.20.2)\n",
            "Requirement already satisfied: sqlparse>=0.3.1 in /usr/local/lib/python3.7/dist-packages (from mlflow->pycaret[full]) (0.4.2)\n",
            "Requirement already satisfied: querystring-parser in /usr/local/lib/python3.7/dist-packages (from mlflow->pycaret[full]) (1.2.4)\n",
            "Requirement already satisfied: gunicorn in /usr/local/lib/python3.7/dist-packages (from mlflow->pycaret[full]) (20.1.0)\n",
            "Requirement already satisfied: gitpython>=2.1.0 in /usr/local/lib/python3.7/dist-packages (from mlflow->pycaret[full]) (3.1.27)\n",
            "Requirement already satisfied: docker>=4.0.0 in /usr/local/lib/python3.7/dist-packages (from mlflow->pycaret[full]) (5.0.3)\n",
            "Requirement already satisfied: databricks-cli>=0.8.7 in /usr/local/lib/python3.7/dist-packages (from mlflow->pycaret[full]) (0.17.0)\n",
            "Requirement already satisfied: pyjwt>=1.7.0 in /usr/local/lib/python3.7/dist-packages (from databricks-cli>=0.8.7->mlflow->pycaret[full]) (2.4.0)\n",
            "Requirement already satisfied: websocket-client>=0.32.0 in /usr/local/lib/python3.7/dist-packages (from docker>=4.0.0->mlflow->pycaret[full]) (1.3.3)\n",
            "Requirement already satisfied: gitdb<5,>=4.0.1 in /usr/local/lib/python3.7/dist-packages (from gitpython>=2.1.0->mlflow->pycaret[full]) (4.0.9)\n",
            "Requirement already satisfied: smmap<6,>=3.0.1 in /usr/local/lib/python3.7/dist-packages (from gitdb<5,>=4.0.1->gitpython>=2.1.0->mlflow->pycaret[full]) (5.0.0)\n",
            "Requirement already satisfied: defusedxml in /usr/local/lib/python3.7/dist-packages (from nbconvert->notebook>=4.4.1->widgetsnbextension~=3.6.0->ipywidgets->pycaret[full]) (0.7.1)\n",
            "Requirement already satisfied: testpath in /usr/local/lib/python3.7/dist-packages (from nbconvert->notebook>=4.4.1->widgetsnbextension~=3.6.0->ipywidgets->pycaret[full]) (0.6.0)\n",
            "Requirement already satisfied: mistune<2,>=0.8.1 in /usr/local/lib/python3.7/dist-packages (from nbconvert->notebook>=4.4.1->widgetsnbextension~=3.6.0->ipywidgets->pycaret[full]) (0.8.4)\n",
            "Requirement already satisfied: pandocfilters>=1.4.1 in /usr/local/lib/python3.7/dist-packages (from nbconvert->notebook>=4.4.1->widgetsnbextension~=3.6.0->ipywidgets->pycaret[full]) (1.5.0)\n",
            "Requirement already satisfied: regex>=2021.8.3 in /usr/local/lib/python3.7/dist-packages (from nltk->pycaret[full]) (2022.6.2)\n",
            "Requirement already satisfied: pynacl>=1.0.1 in /usr/local/lib/python3.7/dist-packages (from paramiko->gradio->pycaret[full]) (1.5.0)\n",
            "Requirement already satisfied: bcrypt>=3.1.3 in /usr/local/lib/python3.7/dist-packages (from paramiko->gradio->pycaret[full]) (3.2.2)\n",
            "Requirement already satisfied: multiprocess>=0.70.13 in /usr/local/lib/python3.7/dist-packages (from pathos->SALib>=1.3.3->interpret-core[dash,debug,decisiontree,ebm,lime,linear,notebook,plotly,required,sensitivity,shap,skoperules,treeinterpreter]>=0.2.4->interpret<=0.2.4->pycaret[full]) (0.70.13)\n",
            "Requirement already satisfied: pox>=0.3.1 in /usr/local/lib/python3.7/dist-packages (from pathos->SALib>=1.3.3->interpret-core[dash,debug,decisiontree,ebm,lime,linear,notebook,plotly,required,sensitivity,shap,skoperules,treeinterpreter]>=0.2.4->interpret<=0.2.4->pycaret[full]) (0.3.1)\n",
            "Requirement already satisfied: ppft>=1.7.6.5 in /usr/local/lib/python3.7/dist-packages (from pathos->SALib>=1.3.3->interpret-core[dash,debug,decisiontree,ebm,lime,linear,notebook,plotly,required,sensitivity,shap,skoperules,treeinterpreter]>=0.2.4->interpret<=0.2.4->pycaret[full]) (1.7.6.5)\n",
            "Requirement already satisfied: prometheus-client in /usr/local/lib/python3.7/dist-packages (from prometheus-flask-exporter->mlflow->pycaret[full]) (0.14.1)\n",
            "Requirement already satisfied: numexpr in /usr/local/lib/python3.7/dist-packages (from pyLDAvis->pycaret[full]) (2.8.1)\n",
            "Requirement already satisfied: funcy in /usr/local/lib/python3.7/dist-packages (from pyLDAvis->pycaret[full]) (1.17)\n",
            "Requirement already satisfied: more-itertools>=4.0.0 in /usr/local/lib/python3.7/dist-packages (from pytest->dtreeviz>=1.3->explainerdashboard->pycaret[full]) (8.13.0)\n",
            "Requirement already satisfied: pluggy<0.8,>=0.5 in /usr/local/lib/python3.7/dist-packages (from pytest->dtreeviz>=1.3->explainerdashboard->pycaret[full]) (0.7.1)\n",
            "Requirement already satisfied: py>=1.5.0 in /usr/local/lib/python3.7/dist-packages (from pytest->dtreeviz>=1.3->explainerdashboard->pycaret[full]) (1.11.0)\n",
            "Requirement already satisfied: atomicwrites>=1.0 in /usr/local/lib/python3.7/dist-packages (from pytest->dtreeviz>=1.3->explainerdashboard->pycaret[full]) (1.4.0)\n",
            "Requirement already satisfied: qtpy>=2.0.1 in /usr/local/lib/python3.7/dist-packages (from qtconsole->jupyter->autoviz->pycaret[full]) (2.1.0)\n",
            "Requirement already satisfied: pynndescent>=0.5 in /usr/local/lib/python3.7/dist-packages (from umap-learn->pycaret[full]) (0.5.7)\n",
            "Requirement already satisfied: platformdirs<3,>=2 in /usr/local/lib/python3.7/dist-packages (from virtualenv->ray[tune]>=1.0.0->pycaret[full]) (2.5.2)\n",
            "Requirement already satisfied: distlib<1,>=0.3.1 in /usr/local/lib/python3.7/dist-packages (from virtualenv->ray[tune]>=1.0.0->pycaret[full]) (0.3.4)\n",
            "Installing collected packages: MarkupSafe\n",
            "  Attempting uninstall: MarkupSafe\n",
            "    Found existing installation: MarkupSafe 2.0.1\n",
            "    Uninstalling MarkupSafe-2.0.1:\n",
            "      Successfully uninstalled MarkupSafe-2.0.1\n",
            "\u001b[31mERROR: pip's dependency resolver does not currently take into account all the packages that are installed. This behaviour is the source of the following dependency conflicts.\n",
            "datascience 0.10.6 requires folium==0.2.1, but you have folium 0.8.3 which is incompatible.\u001b[0m\n",
            "Successfully installed MarkupSafe-2.1.1\n"
          ]
        }
      ],
      "source": [
        "!pip install pycaret[full]"
      ]
    },
    {
      "cell_type": "code",
      "source": [
        "!pip install markupsafe==2.0.1"
      ],
      "metadata": {
        "colab": {
          "base_uri": "https://localhost:8080/"
        },
        "id": "4mh7Lw0oR6Vn",
        "outputId": "cb23ed6e-926d-4fde-decc-5bd47a84ae52"
      },
      "execution_count": 2,
      "outputs": [
        {
          "output_type": "stream",
          "name": "stdout",
          "text": [
            "Looking in indexes: https://pypi.org/simple, https://us-python.pkg.dev/colab-wheels/public/simple/\n",
            "Collecting markupsafe==2.0.1\n",
            "  Using cached MarkupSafe-2.0.1-cp37-cp37m-manylinux_2_5_x86_64.manylinux1_x86_64.manylinux_2_12_x86_64.manylinux2010_x86_64.whl (31 kB)\n",
            "Installing collected packages: markupsafe\n",
            "  Attempting uninstall: markupsafe\n",
            "    Found existing installation: MarkupSafe 2.1.1\n",
            "    Uninstalling MarkupSafe-2.1.1:\n",
            "      Successfully uninstalled MarkupSafe-2.1.1\n",
            "\u001b[31mERROR: pip's dependency resolver does not currently take into account all the packages that are installed. This behaviour is the source of the following dependency conflicts.\n",
            "pandas-profiling 3.2.0 requires markupsafe~=2.1.1, but you have markupsafe 2.0.1 which is incompatible.\n",
            "datascience 0.10.6 requires folium==0.2.1, but you have folium 0.8.3 which is incompatible.\u001b[0m\n",
            "Successfully installed markupsafe-2.0.1\n"
          ]
        }
      ]
    },
    {
      "cell_type": "code",
      "source": [
        "from pycaret.anomaly import *\n",
        "import pandas as pd\n",
        "import numpy as np\n",
        "from sklearn.metrics import classification_report, ConfusionMatrixDisplay, accuracy_score, confusion_matrix\n",
        "import matplotlib.pyplot as plt\n",
        "%matplotlib inline\n",
        "from sklearn import metrics\n",
        "from pycaret.anomaly import *\n",
        "from pycaret.datasets import get_data\n",
        "from sklearn.model_selection import GridSearchCV\n",
        "from sklearn.cluster import DBSCAN\n",
        "from tqdm import tqdm\n",
        "from sklearn.manifold import TSNE\n",
        "from tqdm import tqdm\n",
        "plt.rcParams[\"figure.figsize\"] = (10,5)"
      ],
      "metadata": {
        "colab": {
          "base_uri": "https://localhost:8080/"
        },
        "id": "w7c6Aqp16MDF",
        "outputId": "e4e04e10-31a5-40d9-db07-8dcc145ab8fd"
      },
      "execution_count": 3,
      "outputs": [
        {
          "output_type": "stream",
          "name": "stderr",
          "text": [
            "/usr/local/lib/python3.7/dist-packages/distributed/config.py:20: YAMLLoadWarning: calling yaml.load() without Loader=... is deprecated, as the default Loader is unsafe. Please read https://msg.pyyaml.org/load for full details.\n",
            "  defaults = yaml.load(f)\n"
          ]
        }
      ]
    },
    {
      "cell_type": "code",
      "source": [
        "def getConfusionMatrix(y_pred,y_test,title):\n",
        "    \"\"\"plot the confusion matrix of a model\n",
        "    Input:  y_pred, y_test\n",
        "    Output: print the confusion matrix\n",
        "    \"\"\"\n",
        "     \n",
        "    cm = confusion_matrix(y_test, y_pred, labels=[1,0])\n",
        "    print(cm)\n",
        "    disp = ConfusionMatrixDisplay(confusion_matrix=cm,display_labels=[1,0])\n",
        "    disp.plot()\n",
        "    plt.title(title)\n",
        "    plt.show()"
      ],
      "metadata": {
        "id": "OcLcGR9khfTx"
      },
      "execution_count": 4,
      "outputs": []
    },
    {
      "cell_type": "code",
      "source": [
        "def plot_tsne(X, y, target_names,title):\n",
        "    tsne = TSNE(n_components=2, random_state=0)\n",
        "    X_2d = tsne.fit_transform(X)\n",
        "    target_ids = range(len(target_names))\n",
        "\n",
        "    plt.figure(figsize=(6, 5))\n",
        "    colors = 'r', 'g', 'b', 'c', 'm', 'y', 'k', 'w', 'orange', 'purple'\n",
        "    for i, c, label in zip(target_ids, colors, target_names):\n",
        "        plt.scatter(X_2d[y == i, 0], X_2d[y == i, 1], c=c, label=label)\n",
        "    \n",
        "    plt.title(title)\n",
        "    plt.legend()\n",
        "    plt.show()"
      ],
      "metadata": {
        "id": "9cdheWvkkFCQ"
      },
      "execution_count": 5,
      "outputs": []
    },
    {
      "cell_type": "markdown",
      "source": [
        "## 1. Load the dataset : Dataset_to_be_used_in_anomaly_detection"
      ],
      "metadata": {
        "id": "YAnP2vYI0Sic"
      }
    },
    {
      "cell_type": "markdown",
      "source": [
        ""
      ],
      "metadata": {
        "id": "zu_OYkLQ6s6Z"
      }
    },
    {
      "cell_type": "code",
      "source": [
        "anomalyTrainingData = pd.read_csv('Dataset_to_be_used_in_anomaly_detection.csv')\n",
        "anomalyTrainingData.drop(columns=['Unnamed: 0'], axis=1,inplace=True)\n",
        "anomalyTrainingData.head(10)"
      ],
      "metadata": {
        "colab": {
          "base_uri": "https://localhost:8080/",
          "height": 363
        },
        "id": "WZefqDlsUZ83",
        "outputId": "5c8c69de-c4c0-4c06-b5b4-76d49f012e32"
      },
      "execution_count": 6,
      "outputs": [
        {
          "output_type": "execute_result",
          "data": {
            "text/plain": [
              "   Follower_measure_x_follower  Follower_measure_y_follower  \\\n",
              "0                    -1.042570                    -0.241098   \n",
              "1                    -1.056986                    -0.245590   \n",
              "2                    -1.071858                    -0.256787   \n",
              "3                    -1.084518                    -0.257502   \n",
              "4                    -0.974811                    -0.105985   \n",
              "5                    -0.808289                    -0.008651   \n",
              "6                    -0.732102                    -0.051811   \n",
              "7                    -0.499133                    -0.205854   \n",
              "8                    -0.372178                    -0.405159   \n",
              "9                    -0.345284                    -0.627297   \n",
              "\n",
              "   Leader_measure_x_leader  Leader_measure_y_leader  \n",
              "0                -1.267957                 0.414568  \n",
              "1                -1.165454                 0.411869  \n",
              "2                -1.028780                 0.407472  \n",
              "3                -0.850609                 0.367564  \n",
              "4                -0.625045                 0.236174  \n",
              "5                -0.417019                 0.035897  \n",
              "6                -0.258204                -0.238741  \n",
              "7                -0.178043                -0.506508  \n",
              "8                -0.193983                -0.766137  \n",
              "9                -0.318578                -1.035780  "
            ],
            "text/html": [
              "\n",
              "  <div id=\"df-3e89c491-70f2-472e-8b31-e68a8c4c3710\">\n",
              "    <div class=\"colab-df-container\">\n",
              "      <div>\n",
              "<style scoped>\n",
              "    .dataframe tbody tr th:only-of-type {\n",
              "        vertical-align: middle;\n",
              "    }\n",
              "\n",
              "    .dataframe tbody tr th {\n",
              "        vertical-align: top;\n",
              "    }\n",
              "\n",
              "    .dataframe thead th {\n",
              "        text-align: right;\n",
              "    }\n",
              "</style>\n",
              "<table border=\"1\" class=\"dataframe\">\n",
              "  <thead>\n",
              "    <tr style=\"text-align: right;\">\n",
              "      <th></th>\n",
              "      <th>Follower_measure_x_follower</th>\n",
              "      <th>Follower_measure_y_follower</th>\n",
              "      <th>Leader_measure_x_leader</th>\n",
              "      <th>Leader_measure_y_leader</th>\n",
              "    </tr>\n",
              "  </thead>\n",
              "  <tbody>\n",
              "    <tr>\n",
              "      <th>0</th>\n",
              "      <td>-1.042570</td>\n",
              "      <td>-0.241098</td>\n",
              "      <td>-1.267957</td>\n",
              "      <td>0.414568</td>\n",
              "    </tr>\n",
              "    <tr>\n",
              "      <th>1</th>\n",
              "      <td>-1.056986</td>\n",
              "      <td>-0.245590</td>\n",
              "      <td>-1.165454</td>\n",
              "      <td>0.411869</td>\n",
              "    </tr>\n",
              "    <tr>\n",
              "      <th>2</th>\n",
              "      <td>-1.071858</td>\n",
              "      <td>-0.256787</td>\n",
              "      <td>-1.028780</td>\n",
              "      <td>0.407472</td>\n",
              "    </tr>\n",
              "    <tr>\n",
              "      <th>3</th>\n",
              "      <td>-1.084518</td>\n",
              "      <td>-0.257502</td>\n",
              "      <td>-0.850609</td>\n",
              "      <td>0.367564</td>\n",
              "    </tr>\n",
              "    <tr>\n",
              "      <th>4</th>\n",
              "      <td>-0.974811</td>\n",
              "      <td>-0.105985</td>\n",
              "      <td>-0.625045</td>\n",
              "      <td>0.236174</td>\n",
              "    </tr>\n",
              "    <tr>\n",
              "      <th>5</th>\n",
              "      <td>-0.808289</td>\n",
              "      <td>-0.008651</td>\n",
              "      <td>-0.417019</td>\n",
              "      <td>0.035897</td>\n",
              "    </tr>\n",
              "    <tr>\n",
              "      <th>6</th>\n",
              "      <td>-0.732102</td>\n",
              "      <td>-0.051811</td>\n",
              "      <td>-0.258204</td>\n",
              "      <td>-0.238741</td>\n",
              "    </tr>\n",
              "    <tr>\n",
              "      <th>7</th>\n",
              "      <td>-0.499133</td>\n",
              "      <td>-0.205854</td>\n",
              "      <td>-0.178043</td>\n",
              "      <td>-0.506508</td>\n",
              "    </tr>\n",
              "    <tr>\n",
              "      <th>8</th>\n",
              "      <td>-0.372178</td>\n",
              "      <td>-0.405159</td>\n",
              "      <td>-0.193983</td>\n",
              "      <td>-0.766137</td>\n",
              "    </tr>\n",
              "    <tr>\n",
              "      <th>9</th>\n",
              "      <td>-0.345284</td>\n",
              "      <td>-0.627297</td>\n",
              "      <td>-0.318578</td>\n",
              "      <td>-1.035780</td>\n",
              "    </tr>\n",
              "  </tbody>\n",
              "</table>\n",
              "</div>\n",
              "      <button class=\"colab-df-convert\" onclick=\"convertToInteractive('df-3e89c491-70f2-472e-8b31-e68a8c4c3710')\"\n",
              "              title=\"Convert this dataframe to an interactive table.\"\n",
              "              style=\"display:none;\">\n",
              "        \n",
              "  <svg xmlns=\"http://www.w3.org/2000/svg\" height=\"24px\"viewBox=\"0 0 24 24\"\n",
              "       width=\"24px\">\n",
              "    <path d=\"M0 0h24v24H0V0z\" fill=\"none\"/>\n",
              "    <path d=\"M18.56 5.44l.94 2.06.94-2.06 2.06-.94-2.06-.94-.94-2.06-.94 2.06-2.06.94zm-11 1L8.5 8.5l.94-2.06 2.06-.94-2.06-.94L8.5 2.5l-.94 2.06-2.06.94zm10 10l.94 2.06.94-2.06 2.06-.94-2.06-.94-.94-2.06-.94 2.06-2.06.94z\"/><path d=\"M17.41 7.96l-1.37-1.37c-.4-.4-.92-.59-1.43-.59-.52 0-1.04.2-1.43.59L10.3 9.45l-7.72 7.72c-.78.78-.78 2.05 0 2.83L4 21.41c.39.39.9.59 1.41.59.51 0 1.02-.2 1.41-.59l7.78-7.78 2.81-2.81c.8-.78.8-2.07 0-2.86zM5.41 20L4 18.59l7.72-7.72 1.47 1.35L5.41 20z\"/>\n",
              "  </svg>\n",
              "      </button>\n",
              "      \n",
              "  <style>\n",
              "    .colab-df-container {\n",
              "      display:flex;\n",
              "      flex-wrap:wrap;\n",
              "      gap: 12px;\n",
              "    }\n",
              "\n",
              "    .colab-df-convert {\n",
              "      background-color: #E8F0FE;\n",
              "      border: none;\n",
              "      border-radius: 50%;\n",
              "      cursor: pointer;\n",
              "      display: none;\n",
              "      fill: #1967D2;\n",
              "      height: 32px;\n",
              "      padding: 0 0 0 0;\n",
              "      width: 32px;\n",
              "    }\n",
              "\n",
              "    .colab-df-convert:hover {\n",
              "      background-color: #E2EBFA;\n",
              "      box-shadow: 0px 1px 2px rgba(60, 64, 67, 0.3), 0px 1px 3px 1px rgba(60, 64, 67, 0.15);\n",
              "      fill: #174EA6;\n",
              "    }\n",
              "\n",
              "    [theme=dark] .colab-df-convert {\n",
              "      background-color: #3B4455;\n",
              "      fill: #D2E3FC;\n",
              "    }\n",
              "\n",
              "    [theme=dark] .colab-df-convert:hover {\n",
              "      background-color: #434B5C;\n",
              "      box-shadow: 0px 1px 3px 1px rgba(0, 0, 0, 0.15);\n",
              "      filter: drop-shadow(0px 1px 2px rgba(0, 0, 0, 0.3));\n",
              "      fill: #FFFFFF;\n",
              "    }\n",
              "  </style>\n",
              "\n",
              "      <script>\n",
              "        const buttonEl =\n",
              "          document.querySelector('#df-3e89c491-70f2-472e-8b31-e68a8c4c3710 button.colab-df-convert');\n",
              "        buttonEl.style.display =\n",
              "          google.colab.kernel.accessAllowed ? 'block' : 'none';\n",
              "\n",
              "        async function convertToInteractive(key) {\n",
              "          const element = document.querySelector('#df-3e89c491-70f2-472e-8b31-e68a8c4c3710');\n",
              "          const dataTable =\n",
              "            await google.colab.kernel.invokeFunction('convertToInteractive',\n",
              "                                                     [key], {});\n",
              "          if (!dataTable) return;\n",
              "\n",
              "          const docLinkHtml = 'Like what you see? Visit the ' +\n",
              "            '<a target=\"_blank\" href=https://colab.research.google.com/notebooks/data_table.ipynb>data table notebook</a>'\n",
              "            + ' to learn more about interactive tables.';\n",
              "          element.innerHTML = '';\n",
              "          dataTable['output_type'] = 'display_data';\n",
              "          await google.colab.output.renderOutput(dataTable, element);\n",
              "          const docLink = document.createElement('div');\n",
              "          docLink.innerHTML = docLinkHtml;\n",
              "          element.appendChild(docLink);\n",
              "        }\n",
              "      </script>\n",
              "    </div>\n",
              "  </div>\n",
              "  "
            ]
          },
          "metadata": {},
          "execution_count": 6
        }
      ]
    },
    {
      "cell_type": "markdown",
      "source": [
        "## 2. Load the second dataset : Dataset_to_be_used_in_performance_comparison"
      ],
      "metadata": {
        "id": "2W-gPtuL0j90"
      }
    },
    {
      "cell_type": "code",
      "source": [
        "anomalyTestingData = pd.read_csv('Dataset_to_be_used_in_performance_comparison.csv')\n",
        "anomalyTestingData_copy =anomalyTestingData.copy()\n",
        "anomalyTestingLabels = anomalyTestingData.iloc[:,-1].astype(int)\n",
        "anomalyTestingData.drop(columns=['Unnamed: 0','labels'], axis=1,inplace=True)\n",
        "anomalyTestingData.head(10)"
      ],
      "metadata": {
        "colab": {
          "base_uri": "https://localhost:8080/",
          "height": 363
        },
        "id": "UztzP0tfVvlJ",
        "outputId": "20cb834c-139c-41ec-f81b-565470bec834"
      },
      "execution_count": 7,
      "outputs": [
        {
          "output_type": "execute_result",
          "data": {
            "text/plain": [
              "   Follower_measure_x_follower  Follower_measure_y_follower  \\\n",
              "0                    -1.042570                    -0.241098   \n",
              "1                    -1.056986                    -0.245590   \n",
              "2                    -1.071858                    -0.256787   \n",
              "3                    -1.084518                    -0.257502   \n",
              "4                    -0.974811                    -0.105985   \n",
              "5                    -0.808289                    -0.008651   \n",
              "6                    -0.732102                    -0.051811   \n",
              "7                    -0.499133                    -0.205854   \n",
              "8                    -0.372178                    -0.405159   \n",
              "9                    -0.345284                    -0.627297   \n",
              "\n",
              "   Leader_measure_x_leader  Leader_measure_y_leader  \n",
              "0                -1.267957                 0.414568  \n",
              "1                -1.165454                 0.411869  \n",
              "2                -1.028780                 0.407472  \n",
              "3                -0.850609                 0.367564  \n",
              "4                -0.625045                 0.236174  \n",
              "5                -0.417019                 0.035897  \n",
              "6                -0.258204                -0.238741  \n",
              "7                -0.178043                -0.506508  \n",
              "8                -0.193983                -0.766137  \n",
              "9                -0.318578                -1.035780  "
            ],
            "text/html": [
              "\n",
              "  <div id=\"df-283b96fb-9a69-4c0c-aaae-6eac9f6ccfb7\">\n",
              "    <div class=\"colab-df-container\">\n",
              "      <div>\n",
              "<style scoped>\n",
              "    .dataframe tbody tr th:only-of-type {\n",
              "        vertical-align: middle;\n",
              "    }\n",
              "\n",
              "    .dataframe tbody tr th {\n",
              "        vertical-align: top;\n",
              "    }\n",
              "\n",
              "    .dataframe thead th {\n",
              "        text-align: right;\n",
              "    }\n",
              "</style>\n",
              "<table border=\"1\" class=\"dataframe\">\n",
              "  <thead>\n",
              "    <tr style=\"text-align: right;\">\n",
              "      <th></th>\n",
              "      <th>Follower_measure_x_follower</th>\n",
              "      <th>Follower_measure_y_follower</th>\n",
              "      <th>Leader_measure_x_leader</th>\n",
              "      <th>Leader_measure_y_leader</th>\n",
              "    </tr>\n",
              "  </thead>\n",
              "  <tbody>\n",
              "    <tr>\n",
              "      <th>0</th>\n",
              "      <td>-1.042570</td>\n",
              "      <td>-0.241098</td>\n",
              "      <td>-1.267957</td>\n",
              "      <td>0.414568</td>\n",
              "    </tr>\n",
              "    <tr>\n",
              "      <th>1</th>\n",
              "      <td>-1.056986</td>\n",
              "      <td>-0.245590</td>\n",
              "      <td>-1.165454</td>\n",
              "      <td>0.411869</td>\n",
              "    </tr>\n",
              "    <tr>\n",
              "      <th>2</th>\n",
              "      <td>-1.071858</td>\n",
              "      <td>-0.256787</td>\n",
              "      <td>-1.028780</td>\n",
              "      <td>0.407472</td>\n",
              "    </tr>\n",
              "    <tr>\n",
              "      <th>3</th>\n",
              "      <td>-1.084518</td>\n",
              "      <td>-0.257502</td>\n",
              "      <td>-0.850609</td>\n",
              "      <td>0.367564</td>\n",
              "    </tr>\n",
              "    <tr>\n",
              "      <th>4</th>\n",
              "      <td>-0.974811</td>\n",
              "      <td>-0.105985</td>\n",
              "      <td>-0.625045</td>\n",
              "      <td>0.236174</td>\n",
              "    </tr>\n",
              "    <tr>\n",
              "      <th>5</th>\n",
              "      <td>-0.808289</td>\n",
              "      <td>-0.008651</td>\n",
              "      <td>-0.417019</td>\n",
              "      <td>0.035897</td>\n",
              "    </tr>\n",
              "    <tr>\n",
              "      <th>6</th>\n",
              "      <td>-0.732102</td>\n",
              "      <td>-0.051811</td>\n",
              "      <td>-0.258204</td>\n",
              "      <td>-0.238741</td>\n",
              "    </tr>\n",
              "    <tr>\n",
              "      <th>7</th>\n",
              "      <td>-0.499133</td>\n",
              "      <td>-0.205854</td>\n",
              "      <td>-0.178043</td>\n",
              "      <td>-0.506508</td>\n",
              "    </tr>\n",
              "    <tr>\n",
              "      <th>8</th>\n",
              "      <td>-0.372178</td>\n",
              "      <td>-0.405159</td>\n",
              "      <td>-0.193983</td>\n",
              "      <td>-0.766137</td>\n",
              "    </tr>\n",
              "    <tr>\n",
              "      <th>9</th>\n",
              "      <td>-0.345284</td>\n",
              "      <td>-0.627297</td>\n",
              "      <td>-0.318578</td>\n",
              "      <td>-1.035780</td>\n",
              "    </tr>\n",
              "  </tbody>\n",
              "</table>\n",
              "</div>\n",
              "      <button class=\"colab-df-convert\" onclick=\"convertToInteractive('df-283b96fb-9a69-4c0c-aaae-6eac9f6ccfb7')\"\n",
              "              title=\"Convert this dataframe to an interactive table.\"\n",
              "              style=\"display:none;\">\n",
              "        \n",
              "  <svg xmlns=\"http://www.w3.org/2000/svg\" height=\"24px\"viewBox=\"0 0 24 24\"\n",
              "       width=\"24px\">\n",
              "    <path d=\"M0 0h24v24H0V0z\" fill=\"none\"/>\n",
              "    <path d=\"M18.56 5.44l.94 2.06.94-2.06 2.06-.94-2.06-.94-.94-2.06-.94 2.06-2.06.94zm-11 1L8.5 8.5l.94-2.06 2.06-.94-2.06-.94L8.5 2.5l-.94 2.06-2.06.94zm10 10l.94 2.06.94-2.06 2.06-.94-2.06-.94-.94-2.06-.94 2.06-2.06.94z\"/><path d=\"M17.41 7.96l-1.37-1.37c-.4-.4-.92-.59-1.43-.59-.52 0-1.04.2-1.43.59L10.3 9.45l-7.72 7.72c-.78.78-.78 2.05 0 2.83L4 21.41c.39.39.9.59 1.41.59.51 0 1.02-.2 1.41-.59l7.78-7.78 2.81-2.81c.8-.78.8-2.07 0-2.86zM5.41 20L4 18.59l7.72-7.72 1.47 1.35L5.41 20z\"/>\n",
              "  </svg>\n",
              "      </button>\n",
              "      \n",
              "  <style>\n",
              "    .colab-df-container {\n",
              "      display:flex;\n",
              "      flex-wrap:wrap;\n",
              "      gap: 12px;\n",
              "    }\n",
              "\n",
              "    .colab-df-convert {\n",
              "      background-color: #E8F0FE;\n",
              "      border: none;\n",
              "      border-radius: 50%;\n",
              "      cursor: pointer;\n",
              "      display: none;\n",
              "      fill: #1967D2;\n",
              "      height: 32px;\n",
              "      padding: 0 0 0 0;\n",
              "      width: 32px;\n",
              "    }\n",
              "\n",
              "    .colab-df-convert:hover {\n",
              "      background-color: #E2EBFA;\n",
              "      box-shadow: 0px 1px 2px rgba(60, 64, 67, 0.3), 0px 1px 3px 1px rgba(60, 64, 67, 0.15);\n",
              "      fill: #174EA6;\n",
              "    }\n",
              "\n",
              "    [theme=dark] .colab-df-convert {\n",
              "      background-color: #3B4455;\n",
              "      fill: #D2E3FC;\n",
              "    }\n",
              "\n",
              "    [theme=dark] .colab-df-convert:hover {\n",
              "      background-color: #434B5C;\n",
              "      box-shadow: 0px 1px 3px 1px rgba(0, 0, 0, 0.15);\n",
              "      filter: drop-shadow(0px 1px 2px rgba(0, 0, 0, 0.3));\n",
              "      fill: #FFFFFF;\n",
              "    }\n",
              "  </style>\n",
              "\n",
              "      <script>\n",
              "        const buttonEl =\n",
              "          document.querySelector('#df-283b96fb-9a69-4c0c-aaae-6eac9f6ccfb7 button.colab-df-convert');\n",
              "        buttonEl.style.display =\n",
              "          google.colab.kernel.accessAllowed ? 'block' : 'none';\n",
              "\n",
              "        async function convertToInteractive(key) {\n",
              "          const element = document.querySelector('#df-283b96fb-9a69-4c0c-aaae-6eac9f6ccfb7');\n",
              "          const dataTable =\n",
              "            await google.colab.kernel.invokeFunction('convertToInteractive',\n",
              "                                                     [key], {});\n",
              "          if (!dataTable) return;\n",
              "\n",
              "          const docLinkHtml = 'Like what you see? Visit the ' +\n",
              "            '<a target=\"_blank\" href=https://colab.research.google.com/notebooks/data_table.ipynb>data table notebook</a>'\n",
              "            + ' to learn more about interactive tables.';\n",
              "          element.innerHTML = '';\n",
              "          dataTable['output_type'] = 'display_data';\n",
              "          await google.colab.output.renderOutput(dataTable, element);\n",
              "          const docLink = document.createElement('div');\n",
              "          docLink.innerHTML = docLinkHtml;\n",
              "          element.appendChild(docLink);\n",
              "        }\n",
              "      </script>\n",
              "    </div>\n",
              "  </div>\n",
              "  "
            ]
          },
          "metadata": {},
          "execution_count": 7
        }
      ]
    },
    {
      "cell_type": "markdown",
      "source": [
        "## 3. Get the Labels for comparison"
      ],
      "metadata": {
        "id": "vUemow703T2O"
      }
    },
    {
      "cell_type": "code",
      "source": [
        "anomalyTestingLabels[0:10]  # get the first ten labels"
      ],
      "metadata": {
        "colab": {
          "base_uri": "https://localhost:8080/"
        },
        "id": "LogTkokYctB-",
        "outputId": "aa79ae91-d4c4-4652-ee0f-f8a83887e388"
      },
      "execution_count": 8,
      "outputs": [
        {
          "output_type": "execute_result",
          "data": {
            "text/plain": [
              "0    0\n",
              "1    0\n",
              "2    0\n",
              "3    0\n",
              "4    0\n",
              "5    0\n",
              "6    0\n",
              "7    0\n",
              "8    0\n",
              "9    0\n",
              "Name: labels, dtype: int64"
            ]
          },
          "metadata": {},
          "execution_count": 8
        }
      ]
    },
    {
      "cell_type": "markdown",
      "source": [
        "## 4. Algorithms implementation "
      ],
      "metadata": {
        "id": "eC6t67Ig3i7e"
      }
    },
    {
      "cell_type": "markdown",
      "source": [
        "###  4.1 KNN "
      ],
      "metadata": {
        "id": "h7TavHNT3rI2"
      }
    },
    {
      "cell_type": "markdown",
      "source": [
        "#### implement the KNN "
      ],
      "metadata": {
        "id": "huzdyvnV4tgu"
      }
    },
    {
      "cell_type": "code",
      "source": [
        "# implementing the algorithm using Pychart \n",
        "exp_name = setup(data = anomalyTrainingData,session_id=123)\n",
        "knn = create_model('knn')\n",
        "# return the predicted labels\n",
        "knn_predictions = predict_model(model = knn, data = anomalyTestingData) "
      ],
      "metadata": {
        "id": "wIRzTZ6_hqjt"
      },
      "execution_count": 9,
      "outputs": []
    },
    {
      "cell_type": "code",
      "source": [
        "knn_predictions"
      ],
      "metadata": {
        "colab": {
          "base_uri": "https://localhost:8080/",
          "height": 424
        },
        "id": "HkmVuG5wKU2Q",
        "outputId": "28286bcc-c313-43f4-c3a8-43b8e53b4ffb"
      },
      "execution_count": 10,
      "outputs": [
        {
          "output_type": "execute_result",
          "data": {
            "text/plain": [
              "    Follower_measure_x_follower  Follower_measure_y_follower  \\\n",
              "0                     -1.042570                    -0.241098   \n",
              "1                     -1.056986                    -0.245590   \n",
              "2                     -1.071858                    -0.256787   \n",
              "3                     -1.084518                    -0.257502   \n",
              "4                     -0.974811                    -0.105985   \n",
              "..                          ...                          ...   \n",
              "93                    -1.559131                     0.440215   \n",
              "94                    -1.496434                     0.357878   \n",
              "95                    -1.467606                     0.253125   \n",
              "96                    -1.420551                     0.223617   \n",
              "97                    -1.246517                     0.129141   \n",
              "\n",
              "    Leader_measure_x_leader  Leader_measure_y_leader  Anomaly  Anomaly_Score  \n",
              "0                 -1.267957                 0.414568        0       0.440224  \n",
              "1                 -1.165454                 0.411869        0       0.417015  \n",
              "2                 -1.028780                 0.407472        0       0.415998  \n",
              "3                 -0.850609                 0.367564        0       0.364849  \n",
              "4                 -0.625045                 0.236174        0       0.347260  \n",
              "..                      ...                      ...      ...            ...  \n",
              "93                -2.325538                 0.295837        0       0.575646  \n",
              "94                -2.105013                 0.098846        0       0.632190  \n",
              "95                -1.857816                 0.058397        0       0.514458  \n",
              "96                -1.606946                 0.202749        0       0.357775  \n",
              "97                -1.390368                 0.402667        0       0.360855  \n",
              "\n",
              "[98 rows x 6 columns]"
            ],
            "text/html": [
              "\n",
              "  <div id=\"df-d85d5aec-17a2-4bcc-b1a0-14eec10da4ab\">\n",
              "    <div class=\"colab-df-container\">\n",
              "      <div>\n",
              "<style scoped>\n",
              "    .dataframe tbody tr th:only-of-type {\n",
              "        vertical-align: middle;\n",
              "    }\n",
              "\n",
              "    .dataframe tbody tr th {\n",
              "        vertical-align: top;\n",
              "    }\n",
              "\n",
              "    .dataframe thead th {\n",
              "        text-align: right;\n",
              "    }\n",
              "</style>\n",
              "<table border=\"1\" class=\"dataframe\">\n",
              "  <thead>\n",
              "    <tr style=\"text-align: right;\">\n",
              "      <th></th>\n",
              "      <th>Follower_measure_x_follower</th>\n",
              "      <th>Follower_measure_y_follower</th>\n",
              "      <th>Leader_measure_x_leader</th>\n",
              "      <th>Leader_measure_y_leader</th>\n",
              "      <th>Anomaly</th>\n",
              "      <th>Anomaly_Score</th>\n",
              "    </tr>\n",
              "  </thead>\n",
              "  <tbody>\n",
              "    <tr>\n",
              "      <th>0</th>\n",
              "      <td>-1.042570</td>\n",
              "      <td>-0.241098</td>\n",
              "      <td>-1.267957</td>\n",
              "      <td>0.414568</td>\n",
              "      <td>0</td>\n",
              "      <td>0.440224</td>\n",
              "    </tr>\n",
              "    <tr>\n",
              "      <th>1</th>\n",
              "      <td>-1.056986</td>\n",
              "      <td>-0.245590</td>\n",
              "      <td>-1.165454</td>\n",
              "      <td>0.411869</td>\n",
              "      <td>0</td>\n",
              "      <td>0.417015</td>\n",
              "    </tr>\n",
              "    <tr>\n",
              "      <th>2</th>\n",
              "      <td>-1.071858</td>\n",
              "      <td>-0.256787</td>\n",
              "      <td>-1.028780</td>\n",
              "      <td>0.407472</td>\n",
              "      <td>0</td>\n",
              "      <td>0.415998</td>\n",
              "    </tr>\n",
              "    <tr>\n",
              "      <th>3</th>\n",
              "      <td>-1.084518</td>\n",
              "      <td>-0.257502</td>\n",
              "      <td>-0.850609</td>\n",
              "      <td>0.367564</td>\n",
              "      <td>0</td>\n",
              "      <td>0.364849</td>\n",
              "    </tr>\n",
              "    <tr>\n",
              "      <th>4</th>\n",
              "      <td>-0.974811</td>\n",
              "      <td>-0.105985</td>\n",
              "      <td>-0.625045</td>\n",
              "      <td>0.236174</td>\n",
              "      <td>0</td>\n",
              "      <td>0.347260</td>\n",
              "    </tr>\n",
              "    <tr>\n",
              "      <th>...</th>\n",
              "      <td>...</td>\n",
              "      <td>...</td>\n",
              "      <td>...</td>\n",
              "      <td>...</td>\n",
              "      <td>...</td>\n",
              "      <td>...</td>\n",
              "    </tr>\n",
              "    <tr>\n",
              "      <th>93</th>\n",
              "      <td>-1.559131</td>\n",
              "      <td>0.440215</td>\n",
              "      <td>-2.325538</td>\n",
              "      <td>0.295837</td>\n",
              "      <td>0</td>\n",
              "      <td>0.575646</td>\n",
              "    </tr>\n",
              "    <tr>\n",
              "      <th>94</th>\n",
              "      <td>-1.496434</td>\n",
              "      <td>0.357878</td>\n",
              "      <td>-2.105013</td>\n",
              "      <td>0.098846</td>\n",
              "      <td>0</td>\n",
              "      <td>0.632190</td>\n",
              "    </tr>\n",
              "    <tr>\n",
              "      <th>95</th>\n",
              "      <td>-1.467606</td>\n",
              "      <td>0.253125</td>\n",
              "      <td>-1.857816</td>\n",
              "      <td>0.058397</td>\n",
              "      <td>0</td>\n",
              "      <td>0.514458</td>\n",
              "    </tr>\n",
              "    <tr>\n",
              "      <th>96</th>\n",
              "      <td>-1.420551</td>\n",
              "      <td>0.223617</td>\n",
              "      <td>-1.606946</td>\n",
              "      <td>0.202749</td>\n",
              "      <td>0</td>\n",
              "      <td>0.357775</td>\n",
              "    </tr>\n",
              "    <tr>\n",
              "      <th>97</th>\n",
              "      <td>-1.246517</td>\n",
              "      <td>0.129141</td>\n",
              "      <td>-1.390368</td>\n",
              "      <td>0.402667</td>\n",
              "      <td>0</td>\n",
              "      <td>0.360855</td>\n",
              "    </tr>\n",
              "  </tbody>\n",
              "</table>\n",
              "<p>98 rows × 6 columns</p>\n",
              "</div>\n",
              "      <button class=\"colab-df-convert\" onclick=\"convertToInteractive('df-d85d5aec-17a2-4bcc-b1a0-14eec10da4ab')\"\n",
              "              title=\"Convert this dataframe to an interactive table.\"\n",
              "              style=\"display:none;\">\n",
              "        \n",
              "  <svg xmlns=\"http://www.w3.org/2000/svg\" height=\"24px\"viewBox=\"0 0 24 24\"\n",
              "       width=\"24px\">\n",
              "    <path d=\"M0 0h24v24H0V0z\" fill=\"none\"/>\n",
              "    <path d=\"M18.56 5.44l.94 2.06.94-2.06 2.06-.94-2.06-.94-.94-2.06-.94 2.06-2.06.94zm-11 1L8.5 8.5l.94-2.06 2.06-.94-2.06-.94L8.5 2.5l-.94 2.06-2.06.94zm10 10l.94 2.06.94-2.06 2.06-.94-2.06-.94-.94-2.06-.94 2.06-2.06.94z\"/><path d=\"M17.41 7.96l-1.37-1.37c-.4-.4-.92-.59-1.43-.59-.52 0-1.04.2-1.43.59L10.3 9.45l-7.72 7.72c-.78.78-.78 2.05 0 2.83L4 21.41c.39.39.9.59 1.41.59.51 0 1.02-.2 1.41-.59l7.78-7.78 2.81-2.81c.8-.78.8-2.07 0-2.86zM5.41 20L4 18.59l7.72-7.72 1.47 1.35L5.41 20z\"/>\n",
              "  </svg>\n",
              "      </button>\n",
              "      \n",
              "  <style>\n",
              "    .colab-df-container {\n",
              "      display:flex;\n",
              "      flex-wrap:wrap;\n",
              "      gap: 12px;\n",
              "    }\n",
              "\n",
              "    .colab-df-convert {\n",
              "      background-color: #E8F0FE;\n",
              "      border: none;\n",
              "      border-radius: 50%;\n",
              "      cursor: pointer;\n",
              "      display: none;\n",
              "      fill: #1967D2;\n",
              "      height: 32px;\n",
              "      padding: 0 0 0 0;\n",
              "      width: 32px;\n",
              "    }\n",
              "\n",
              "    .colab-df-convert:hover {\n",
              "      background-color: #E2EBFA;\n",
              "      box-shadow: 0px 1px 2px rgba(60, 64, 67, 0.3), 0px 1px 3px 1px rgba(60, 64, 67, 0.15);\n",
              "      fill: #174EA6;\n",
              "    }\n",
              "\n",
              "    [theme=dark] .colab-df-convert {\n",
              "      background-color: #3B4455;\n",
              "      fill: #D2E3FC;\n",
              "    }\n",
              "\n",
              "    [theme=dark] .colab-df-convert:hover {\n",
              "      background-color: #434B5C;\n",
              "      box-shadow: 0px 1px 3px 1px rgba(0, 0, 0, 0.15);\n",
              "      filter: drop-shadow(0px 1px 2px rgba(0, 0, 0, 0.3));\n",
              "      fill: #FFFFFF;\n",
              "    }\n",
              "  </style>\n",
              "\n",
              "      <script>\n",
              "        const buttonEl =\n",
              "          document.querySelector('#df-d85d5aec-17a2-4bcc-b1a0-14eec10da4ab button.colab-df-convert');\n",
              "        buttonEl.style.display =\n",
              "          google.colab.kernel.accessAllowed ? 'block' : 'none';\n",
              "\n",
              "        async function convertToInteractive(key) {\n",
              "          const element = document.querySelector('#df-d85d5aec-17a2-4bcc-b1a0-14eec10da4ab');\n",
              "          const dataTable =\n",
              "            await google.colab.kernel.invokeFunction('convertToInteractive',\n",
              "                                                     [key], {});\n",
              "          if (!dataTable) return;\n",
              "\n",
              "          const docLinkHtml = 'Like what you see? Visit the ' +\n",
              "            '<a target=\"_blank\" href=https://colab.research.google.com/notebooks/data_table.ipynb>data table notebook</a>'\n",
              "            + ' to learn more about interactive tables.';\n",
              "          element.innerHTML = '';\n",
              "          dataTable['output_type'] = 'display_data';\n",
              "          await google.colab.output.renderOutput(dataTable, element);\n",
              "          const docLink = document.createElement('div');\n",
              "          docLink.innerHTML = docLinkHtml;\n",
              "          element.appendChild(docLink);\n",
              "        }\n",
              "      </script>\n",
              "    </div>\n",
              "  </div>\n",
              "  "
            ]
          },
          "metadata": {},
          "execution_count": 10
        }
      ]
    },
    {
      "cell_type": "markdown",
      "source": [
        "#### plot the confusion matrix and classification report for both anomaly and normal instances"
      ],
      "metadata": {
        "id": "XJMsOu-94yPH"
      }
    },
    {
      "cell_type": "code",
      "source": [
        "#plot confusion matrix \n",
        "getConfusionMatrix(knn_predictions['Anomaly'],anomalyTestingLabels,\"Confusion Matrix for {}\".format(\"KNN Model\"))\n",
        "#Anomly Detection Report\n",
        "print('\\nAnomly Detection Report for KNN Model')\n",
        "print(classification_report(anomalyTestingLabels, knn_predictions['Anomaly'],  target_names =['0','1']))"
      ],
      "metadata": {
        "colab": {
          "base_uri": "https://localhost:8080/",
          "height": 575
        },
        "id": "lZmgWX4-d-TE",
        "outputId": "b02fab2c-9a44-4474-fc13-470fe5d853ca"
      },
      "execution_count": 11,
      "outputs": [
        {
          "output_type": "stream",
          "name": "stdout",
          "text": [
            "[[ 1 11]\n",
            " [ 1 85]]\n"
          ]
        },
        {
          "output_type": "display_data",
          "data": {
            "text/plain": [
              "<Figure size 720x360 with 2 Axes>"
            ],
            "image/png": "[encoded data removed]"
          },
          "metadata": {
            "needs_background": "light"
          }
        },
        {
          "output_type": "stream",
          "name": "stdout",
          "text": [
            "\n",
            "Anomly Detection Report for KNN Model\n",
            "              precision    recall  f1-score   support\n",
            "\n",
            "           0       0.89      0.99      0.93        86\n",
            "           1       0.50      0.08      0.14        12\n",
            "\n",
            "    accuracy                           0.88        98\n",
            "   macro avg       0.69      0.54      0.54        98\n",
            "weighted avg       0.84      0.88      0.84        98\n",
            "\n"
          ]
        }
      ]
    },
    {
      "cell_type": "markdown",
      "source": [
        "#### plot 3D TSN so we can see  both anomaly and normal instances"
      ],
      "metadata": {
        "id": "K9HSR2oh47Tm"
      }
    },
    {
      "cell_type": "code",
      "source": [
        "evaluate_model(knn) \n"
      ],
      "metadata": {
        "colab": {
          "base_uri": "https://localhost:8080/",
          "height": 849,
          "referenced_widgets": [
            "70441cd28eb74729bbf399c8c85380ac",
            "0f6eb0d0fff34db7981dd3583526e42b",
            "beef4c0d986946f1b301c326538c163c",
            "12061e16d2a9412b9f29944c0a08e820",
            "aa32564d3ab240e795b39ed796c11acb",
            "d9890b06a0834476bf548bfc70acc9a9",
            "e49b0cdda236438f962bb4167573a31b",
            "f7d14198c4424e7b83def274913337b4",
            "c0c9671468d948ea9001eb7c44c94adf",
            "4304d9a05cda4091adbd55afa48c9eca"
          ]
        },
        "id": "ERPTWT76zyKH",
        "outputId": "6072e66b-c0c0-4de3-a667-7b329384532f"
      },
      "execution_count": 12,
      "outputs": [
        {
          "output_type": "display_data",
          "data": {
            "text/plain": [
              "interactive(children=(ToggleButtons(description='Plot Type:', icons=('',), options=(('Anomaly TSnE (3d)', 'tsn…"
            ],
            "application/vnd.jupyter.widget-view+json": {
              "version_major": 2,
              "version_minor": 0,
              "model_id": "70441cd28eb74729bbf399c8c85380ac"
            }
          },
          "metadata": {}
        }
      ]
    },
    {
      "cell_type": "markdown",
      "source": [
        "#### plot the 2D TSNE  to see  both anomaly and normal instances"
      ],
      "metadata": {
        "id": "Q9zoDePE5aXu"
      }
    },
    {
      "cell_type": "code",
      "source": [
        "plot_tsne(anomalyTrainingData, knn_predictions['Anomaly'], ['0','1'],\"T-SNE plot for KNN Model\")"
      ],
      "metadata": {
        "colab": {
          "base_uri": "https://localhost:8080/",
          "height": 335
        },
        "id": "lYXU5Sr6kxX4",
        "outputId": "e580e3f2-1366-468c-a002-3dc48d86aa0e"
      },
      "execution_count": 13,
      "outputs": [
        {
          "output_type": "display_data",
          "data": {
            "text/plain": [
              "<Figure size 432x360 with 1 Axes>"
            ],
            "image/png": "[encoded data removed]"
          },
          "metadata": {
            "needs_background": "light"
          }
        }
      ]
    },
    {
      "cell_type": "markdown",
      "source": [
        "### 4.2 PCA"
      ],
      "metadata": {
        "id": "ZpulRvXe5tqA"
      }
    },
    {
      "cell_type": "markdown",
      "source": [
        "#### implement the PCA"
      ],
      "metadata": {
        "id": "_8BiWn8K5yNe"
      }
    },
    {
      "cell_type": "code",
      "source": [
        "exp_name = setup(data = anomalyTrainingData)\n",
        "pca = create_model('pca')\n",
        "pca_predictions = predict_model(model = pca, data = anomalyTestingData)"
      ],
      "metadata": {
        "id": "fY-FHL6LiMLs"
      },
      "execution_count": 14,
      "outputs": []
    },
    {
      "cell_type": "markdown",
      "source": [
        "#### plot the confusion matrix and classification report for both anomaly and normal instances"
      ],
      "metadata": {
        "id": "foJEn9br53O3"
      }
    },
    {
      "cell_type": "code",
      "source": [
        "\n",
        "#plot confusion matrix \n",
        "getConfusionMatrix(pca_predictions['Anomaly'],anomalyTestingLabels,\"Confusion Matrix for {}\".format(\"PCA Model\"))\n",
        "#Anomly Detection Report\n",
        "print('\\nAnomly Detection Report for PCA Model')\n",
        "print(classification_report(anomalyTestingLabels, pca_predictions['Anomaly'],  target_names =['0','1']))"
      ],
      "metadata": {
        "colab": {
          "base_uri": "https://localhost:8080/",
          "height": 575
        },
        "id": "-KbC7JCzip3g",
        "outputId": "c12c6762-2e67-4141-f5a4-b9564392da44"
      },
      "execution_count": 15,
      "outputs": [
        {
          "output_type": "stream",
          "name": "stdout",
          "text": [
            "[[ 5  7]\n",
            " [ 0 86]]\n"
          ]
        },
        {
          "output_type": "display_data",
          "data": {
            "text/plain": [
              "<Figure size 720x360 with 2 Axes>"
            ],
            "image/png": "[encoded data removed]"
          },
          "metadata": {
            "needs_background": "light"
          }
        },
        {
          "output_type": "stream",
          "name": "stdout",
          "text": [
            "\n",
            "Anomly Detection Report for PCA Model\n",
            "              precision    recall  f1-score   support\n",
            "\n",
            "           0       0.92      1.00      0.96        86\n",
            "           1       1.00      0.42      0.59        12\n",
            "\n",
            "    accuracy                           0.93        98\n",
            "   macro avg       0.96      0.71      0.77        98\n",
            "weighted avg       0.93      0.93      0.92        98\n",
            "\n"
          ]
        }
      ]
    },
    {
      "cell_type": "markdown",
      "source": [
        "#### plot 3D TSN so we can see both anomaly and normal instances"
      ],
      "metadata": {
        "id": "urWZVpqt5_Qe"
      }
    },
    {
      "cell_type": "code",
      "source": [
        "evaluate_model(pca) \n"
      ],
      "metadata": {
        "colab": {
          "base_uri": "https://localhost:8080/",
          "height": 849,
          "referenced_widgets": [
            "14a2c08d90ce49378d5185f983f31b98",
            "15db140559b84b54aa4b0578922e72e3",
            "315e806c70274d7db3091099f87a6550",
            "2577dd46b5aa4bb298d7b75c088cd15c",
            "932592069711493bb3418ccf67adc5a9",
            "5d9a5a72e79445a0bb5a94526fa92f0a",
            "d4e8507e9e0e4ac88fdd5032411a99e9",
            "e7a03747eecf45b3b5a4e67d15489840",
            "a6de758042ca4c3cba60196e2fe02f76",
            "18a472b02f6e4093b71bc289b02c3e3c"
          ]
        },
        "id": "XLV2THAjnoQd",
        "outputId": "7f73091f-97d0-4c33-e9e7-c71d5dcdb9da"
      },
      "execution_count": 16,
      "outputs": [
        {
          "output_type": "display_data",
          "data": {
            "text/plain": [
              "interactive(children=(ToggleButtons(description='Plot Type:', icons=('',), options=(('Anomaly TSnE (3d)', 'tsn…"
            ],
            "application/vnd.jupyter.widget-view+json": {
              "version_major": 2,
              "version_minor": 0,
              "model_id": "14a2c08d90ce49378d5185f983f31b98"
            }
          },
          "metadata": {}
        }
      ]
    },
    {
      "cell_type": "markdown",
      "source": [
        "#### plot the 2D TSNE to see both anomaly and normal instances"
      ],
      "metadata": {
        "id": "T8jCuo2P6IqH"
      }
    },
    {
      "cell_type": "code",
      "source": [
        "plot_tsne(anomalyTrainingData, pca_predictions['Anomaly'], ['0','1'],\"T-SNE plot for PCA Model\")"
      ],
      "metadata": {
        "colab": {
          "base_uri": "https://localhost:8080/",
          "height": 335
        },
        "id": "uH620Af1mL2J",
        "outputId": "9785b25c-c4ee-4641-9730-d323915a27a9"
      },
      "execution_count": 17,
      "outputs": [
        {
          "output_type": "display_data",
          "data": {
            "text/plain": [
              "<Figure size 432x360 with 1 Axes>"
            ],
            "image/png": "[encoded data removed]"
          },
          "metadata": {
            "needs_background": "light"
          }
        }
      ]
    },
    {
      "cell_type": "markdown",
      "source": [
        "### 4.3 SVM "
      ],
      "metadata": {
        "id": "ot33kQOb7LkA"
      }
    },
    {
      "cell_type": "markdown",
      "source": [
        "#### implement SVM"
      ],
      "metadata": {
        "id": "jext1u2o7Up2"
      }
    },
    {
      "cell_type": "code",
      "source": [
        "exp_name = setup(data = anomalyTrainingData)\n",
        "svm = create_model('svm')\n",
        "svm_predictions = predict_model(model = svm, data = anomalyTestingData)"
      ],
      "metadata": {
        "id": "JC2VBsXoi4-8"
      },
      "execution_count": 18,
      "outputs": []
    },
    {
      "cell_type": "markdown",
      "source": [
        "#### plot the confusion matrix and classification report for both anomaly and normal instances"
      ],
      "metadata": {
        "id": "1sLM6HoR7Zmz"
      }
    },
    {
      "cell_type": "code",
      "source": [
        "#plot confusion matrix \n",
        "getConfusionMatrix(svm_predictions['Anomaly'],anomalyTestingLabels,\"Confusion Matrix for {}\".format(\"SVM Model\"))\n",
        "#Anomly Detection Report\n",
        "print('\\nAnomly Detection Report for SVM Model')\n",
        "print(classification_report(anomalyTestingLabels, svm_predictions['Anomaly'],  target_names =['0','1']))"
      ],
      "metadata": {
        "colab": {
          "base_uri": "https://localhost:8080/",
          "height": 575
        },
        "id": "vC_6uOMHjDLf",
        "outputId": "584559b7-d84f-45b4-889a-51b8d6e485a0"
      },
      "execution_count": 19,
      "outputs": [
        {
          "output_type": "stream",
          "name": "stdout",
          "text": [
            "[[ 5  7]\n",
            " [ 0 86]]\n"
          ]
        },
        {
          "output_type": "display_data",
          "data": {
            "text/plain": [
              "<Figure size 720x360 with 2 Axes>"
            ],
            "image/png": "[encoded data removed]"
          },
          "metadata": {
            "needs_background": "light"
          }
        },
        {
          "output_type": "stream",
          "name": "stdout",
          "text": [
            "\n",
            "Anomly Detection Report for SVM Model\n",
            "              precision    recall  f1-score   support\n",
            "\n",
            "           0       0.92      1.00      0.96        86\n",
            "           1       1.00      0.42      0.59        12\n",
            "\n",
            "    accuracy                           0.93        98\n",
            "   macro avg       0.96      0.71      0.77        98\n",
            "weighted avg       0.93      0.93      0.92        98\n",
            "\n"
          ]
        }
      ]
    },
    {
      "cell_type": "markdown",
      "source": [
        "#### plot 3D TSN so we can see both anomaly and normal instances"
      ],
      "metadata": {
        "id": "nbvQCEi17jy3"
      }
    },
    {
      "cell_type": "code",
      "source": [
        "evaluate_model(svm) "
      ],
      "metadata": {
        "colab": {
          "base_uri": "https://localhost:8080/",
          "height": 849,
          "referenced_widgets": [
            "2416e45f2e27436e98c4a1d52f1bc9b9",
            "76c2e6be777545d3a582e02493475752",
            "1e0292013a9c46a3affbf2be50394bd5",
            "5e0e59c832ba4690bd825bcbd161374f",
            "241f2d062e8540e8ad6e46942f47730a",
            "de709e9c84714481b8d4f3373f2ace67",
            "79cb007be4914824b4fc909e57a348de",
            "8a7f6feccfd0458898efd23aa55c3a43",
            "c86c4e3dfc15409c8724e7ef3e4962f3",
            "b10c48d4bf544f7d8bc89509b9e63853"
          ]
        },
        "id": "qgfvEqqkzsYc",
        "outputId": "33c7cdf0-deec-402b-ede5-58f348ba2c7a"
      },
      "execution_count": 20,
      "outputs": [
        {
          "output_type": "display_data",
          "data": {
            "text/plain": [
              "interactive(children=(ToggleButtons(description='Plot Type:', icons=('',), options=(('Anomaly TSnE (3d)', 'tsn…"
            ],
            "application/vnd.jupyter.widget-view+json": {
              "version_major": 2,
              "version_minor": 0,
              "model_id": "2416e45f2e27436e98c4a1d52f1bc9b9"
            }
          },
          "metadata": {}
        }
      ]
    },
    {
      "cell_type": "markdown",
      "source": [
        "#### plot the 2D TSNE to see both anomaly and normal instances"
      ],
      "metadata": {
        "id": "mTrzeftp7m-v"
      }
    },
    {
      "cell_type": "code",
      "source": [
        "plot_tsne(anomalyTrainingData, svm_predictions['Anomaly'], ['0','1'],\"T-SNE plot for SVM Model\")"
      ],
      "metadata": {
        "colab": {
          "base_uri": "https://localhost:8080/",
          "height": 335
        },
        "id": "VVhwbb5gmSSK",
        "outputId": "2262e15c-1a1c-4da6-9f94-4d52038a8f10"
      },
      "execution_count": 21,
      "outputs": [
        {
          "output_type": "display_data",
          "data": {
            "text/plain": [
              "<Figure size 432x360 with 1 Axes>"
            ],
            "image/png": "[encoded data removed]"
          },
          "metadata": {
            "needs_background": "light"
          }
        }
      ]
    },
    {
      "cell_type": "markdown",
      "source": [
        "### 4.4 DBSCAN "
      ],
      "metadata": {
        "id": "jbm10j0C72oI"
      }
    },
    {
      "cell_type": "markdown",
      "source": [
        "#### implement DBSCAN using sklearn Library"
      ],
      "metadata": {
        "id": "2lJBKC_f76BX"
      }
    },
    {
      "cell_type": "markdown",
      "source": [
        "##### Grid search to find the best parameter "
      ],
      "metadata": {
        "id": "R_gZIEhyPT7g"
      }
    },
    {
      "cell_type": "code",
      "source": [
        "from math import nan\n",
        "\n",
        "max_acc=0\n",
        "best_epsilon=0.3\n",
        "best_min_samples=2\n",
        "#0.3 & 7 \n",
        "parameters = {'eps':[0.3,0.4,0.5,0.6,0.7], 'min_samples':[2, 15]}\n",
        "for eps in tqdm(np.arange(0.3, 0.71,0.01)):\n",
        "  for ms in range(2, 16):\n",
        "    model = DBSCAN(eps=eps, min_samples=ms)\n",
        "    predLabels = model.fit_predict(anomalyTrainingData)\n",
        "    DBscananomalypredLabels=[]\n",
        "    for val in predLabels :\n",
        "      if(val!=-1):\n",
        "        DBscananomalypredLabels.append('0')\n",
        "      else:\n",
        "        DBscananomalypredLabels.append('1')\n",
        "\n",
        "    DBscananomalypredLabels =  [int(i) for i in DBscananomalypredLabels ]\n",
        "    Dbscan_acc = accuracy_score(anomalyTestingLabels, DBscananomalypredLabels)*100\n",
        "    if max_acc<Dbscan_acc:\n",
        "      \n",
        "      max_acc=Dbscan_acc\n",
        "      best_epsilon=eps\n",
        "      best_min_samples=ms\n",
        "print(max_acc)\n",
        "print(best_epsilon)\n",
        "print(best_min_samples)\n",
        "\n",
        " "
      ],
      "metadata": {
        "colab": {
          "base_uri": "https://localhost:8080/"
        },
        "id": "zurz2MC_8HV_",
        "outputId": "9a6866f8-5f8e-427f-acff-76c7f0de94eb"
      },
      "execution_count": 22,
      "outputs": [
        {
          "output_type": "stream",
          "name": "stderr",
          "text": [
            "100%|██████████| 41/41 [00:02<00:00, 17.49it/s]"
          ]
        },
        {
          "output_type": "stream",
          "name": "stdout",
          "text": [
            "96.93877551020408\n",
            "0.6100000000000003\n",
            "10\n"
          ]
        },
        {
          "output_type": "stream",
          "name": "stderr",
          "text": [
            "\n"
          ]
        }
      ]
    },
    {
      "cell_type": "code",
      "source": [
        "from math import nan\n",
        "\n",
        "model = DBSCAN(eps=best_epsilon, min_samples=best_min_samples)\n",
        "predLabels = model.fit_predict(anomalyTrainingData)\n",
        "DBscananomalypredLabels=[]\n",
        "for val in predLabels :\n",
        "  if(val!=-1):\n",
        "    DBscananomalypredLabels.append('0')\n",
        "  else:\n",
        "    DBscananomalypredLabels.append('1')\n",
        "\n",
        "DBscananomalypredLabels =  [int(i) for i in DBscananomalypredLabels ]"
      ],
      "metadata": {
        "id": "yizWj__7PeUX"
      },
      "execution_count": 23,
      "outputs": []
    },
    {
      "cell_type": "markdown",
      "source": [
        "#### plot the confusion matrix and classification report for both anomaly and normal instances"
      ],
      "metadata": {
        "id": "V-FxmJwC8MpR"
      }
    },
    {
      "cell_type": "code",
      "source": [
        "#plot confusion matrix \n",
        "getConfusionMatrix(DBscananomalypredLabels,anomalyTestingLabels,\"Confusion Matrix for {}\".format(\"DBScan Model\"))\n",
        "#Anomly Detection Report\n",
        "print('\\nAnomly Detection Report for DBScan Model')\n",
        "print(classification_report(anomalyTestingLabels,DBscananomalypredLabels,  target_names =['0','1']))"
      ],
      "metadata": {
        "colab": {
          "base_uri": "https://localhost:8080/",
          "height": 575
        },
        "id": "dke6GfV9jhyV",
        "outputId": "0d17fb33-1e9f-4a76-aedd-ac87b1798793"
      },
      "execution_count": 24,
      "outputs": [
        {
          "output_type": "stream",
          "name": "stdout",
          "text": [
            "[[11  1]\n",
            " [ 2 84]]\n"
          ]
        },
        {
          "output_type": "display_data",
          "data": {
            "text/plain": [
              "<Figure size 720x360 with 2 Axes>"
            ],
            "image/png": "[encoded data removed]"
          },
          "metadata": {
            "needs_background": "light"
          }
        },
        {
          "output_type": "stream",
          "name": "stdout",
          "text": [
            "\n",
            "Anomly Detection Report for DBScan Model\n",
            "              precision    recall  f1-score   support\n",
            "\n",
            "           0       0.99      0.98      0.98        86\n",
            "           1       0.85      0.92      0.88        12\n",
            "\n",
            "    accuracy                           0.97        98\n",
            "   macro avg       0.92      0.95      0.93        98\n",
            "weighted avg       0.97      0.97      0.97        98\n",
            "\n"
          ]
        }
      ]
    },
    {
      "cell_type": "markdown",
      "source": [
        "plot 2D TSN so we can see both anomaly and normal instances"
      ],
      "metadata": {
        "id": "_F9l7j4F8wq4"
      }
    },
    {
      "cell_type": "code",
      "source": [
        "plot_tsne(anomalyTrainingData,  pd.DataFrame(DBscananomalypredLabels).iloc[:,0], ['0','1'],\"T-SNE plot for DBScan Model\")"
      ],
      "metadata": {
        "colab": {
          "base_uri": "https://localhost:8080/",
          "height": 335
        },
        "id": "kozGRyOL8zJg",
        "outputId": "64e1077c-3c7b-4aa8-f5b3-1818b195c1bb"
      },
      "execution_count": 25,
      "outputs": [
        {
          "output_type": "display_data",
          "data": {
            "text/plain": [
              "<Figure size 432x360 with 1 Axes>"
            ],
            "image/png": "[encoded data removed]"
          },
          "metadata": {
            "needs_background": "light"
          }
        }
      ]
    },
    {
      "cell_type": "markdown",
      "source": [
        "### accuracy comparison "
      ],
      "metadata": {
        "id": "z1PF7STo-4ih"
      }
    },
    {
      "cell_type": "code",
      "source": [
        "from sklearn.metrics import accuracy_score\n",
        "knn_acc    = accuracy_score(anomalyTestingLabels, knn_predictions['Anomaly'])*100\n",
        "PCA_acc    = accuracy_score(anomalyTestingLabels, pca_predictions['Anomaly'])*100\n",
        "svm_acc    = accuracy_score(anomalyTestingLabels, svm_predictions['Anomaly'])*100\n",
        "Dbscan_acc = accuracy_score(anomalyTestingLabels, DBscananomalypredLabels)*100\n",
        "print(f\"the accuracy of KNN     model : {knn_acc} %\")\n",
        "print(f\"the accuracy of PCA     model : {PCA_acc} %\")\n",
        "print(f\"the accuracy of SVM     model : {svm_acc} %\")\n",
        "print(f\"the accuracy of DBSCAN  model : {Dbscan_acc} %\")"
      ],
      "metadata": {
        "colab": {
          "base_uri": "https://localhost:8080/"
        },
        "id": "Ub1HahtH-7ao",
        "outputId": "1d633998-666b-465a-a5ad-8c0285b021a2"
      },
      "execution_count": 26,
      "outputs": [
        {
          "output_type": "stream",
          "name": "stdout",
          "text": [
            "the accuracy of KNN     model : 87.75510204081633 %\n",
            "the accuracy of PCA     model : 92.85714285714286 %\n",
            "the accuracy of SVM     model : 92.85714285714286 %\n",
            "the accuracy of DBSCAN  model : 96.93877551020408 %\n"
          ]
        }
      ]
    },
    {
      "cell_type": "code",
      "source": [
        "import matplotlib.pyplot as plt\n",
        "fig = plt.figure()\n",
        "\n",
        "font = {\n",
        "        'weight' : 'bold',\n",
        "        'size'   : 22}\n",
        "\n",
        "plt.rc('font', **font)\n",
        "\n",
        "df = pd.DataFrame(\n",
        "   dict\n",
        "   (\n",
        "      names=['KNN', 'PCA', 'SVM', 'DBSCAN'],\n",
        "      Accuracies_Score=[knn_acc,PCA_acc,svm_acc,Dbscan_acc]\n",
        "   )\n",
        ")\n",
        "\n",
        "plt.xlabel('models names')\n",
        "plt.ylabel('Accuracies Scores ()%')\n",
        "\n",
        "df_sorted = df.sort_values('Accuracies_Score')\n",
        "plt.bar('names', 'Accuracies_Score', data=df_sorted, color='maroon',width=0.2)\n",
        "\n",
        "print(df_sorted)\n",
        "plt.show()"
      ],
      "metadata": {
        "colab": {
          "base_uri": "https://localhost:8080/",
          "height": 421
        },
        "id": "Gtx3uYVECFQj",
        "outputId": "23c382fc-fb9e-4f4d-e0ca-600191f0b28f"
      },
      "execution_count": 27,
      "outputs": [
        {
          "output_type": "stream",
          "name": "stdout",
          "text": [
            "    names  Accuracies_Score\n",
            "0     KNN         87.755102\n",
            "1     PCA         92.857143\n",
            "2     SVM         92.857143\n",
            "3  DBSCAN         96.938776\n"
          ]
        },
        {
          "output_type": "display_data",
          "data": {
            "text/plain": [
              "<Figure size 720x360 with 1 Axes>"
            ],
            "image/png": "[encoded data removed]"
          },
          "metadata": {
            "needs_background": "light"
          }
        }
      ]
    },
    {
      "cell_type": "code",
      "source": [
        "X_scatter = []\n",
        "X_scatter_index = []\n",
        "\n",
        "X_scatter_1 = []\n",
        "X_scatter_index_1 = []\n",
        "\n",
        "X_scatter_2 = []\n",
        "X_scatter_index_2 = []\n",
        "\n",
        "X_scatter_3 = []\n",
        "X_scatter_index_3 = []\n",
        "\n",
        "X_scatter_4 = []\n",
        "X_scatter_index_4 = []"
      ],
      "metadata": {
        "id": "b1sCbngEeaEA"
      },
      "execution_count": 28,
      "outputs": []
    },
    {
      "cell_type": "code",
      "source": [
        "for i in range(len(anomalyTrainingData['Follower_measure_x_follower'])):\n",
        "  # real anomlies \n",
        "  if (anomalyTestingLabels[i]==1 ):\n",
        "    X_scatter.append(anomalyTrainingData['Follower_measure_x_follower'][i])\n",
        "    X_scatter_index.append(i)\n",
        "  \n",
        "\n",
        "plt.scatter(x=X_scatter_index,y=X_scatter, c = 'red', label = 'real anomly', alpha = 1)\n",
        " \n",
        "\n",
        "plt.title('plot the model results alongside with data and compare unsupervised models')\n",
        "plt.plot(anomalyTrainingData['Follower_measure_x_follower'],label = 'Follower_measure_x_follower')\n",
        "plt.legend()\n",
        "plt.show()"
      ],
      "metadata": {
        "colab": {
          "base_uri": "https://localhost:8080/",
          "height": 335
        },
        "id": "RgRruVIce2PQ",
        "outputId": "cd7ce436-f75e-45c2-dbc3-8564d02e9dba"
      },
      "execution_count": 35,
      "outputs": [
        {
          "output_type": "display_data",
          "data": {
            "text/plain": [
              "<Figure size 720x360 with 1 Axes>"
            ],
            "image/png": "[encoded data removed]"
          },
          "metadata": {
            "needs_background": "light"
          }
        }
      ]
    },
    {
      "cell_type": "code",
      "source": [
        "\n",
        "for i in range(len(anomalyTrainingData['Follower_measure_x_follower'])):\n",
        "\n",
        "  # KNN anomlies \n",
        "  if (knn_predictions['Anomaly'][i]==1 ):\n",
        "    X_scatter_1.append(anomalyTrainingData['Follower_measure_x_follower'][i])\n",
        "    X_scatter_index_1.append(i)\n",
        "\n",
        "plt.scatter(x=X_scatter_index_1,y=X_scatter_1, c = 'blue', label = 'KNN anomly', alpha = 1)\n",
        "\n",
        "\n",
        "plt.title('plot the model results alongside with data and compare unsupervised models')\n",
        "plt.plot(anomalyTrainingData['Follower_measure_x_follower'],label = 'Follower_measure_x_follower')\n",
        "plt.legend()\n",
        "plt.show()"
      ],
      "metadata": {
        "colab": {
          "base_uri": "https://localhost:8080/",
          "height": 335
        },
        "id": "KoQaF2HjcL7t",
        "outputId": "c2c8cf7a-0e74-43f2-c586-0b36d85944ac"
      },
      "execution_count": 36,
      "outputs": [
        {
          "output_type": "display_data",
          "data": {
            "text/plain": [
              "<Figure size 720x360 with 1 Axes>"
            ],
            "image/png": "[encoded data removed]"
          },
          "metadata": {
            "needs_background": "light"
          }
        }
      ]
    },
    {
      "cell_type": "code",
      "source": [
        "for i in range(len(anomalyTrainingData['Follower_measure_x_follower'])):\n",
        "  \n",
        "  # SVM anomlies \n",
        "  if (svm_predictions['Anomaly'][i]==1 ):\n",
        "    X_scatter_2.append(anomalyTrainingData['Follower_measure_x_follower'][i])\n",
        "    X_scatter_index_2.append(i)\n",
        "  \n",
        " \n",
        "plt.scatter(x=X_scatter_index_2,y=X_scatter_2, c = 'green', label = 'SVM anomly', alpha = 1)\n",
        " \n",
        "\n",
        "plt.title('plot the model results alongside with data and compare unsupervised models')\n",
        "plt.plot(anomalyTrainingData['Follower_measure_x_follower'],label = 'Follower_measure_x_follower')\n",
        "plt.legend()\n",
        "plt.show()"
      ],
      "metadata": {
        "colab": {
          "base_uri": "https://localhost:8080/",
          "height": 335
        },
        "id": "U-M_rVR0eh48",
        "outputId": "b81d2c55-0fef-4da0-a94b-167a6748bb29"
      },
      "execution_count": 37,
      "outputs": [
        {
          "output_type": "display_data",
          "data": {
            "text/plain": [
              "<Figure size 720x360 with 1 Axes>"
            ],
            "image/png": "[encoded data removed]"
          },
          "metadata": {
            "needs_background": "light"
          }
        }
      ]
    },
    {
      "cell_type": "code",
      "source": [
        "for i in range(len(anomalyTrainingData['Follower_measure_x_follower'])):\n",
        "  \n",
        "  # PCA anolies \n",
        "  if (pca_predictions['Anomaly'][i]==1 ):\n",
        "    X_scatter_3.append(anomalyTrainingData['Follower_measure_x_follower'][i])\n",
        "    X_scatter_index_3.append(i)\n",
        " \n",
        "\n",
        " \n",
        "plt.scatter(x=X_scatter_index_3,y=X_scatter_3, c = 'grey', label = 'PCA anomly', alpha = 1)\n",
        " \n",
        "plt.title('plot the model results alongside with data and compare unsupervised models')\n",
        "plt.plot(anomalyTrainingData['Follower_measure_x_follower'],label = 'Follower_measure_x_follower')\n",
        "plt.legend()\n",
        "plt.show()"
      ],
      "metadata": {
        "colab": {
          "base_uri": "https://localhost:8080/",
          "height": 335
        },
        "id": "CGVIx_gJeoHo",
        "outputId": "12359b29-efcb-40a9-9bfb-17034d830177"
      },
      "execution_count": 38,
      "outputs": [
        {
          "output_type": "display_data",
          "data": {
            "text/plain": [
              "<Figure size 720x360 with 1 Axes>"
            ],
            "image/png": "[encoded data removed]"
          },
          "metadata": {
            "needs_background": "light"
          }
        }
      ]
    },
    {
      "cell_type": "code",
      "source": [
        "for i in range(len(anomalyTrainingData['Follower_measure_x_follower'])):\n",
        "   \n",
        "  # DBSCAN anolies \n",
        "  if (DBscananomalypredLabels[i]==1 ):\n",
        "    X_scatter_4.append(anomalyTrainingData['Follower_measure_x_follower'][i])\n",
        "    X_scatter_index_4.append(i)\n",
        "\n",
        "\n",
        "plt.scatter(x=X_scatter_index_4,y=X_scatter_4, c = 'maroon', label = 'DBSCAN anomly', alpha = 1)\n",
        "\n",
        "plt.title('plot the model results alongside with data and compare unsupervised models')\n",
        "plt.plot(anomalyTrainingData['Follower_measure_x_follower'],label = 'Follower_measure_x_follower')\n",
        "plt.legend()\n",
        "plt.show()"
      ],
      "metadata": {
        "colab": {
          "base_uri": "https://localhost:8080/",
          "height": 335
        },
        "id": "qiUInCloewQ4",
        "outputId": "5bba171d-e438-404e-b364-503dce5034ac"
      },
      "execution_count": 39,
      "outputs": [
        {
          "output_type": "display_data",
          "data": {
            "text/plain": [
              "<Figure size 720x360 with 1 Axes>"
            ],
            "image/png": "[encoded data removed]"
          },
          "metadata": {
            "needs_background": "light"
          }
        }
      ]
    },
    {
      "cell_type": "code",
      "source": [
        ""
      ],
      "metadata": {
        "id": "MXQPAXsyfqof"
      },
      "execution_count": 33,
      "outputs": []
    }
  ]
}